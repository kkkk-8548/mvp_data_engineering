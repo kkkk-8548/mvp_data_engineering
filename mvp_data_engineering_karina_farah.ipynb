{
 "cells": [
  {
   "cell_type": "markdown",
   "metadata": {
    "application/vnd.databricks.v1+cell": {
     "cellMetadata": {
      "byteLimit": 2048000,
      "rowLimit": 10000
     },
     "inputWidgets": {},
     "nuid": "ce7f9f49-086a-4bf8-b697-cb0f549a0f3b",
     "showTitle": false,
     "tableResultSettingsMap": {},
     "title": ""
    }
   },
   "source": [
    "# MVP Engenharia de Dados \n",
    "\n",
    "\n",
    "## Introdução\n",
    "\n",
    "\n",
    "###  **1. Objetivo:**\n",
    "  \n",
    "### - Definição e Descrição do Problema:\n",
    "Este trabalho explora dados da Fórmula 1 a fim de desenvolver uma pipeline de dados para análise dos dados e analisar pilotos, escuderias e corridas da Fórmula 1. Utilizando técnicas de análise de dados e engenharia de dados, no caso deste trabalho será aplicada a arquitetura medalhão (camadas bronze, prata e ouro).\n",
    "\n",
    "\n",
    "### - Premissas e Hipóteses:\n",
    "O dataset contém informações detalhadas sobre a Fórmula 1, incluindo variáveis como informações de corridas e suas localidades, pilotos, campeonato de pilotos e de construtores e tempo de voltas.  \n",
    "\n",
    "### - Restrições e Condições dos Dados:\n",
    "Os dados possuem informações de diversas informações entre 1950 e 2024.\n"
   ]
  },
  {
   "cell_type": "markdown",
   "metadata": {
    "application/vnd.databricks.v1+cell": {
     "cellMetadata": {
      "byteLimit": 2048000,
      "rowLimit": 10000
     },
     "inputWidgets": {},
     "nuid": "6eebdc50-e717-4387-a4b3-e0e8647a12cc",
     "showTitle": false,
     "tableResultSettingsMap": {},
     "title": ""
    }
   },
   "source": [
    "### **2. Informações sobre os Dados:**\n",
    "\n",
    "**2.1 Origem dos Dados**: \n",
    "  \n",
    "  Dataset escolhido do [Kaggle](https://www.kaggle.com/datasets/rohanrao/formula-1-world-championship-1950-2020?select=races.csv) por mostrar detalhamante dados da Fórmula 1.\n",
    "    \n",
    "**2.2 Catálogo dos Dados:**\n",
    "\n",
    "  **_2.2.1 Camada Bronze:_**\n",
    "\n",
    "\n",
    "- Tabela: f_results\n",
    "\n",
    "\n",
    "| Nome da Coluna       | Categoria do Dado | Valor Mínimo | Valor Máximo | Descrição            |\n",
    "|----------------------|-------------------|--------------|--------------|-----------------------|\n",
    "| resultId             | Numérico          | 1            | 26759        | Identificador único para o resultado da corrida.      |\n",
    "| raceId               | Numérico          | 1            | 1103         | Identificador da corrida. |\n",
    "| driverId             | Numérico          | 1            | 854          | Identificador do piloto. |\n",
    "| constructorId        | Numérico          | 1            | 214          | Identificador do construtor. |\n",
    "| number               | Categórico        | -            | -            | Número do carro usado pelo piloto. |\n",
    "| grid                 | Numérico          | 0            | 35           | Posição de largada no grid. |\n",
    "| position             | Categórico        | -            | -            | Posição final do piloto |\n",
    "| positionText         | Categórico        | -            | -            | Texto representando a posição final (ex: 'R' para retirado). |\n",
    "| positionOrder        | Numérico          | 1            | 39           | Posição final em formato numérico. |\n",
    "| points               | Numérico          | 0.0          | 50.0         | Pontos ganhos na corrida. |\n",
    "| laps                 | Numérico          | 0            | 200          | Número de voltas completadas. |\n",
    "| time                 | Numérico        | -            | -            | Tempo final ou diferença de tempo. |\n",
    "| milliseconds         | Numérico        | -            | -            | Tempo total em milissegundos. |\n",
    "| fastestLap           | Numérico        | -            | -            | Número da volta mais rápida do piloto. |\n",
    "| rank                 | Numérico        | -            | -            | Ranking da volta mais rápida em relação aos outros pilotos. |\n",
    "| fastestLapTime       | Numérico        | -            | -            | Tempo da volta mais rápida. |\n",
    "| fastestLapSpeed      | Numérico        | -            | -            | Velocidade média da volta mais rápida. |\n",
    "| statusId             | Numérico          | 0            | 164          | Identificador do status final (ex: terminado, acidente, etc.). |\n",
    "\n",
    "\n",
    "\n",
    "\n",
    "- Tabela: d_circuits\n",
    "\n",
    "| Nome da Coluna | Categoria do Dado | Valor Mínimo | Valor Máximo | Descrição |\n",
    "|----------------|-------------------|--------------|--------------|-----------|\n",
    "| circuitId      | Numérico          | 1            | 77           | Identificador único do circuito no banco de dados. |\n",
    "| circuitRef     | Categórico        | -            | -            | Nome de referência (slug) usado para identificar o circuito em sistemas. |\n",
    "| name           | Categórico        | -            | -            | Nome completo do circuito conforme utilizado oficialmente. |\n",
    "| location       | Categórico        | -            | -            | Cidade ou localidade onde o circuito está situado. |\n",
    "| country        | Categórico        | -            | -            | País em que o circuito está localizado. |\n",
    "| lat            | Numérico          | -41.3272     | 52.0786      | Latitude geográfica do circuito (coordenada GPS). |\n",
    "| lng            | Numérico          | -179.9833    | 174.7633     | Longitude geográfica do circuito (coordenada GPS). |\n",
    "| alt            | Numérico          | -5           | 785          | Altitude do circuito em metros acima do nível do mar. |\n",
    "| url            | Categórico        | -            | -            | URL para a página oficial ou Wikipedia do circuito. |\n",
    "\n",
    "\n",
    "-Tabela: d_constructors\n",
    "\n",
    "| Nome da Coluna  | Categoria do Dado | Valor Mínimo | Valor Máximo | Descrição |\n",
    "|-----------------|-------------------|--------------|--------------|-----------|\n",
    "| constructorId   | Numérico          | 1            | 212          | Identificador único de cada construtora no banco de dados. |\n",
    "| constructorRef  | Categórico        | -            | -            | Nome de referência (slug) da construtora utilizado em sistemas. |\n",
    "| name            | Categórico        | -            | -            | Nome oficial da equipe/construtora. |\n",
    "| nationality     | Categórico        | -            | -            | Nacionalidade da equipe/construtora. |\n",
    "| url             | Categórico        | -            | -            | URL da página oficial ou Wikipedia da construtora. |\n",
    "\n",
    "-Tabela: d_drivers\n",
    "\n",
    "| Nome da Coluna      | Categoria do Dado | Valor Mínimo | Valor Máximo | Descrição                                                                 |\n",
    "|---------------------|-------------------|--------------|--------------|---------------------------------------------------------------------------|\n",
    "| driverId          | Numérico          | 1            | 862          | Identificador único do piloto.                                           |\n",
    "| driverRef         | Categórico        | -            | -            | Referência única do piloto.         |\n",
    "| number            | Numérico          | 1            | 99           | Número do carro do piloto.                    |\n",
    "| code             | Categórico        | -            | -            | Código abreviado do piloto (3 letras).    |\n",
    "| forename          | Categórico        | -            | -            | Primeiro nome do piloto.                                                 |\n",
    "| surname          | Categórico        | -            | -            | Sobrenome do piloto.                                                     |\n",
    "| dob               | Categórico        | 1899-08-03   | 2005-05-08   | Data de nascimento do piloto.                       |\n",
    "| nationality       | Categórico        | -            | -            | Nacionalidade do piloto.                                                 |\n",
    "| url               | Categórico        | -            | -            | URL da página da Wikipédia do piloto.                                    |\n",
    "\n",
    "\n",
    "-Tabela: d_race\n",
    "\n",
    "\n",
    "| Nome da Coluna      | Categoria do Dado | Valor Mínimo | Valor Máximo | Descrição                                                                 |\n",
    "|----------------------|-------------------|--------------|--------------|---------------------------------------------------------------------------|\n",
    "| raceId              | Numérico          | 1            | 761          | Identificador único da corrida.                                          |\n",
    "| year                | Numérico          | 1959         | 2024         | Ano em que a corrida foi realizada.                                      |\n",
    "| round               | Numérico          | 1            | 19           | Número da rodada no campeonato da temporada.                             |\n",
    "| circuitId           | Numérico          | 1            | 70           | Identificador único do circuito onde a corrida foi realizada.            |\n",
    "| name                | Categórico        | -            | -            | Nome oficial da corrida.                   |\n",
    "| date                | Categórico        | -            | -            | Data em que a corrida foi realizada.                |\n",
    "| time                | Categórico        | -            | -            | Horário de início da corrida (formato HH:MM:SS).     |\n",
    "| url                 | Categórico        | -            | -            | URL da Wikipedia com informações sobre a corrida.                        |\n",
    "| fp1_date            | Categórico        | -            | -            | Data da primeira sessão de treinos livres.            |\n",
    "| fp1_time            | Categórico        | -            | -            | Horário da primeira sessão de treinos livres.       |\n",
    "| fp2_date            | Categórico        | -            | -            | Data da segunda sessão de treinos livres.            |\n",
    "| fp2_time            | Categórico        | -            | -            | Horário da segunda sessão de treinos livres.        |\n",
    "| fp3_date            | Categórico        | -            | -            | Data da terceira sessão de treinos livres.           |\n",
    "| fp3_time            | Categórico        | -            | -            | Horário da terceira sessão de treinos livres.      |\n",
    "| quali_date          | Categórico        | -            | -            | Data da sessão de classificação.                    |\n",
    "| quali_time          | Categórico        | -            | -            | Horário da sessão de classificação.                  |\n",
    "| sprint_date         | Categórico        | -            | -            | Data da corrida sprint (quando aplicável).            |\n",
    "| sprint_time         | Categórico        | -            | -            | Horário da corrida sprint (quando aplicável).       |\n",
    "\n",
    "\n",
    "\n",
    "**_2.2.2 Camada Silver_**\n",
    "\n",
    "-Tabela: fact_results\n",
    "\n",
    "\n",
    "| Nome da Coluna       | Categoria do Dado | Valor Mínimo | Valor Máximo | Descrição            |\n",
    "|----------------------|-------------------|--------------|--------------|-----------------------|\n",
    "| result_id             | Numérico          | 1            | 26759        | Identificador único para o resultado da corrida.      |\n",
    "| race_id               | Numérico          | 1            | 1103         | Identificador da corrida. |\n",
    "| driver_id             | Numérico          | 1            | 854          | Identificador do piloto. |\n",
    "| constructor_id        | Numérico          | 1            | 214          | Identificador do construtor. |\n",
    "| car_number               | Categórico        | -            | -            | Número do carro usado pelo piloto. |\n",
    "| position_grid                 | Numérico          | 0            | 35           | Posição de largada no grid. |\n",
    "| final_position             | Categórico        | -            | -            | Posição final do piloto |\n",
    "| oficial_position       | Numérico          | 1            | 39           | Posição final em formato numérico. |\n",
    "| race_points               | Numérico          | 0.0          | 50.0         | Pontos ganhos na corrida. |\n",
    "| number_laps                 | Numérico          | 0            | 200          | Número de voltas completadas. |\n",
    "| time_milliseconds         | Numérico        | -            | -            | Tempo total em milissegundos. |\n",
    "| fastest_lap_time_speed      | Numérico        | -            | -            | Velocidade média da volta mais rápida. |\n",
    "\n",
    "\n",
    "- Tabela: dim_circuits\n",
    "\n",
    "| Nome da Coluna | Categoria do Dado | Valor Mínimo | Valor Máximo | Descrição |\n",
    "|----------------|-------------------|--------------|--------------|-----------|\n",
    "| circuit_id      | Numérico          | 1            | 77           | Identificador único do circuito no banco de dados. |\n",
    "| circuit_ref     | Categórico        | -            | -            | Nome de referência (slug) usado para identificar o circuito em sistemas. |\n",
    "| circuit_name           | Categórico        | -            | -            | Nome completo do circuito conforme utilizado oficialmente. |\n",
    "| circuit_location       | Categórico        | -            | -            | Cidade ou localidade onde o circuito está situado. |\n",
    "| circuit_country        | Categórico        | -            | -            | País em que o circuito está localizado. |\n",
    "\n",
    "\n",
    "- Tabela: dim_constructors:\n",
    "\n",
    "| Nome da Coluna  | Categoria do Dado | Valor Mínimo | Valor Máximo | Descrição |\n",
    "|-----------------|-------------------|--------------|--------------|-----------|\n",
    "| constructor_id   | Numérico          | 1            | 212          | Identificador único de cada construtora no banco de dados. |\n",
    "| constructor_ref  | Categórico        | -            | -            | Nome de referência (slug) da construtora utilizado em sistemas. |\n",
    "| constructor_name            | Categórico        | -            | -            | Nome oficial da equipe/construtora. |\n",
    "| constructor_nationality     | Categórico        | -            | -            | Nacionalidade da equipe/construtora. |\n",
    "\n",
    "\n",
    "- Tabela: dim_drivers\n",
    "\n",
    "| Nome da Coluna      | Categoria do Dado | Valor Mínimo | Valor Máximo | Descrição                                                                 |\n",
    "|---------------------|-------------------|--------------|--------------|---------------------------------------------------------------------------|\n",
    "| driver_id          | Numérico          | 1            | 862          | Identificador único do piloto.                                           |\n",
    "| driver_ref         | Categórico        | -            | -            | Referência única do piloto.         |\n",
    "| car_number            | Numérico          | 1            | 99           | Número do carro do piloto.                    |\n",
    "| driver_code             | Categórico        | -            | -            | Código abreviado do piloto (3 letras).    |\n",
    "| driver_forename          | Categórico        | -            | -            | Primeiro nome do piloto.                                                 |\n",
    "| driver_surname          | Categórico        | -            | -            | Sobrenome do piloto.                                                     |\n",
    "| driver_name          | Categórico        | -            | -            | Nome e sobrenome do piloto.                                                     |\n",
    "| driver_birthday               | Categórico        | 1899-08-03   | 2005-05-08   | Data de nascimento do piloto.                       |\n",
    "| driver_nationality       | Categórico        | -            | -            | Nacionalidade do piloto.                                                 |\n",
    "\n",
    "\n",
    "-Tabela: dim_races\n",
    "\n",
    "\n",
    "| Nome da Coluna      | Categoria do Dado | Valor Mínimo | Valor Máximo | Descrição                                                                 |\n",
    "|----------------------|-------------------|--------------|--------------|---------------------------------------------------------------------------|\n",
    "| race_id              | Numérico          | 1            | 761          | Identificador único da corrida.                                          |\n",
    "| race_year                | Numérico          | 1959         | 2024         | Ano em que a corrida foi realizada.                                      |\n",
    "| race_round_number               | Numérico          | 1            | 19           | Número da rodada no campeonato da temporada.                             |\n",
    "| circuit_id           | Numérico          | 1            | 70           | Identificador único do circuito onde a corrida foi realizada.            |\n",
    "| circuit_name                | Categórico        | -            | -            | Nome oficial da corrida.                   |\n",
    "| race_date                | Categórico        | -            | -            | Data em que a corrida foi realizada.                |\n",
    "\n",
    "\n",
    "\n",
    "**_2.2.3 Camada Gold_**\n",
    "\n",
    "| Nome da Coluna       | Categoria do Dado | Valor Mínimo | Valor Máximo | Descrição            |\n",
    "|----------------------|-------------------|--------------|--------------|-----------------------|\n",
    "| result_id             | Numérico          | 1            | 26759        | Identificador único para o resultado da corrida.      |\n",
    "| race_date                | Categórico        | -            | -            | Data em que a corrida foi realizada.                |\n",
    "| race_id               | Numérico          | 1            | 1103         | Identificador da corrida. |\n",
    "| driver_id             | Numérico          | 1            | 854          | Identificador do piloto. |\n",
    "| driver_name          | Categórico        | -            | -            | Nome e sobrenome do piloto.                                                     |\n",
    "| constructor_name            | Categórico        | -            | -            | Nome oficial da equipe/construtora. |\n",
    "| oficial_position       | Numérico          | 1            | 39           | Posição final em formato numérico. |\n",
    "| position_grid                 | Numérico          | 0            | 35           | Posição de largada no grid. |\n",
    "| final_position             | Categórico        | -            | -            | Posição final do piloto |\n",
    "| circuit_country        | Categórico        | -            | -            | País em que o circuito está localizado. |\n"
   ]
  },
  {
   "cell_type": "markdown",
   "metadata": {
    "application/vnd.databricks.v1+cell": {
     "cellMetadata": {
      "byteLimit": 2048000,
      "rowLimit": 10000
     },
     "inputWidgets": {},
     "nuid": "cb4bde54-5b1f-4f9d-b590-88c9f965510e",
     "showTitle": false,
     "tableResultSettingsMap": {},
     "title": ""
    }
   },
   "source": [
    "**2.3 Visualização do Star Schema**"
   ]
  },
  {
   "cell_type": "markdown",
   "metadata": {
    "application/vnd.databricks.v1+cell": {
     "cellMetadata": {
      "byteLimit": 2048000,
      "rowLimit": 10000
     },
     "inputWidgets": {},
     "nuid": "7f4c2a0c-b08a-43dc-a51f-f0b683ea737b",
     "showTitle": false,
     "tableResultSettingsMap": {},
     "title": ""
    }
   },
   "source": [
    "![Star Schema](https://github.com/kkkk-8548/mvp_data_engineering/blob/main/star%20schema%20mvp.png?raw=True)"
   ]
  },
  {
   "cell_type": "markdown",
   "metadata": {
    "application/vnd.databricks.v1+cell": {
     "cellMetadata": {},
     "inputWidgets": {},
     "nuid": "77550c19-6b5d-43ac-a8d7-fc9cda0ce27c",
     "showTitle": false,
     "tableResultSettingsMap": {},
     "title": ""
    }
   },
   "source": [
    "NN = not null"
   ]
  },
  {
   "cell_type": "markdown",
   "metadata": {
    "application/vnd.databricks.v1+cell": {
     "cellMetadata": {
      "byteLimit": 2048000,
      "rowLimit": 10000
     },
     "inputWidgets": {},
     "nuid": "3a36ebe6-c09c-4e1f-9ee0-65916beadfbd",
     "showTitle": false,
     "tableResultSettingsMap": {},
     "title": ""
    }
   },
   "source": [
    "### **3. Carregamento dos Dados:**\n",
    "\n",
    "  Primeiro serão inclusos via pandas os datasets e em seguida serão carregados no database, conforme arquitetura medalhão."
   ]
  },
  {
   "cell_type": "code",
   "execution_count": 0,
   "metadata": {
    "application/vnd.databricks.v1+cell": {
     "cellMetadata": {
      "byteLimit": 2048000,
      "rowLimit": 10000
     },
     "inputWidgets": {},
     "nuid": "adf28696-b4ee-402b-b28a-8b6285fd551d",
     "showTitle": false,
     "tableResultSettingsMap": {},
     "title": ""
    }
   },
   "outputs": [
    {
     "output_type": "display_data",
     "data": {
      "application/vnd.databricks.v1+bamboolib_hint": "{\"pd.DataFrames\": [], \"version\": \"0.0.1\"}",
      "text/plain": []
     },
     "metadata": {},
     "output_type": "display_data"
    }
   ],
   "source": [
    "#importando as bibliotecas necessárias\n",
    "import pandas as pd\n",
    "import io\n",
    "import requests\n",
    "\n",
    "#incluindo as tabelas \n",
    "race_url = \"https://raw.githubusercontent.com/kkkk-8548/mvp_data_engineering/refs/heads/main/races.csv\"\n",
    "race_df = pd.read_csv(race_url, sep=',')\n",
    "\n",
    "results_url = \"https://raw.githubusercontent.com/kkkk-8548/mvp_data_engineering/refs/heads/main/results.csv\"\n",
    "results_df = pd.read_csv(results_url, sep=',')\n",
    "\n",
    "circuits_url = \"https://raw.githubusercontent.com/kkkk-8548/mvp_data_engineering/refs/heads/main/circuits.csv\"\n",
    "circuits_df = pd.read_csv(circuits_url, sep=',')\n",
    "\n",
    "constructors_url = \"https://raw.githubusercontent.com/kkkk-8548/mvp_data_engineering/refs/heads/main/constructors.csv\"\n",
    "constructors_df = pd.read_csv(constructors_url, sep=',')\n",
    "\n",
    "drivers_url = \"https://raw.githubusercontent.com/kkkk-8548/mvp_data_engineering/refs/heads/main/drivers.csv\"\n",
    "drivers_df = pd.read_csv(drivers_url, sep=',')\n",
    "\n",
    "\n"
   ]
  },
  {
   "cell_type": "code",
   "execution_count": 0,
   "metadata": {
    "application/vnd.databricks.v1+cell": {
     "cellMetadata": {
      "byteLimit": 2048000,
      "implicitDf": true,
      "rowLimit": 10000
     },
     "inputWidgets": {},
     "nuid": "afa9b516-20c3-45e3-a850-e7d3d39c464a",
     "showTitle": false,
     "tableResultSettingsMap": {},
     "title": ""
    }
   },
   "outputs": [
    {
     "output_type": "display_data",
     "data": {
      "text/html": [
       "<style scoped>\n",
       "  .table-result-container {\n",
       "    max-height: 300px;\n",
       "    overflow: auto;\n",
       "  }\n",
       "  table, th, td {\n",
       "    border: 1px solid black;\n",
       "    border-collapse: collapse;\n",
       "  }\n",
       "  th, td {\n",
       "    padding: 5px;\n",
       "  }\n",
       "  th {\n",
       "    text-align: left;\n",
       "  }\n",
       "</style><div class='table-result-container'><table class='table-result'><thead style='background-color: white'><tr></tr></thead><tbody></tbody></table></div>"
      ]
     },
     "metadata": {
      "application/vnd.databricks.v1+output": {
       "addedWidgets": {},
       "aggData": [],
       "aggError": "",
       "aggOverflow": false,
       "aggSchema": [],
       "aggSeriesLimitReached": false,
       "aggType": "",
       "arguments": {},
       "columnCustomDisplayInfos": {},
       "data": [],
       "datasetInfos": [],
       "dbfsResultPath": null,
       "isJsonSchema": true,
       "metadata": {},
       "overflow": false,
       "plotOptions": {
        "customPlotOptions": {},
        "displayType": "table",
        "pivotAggregation": null,
        "pivotColumns": null,
        "xColumns": null,
        "yColumns": null
       },
       "removedWidgets": [],
       "schema": [],
       "type": "table"
      }
     },
     "output_type": "display_data"
    }
   ],
   "source": [
    "%sql\n",
    "--criação do database aonde ficarão armazenados as tabelas dessa camada\n",
    "DROP DATABASE IF EXISTS bronze CASCADE;\n",
    "CREATE DATABASE bronze;\n",
    "--criando a camada bronze no database"
   ]
  },
  {
   "cell_type": "code",
   "execution_count": 0,
   "metadata": {
    "application/vnd.databricks.v1+cell": {
     "cellMetadata": {
      "byteLimit": 2048000,
      "rowLimit": 10000
     },
     "inputWidgets": {},
     "nuid": "c627f1b5-df9a-45f0-952f-71a7b3aeff80",
     "showTitle": false,
     "tableResultSettingsMap": {},
     "title": ""
    }
   },
   "outputs": [],
   "source": [
    "##incluindo as tabelas no database \n",
    "race_df_spark_df = spark.createDataFrame(race_df)\n",
    "race_df_spark_df.write.mode(\"overwrite\").saveAsTable(\"bronze.d_race\")\n",
    "\n",
    "results_df_spark_df = spark.createDataFrame(results_df)\n",
    "results_df_spark_df.write.mode(\"overwrite\").saveAsTable(\"bronze.f_results\")\n",
    "\n",
    "circuits_df_spark_df = spark.createDataFrame(circuits_df)\n",
    "circuits_df_spark_df.write.mode(\"overwrite\").saveAsTable(\"bronze.d_circuits\")\n",
    "\n",
    "constructors_df_spark_df = spark.createDataFrame(constructors_df)\n",
    "constructors_df_spark_df.write.mode(\"overwrite\").saveAsTable(\"bronze.d_constructors\")\n",
    "\n",
    "drivers_df_spark_df = spark.createDataFrame(drivers_df)\n",
    "drivers_df_spark_df.write.mode(\"overwrite\").saveAsTable(\"bronze.d_drivers\")\n"
   ]
  },
  {
   "cell_type": "markdown",
   "metadata": {
    "application/vnd.databricks.v1+cell": {
     "cellMetadata": {
      "byteLimit": 2048000,
      "rowLimit": 10000
     },
     "inputWidgets": {},
     "nuid": "47f40574-5938-4ec7-be88-2f9ef938d83c",
     "showTitle": false,
     "tableResultSettingsMap": {},
     "title": ""
    }
   },
   "source": [
    "**3.1 Qualidade dos dados:**"
   ]
  },
  {
   "cell_type": "code",
   "execution_count": 0,
   "metadata": {
    "application/vnd.databricks.v1+cell": {
     "cellMetadata": {
      "byteLimit": 2048000,
      "rowLimit": 10000
     },
     "inputWidgets": {},
     "nuid": "7f9f6ac9-5994-4353-8aa0-8038d1ba5458",
     "showTitle": false,
     "tableResultSettingsMap": {},
     "title": ""
    }
   },
   "outputs": [
    {
     "output_type": "stream",
     "name": "stdout",
     "output_type": "stream",
     "text": [
      "Out[4]: raceId         0\nyear           0\nround          0\ncircuitId      0\nname           0\ndate           0\ntime           0\nurl            0\nfp1_date       0\nfp1_time       0\nfp2_date       0\nfp2_time       0\nfp3_date       0\nfp3_time       0\nquali_date     0\nquali_time     0\nsprint_date    0\nsprint_time    0\ndtype: int64"
     ]
    }
   ],
   "source": [
    "## verificando se há valores faltantes em cada uma das tabelas\n",
    "race_df.isnull().sum()"
   ]
  },
  {
   "cell_type": "code",
   "execution_count": 0,
   "metadata": {
    "application/vnd.databricks.v1+cell": {
     "cellMetadata": {
      "byteLimit": 2048000,
      "rowLimit": 10000
     },
     "inputWidgets": {},
     "nuid": "a2587129-fb21-4f97-83de-75edfa9e09dc",
     "showTitle": false,
     "tableResultSettingsMap": {},
     "title": ""
    }
   },
   "outputs": [
    {
     "output_type": "stream",
     "name": "stdout",
     "output_type": "stream",
     "text": [
      "Out[5]: resultId           0\nraceId             0\ndriverId           0\nconstructorId      0\nnumber             0\ngrid               0\nposition           0\npositionText       0\npositionOrder      0\npoints             0\nlaps               0\ntime               0\nmilliseconds       0\nfastestLap         0\nrank               0\nfastestLapTime     0\nfastestLapSpeed    0\nstatusId           0\ndtype: int64"
     ]
    }
   ],
   "source": [
    "results_df.isnull().sum()"
   ]
  },
  {
   "cell_type": "code",
   "execution_count": 0,
   "metadata": {
    "application/vnd.databricks.v1+cell": {
     "cellMetadata": {
      "byteLimit": 2048000,
      "rowLimit": 10000
     },
     "inputWidgets": {},
     "nuid": "29baeae9-06a6-4401-aa0e-705c6ff19175",
     "showTitle": false,
     "tableResultSettingsMap": {},
     "title": ""
    }
   },
   "outputs": [
    {
     "output_type": "stream",
     "name": "stdout",
     "output_type": "stream",
     "text": [
      "Out[6]: circuitId     0\ncircuitRef    0\nname          0\nlocation      0\ncountry       0\nlat           0\nlng           0\nalt           0\nurl           0\ndtype: int64"
     ]
    }
   ],
   "source": [
    "circuits_df.isnull().sum()\n"
   ]
  },
  {
   "cell_type": "code",
   "execution_count": 0,
   "metadata": {
    "application/vnd.databricks.v1+cell": {
     "cellMetadata": {
      "byteLimit": 2048000,
      "rowLimit": 10000
     },
     "inputWidgets": {},
     "nuid": "3ba3dca7-dfb5-4cb1-a514-e9a02ad237d6",
     "showTitle": false,
     "tableResultSettingsMap": {},
     "title": ""
    }
   },
   "outputs": [
    {
     "output_type": "stream",
     "name": "stdout",
     "output_type": "stream",
     "text": [
      "Out[7]: constructorId     0\nconstructorRef    0\nname              0\nnationality       0\nurl               0\ndtype: int64"
     ]
    }
   ],
   "source": [
    "constructors_df.isnull().sum()"
   ]
  },
  {
   "cell_type": "code",
   "execution_count": 0,
   "metadata": {
    "application/vnd.databricks.v1+cell": {
     "cellMetadata": {
      "byteLimit": 2048000,
      "rowLimit": 10000
     },
     "inputWidgets": {},
     "nuid": "3f204f8c-1cb6-47e1-9a3b-fa210a2d8b82",
     "showTitle": false,
     "tableResultSettingsMap": {},
     "title": ""
    }
   },
   "outputs": [
    {
     "output_type": "stream",
     "name": "stdout",
     "output_type": "stream",
     "text": [
      "Out[8]: driverId       0\ndriverRef      0\nnumber         0\ncode           0\nforename       0\nsurname        0\ndob            0\nnationality    0\nurl            0\ndtype: int64"
     ]
    }
   ],
   "source": [
    "drivers_df.isnull().sum()"
   ]
  },
  {
   "cell_type": "markdown",
   "metadata": {
    "application/vnd.databricks.v1+cell": {
     "cellMetadata": {
      "byteLimit": 2048000,
      "rowLimit": 10000
     },
     "inputWidgets": {},
     "nuid": "dc84a1ad-b488-4ed6-a6d6-cdc207f99f1a",
     "showTitle": false,
     "tableResultSettingsMap": {},
     "title": ""
    }
   },
   "source": [
    "**3.2 Tratamento dos dados:**\n",
    "\n",
    "  Verificando o tipo dos dados das tabelas da camada bronze e também filtrando pelos atributos que serão necessários para responder as perguntas referente a estes datasets, a fim de entregar os dados de uma maneira mais ajustada na camada prata."
   ]
  },
  {
   "cell_type": "code",
   "execution_count": 0,
   "metadata": {
    "application/vnd.databricks.v1+cell": {
     "cellMetadata": {
      "byteLimit": 2048000,
      "implicitDf": true,
      "rowLimit": 10000
     },
     "inputWidgets": {},
     "nuid": "b36ebafc-d89b-400d-a599-7dd930f45b8a",
     "showTitle": false,
     "tableResultSettingsMap": {},
     "title": ""
    }
   },
   "outputs": [
    {
     "output_type": "display_data",
     "data": {
      "text/html": [
       "<style scoped>\n",
       "  .table-result-container {\n",
       "    max-height: 300px;\n",
       "    overflow: auto;\n",
       "  }\n",
       "  table, th, td {\n",
       "    border: 1px solid black;\n",
       "    border-collapse: collapse;\n",
       "  }\n",
       "  th, td {\n",
       "    padding: 5px;\n",
       "  }\n",
       "  th {\n",
       "    text-align: left;\n",
       "  }\n",
       "</style><div class='table-result-container'><table class='table-result'><thead style='background-color: white'><tr></tr></thead><tbody></tbody></table></div>"
      ]
     },
     "metadata": {
      "application/vnd.databricks.v1+output": {
       "addedWidgets": {},
       "aggData": [],
       "aggError": "",
       "aggOverflow": false,
       "aggSchema": [],
       "aggSeriesLimitReached": false,
       "aggType": "",
       "arguments": {},
       "columnCustomDisplayInfos": {},
       "data": [],
       "datasetInfos": [],
       "dbfsResultPath": null,
       "isJsonSchema": true,
       "metadata": {},
       "overflow": false,
       "plotOptions": {
        "customPlotOptions": {},
        "displayType": "table",
        "pivotAggregation": null,
        "pivotColumns": null,
        "xColumns": null,
        "yColumns": null
       },
       "removedWidgets": [],
       "schema": [],
       "type": "table"
      }
     },
     "output_type": "display_data"
    }
   ],
   "source": [
    "%sql\n",
    "--criação do database aonde ficarão armazenados as tabelas dessa camada\n",
    "DROP DATABASE IF EXISTS silver CASCADE;\n",
    "CREATE DATABASE silver LOCATION 'dbfs:/mnt/hive_metastore';\n",
    "--criando a camada prata no database"
   ]
  },
  {
   "cell_type": "code",
   "execution_count": 0,
   "metadata": {
    "application/vnd.databricks.v1+cell": {
     "cellMetadata": {
      "byteLimit": 2048000,
      "rowLimit": 10000
     },
     "inputWidgets": {},
     "nuid": "58ef2c1e-4d8b-4628-9565-645899ee4c69",
     "showTitle": false,
     "tableResultSettingsMap": {},
     "title": ""
    }
   },
   "outputs": [],
   "source": [
    "def create_fact_silver_table_from_query(silver_table: str, full_query_sql: str):\n",
    "    df = spark.sql(full_query_sql)\n",
    "    \n",
    "    path = f\"dbfs:/mnt/hive_metastore/silver/{silver_table.split('.')[-1]}\"\n",
    "    \n",
    "    # Garantindo que a tabela será carregada\n",
    "    spark.sql(f\"DROP TABLE IF EXISTS {silver_table}\")\n",
    "    \n",
    "    # Criação da tabela no database com mergeSchema habilitado\n",
    "    df.write.format(\"delta\") \\\n",
    "       .mode(\"overwrite\") \\\n",
    "       .option(\"mergeSchema\", \"true\") \\\n",
    "       .option(\"path\", path) \\\n",
    "       .saveAsTable(silver_table)"
   ]
  },
  {
   "cell_type": "code",
   "execution_count": 0,
   "metadata": {
    "application/vnd.databricks.v1+cell": {
     "cellMetadata": {
      "byteLimit": 2048000,
      "rowLimit": 10000
     },
     "inputWidgets": {},
     "nuid": "942f15a4-4876-453c-80ac-b314b63b54e8",
     "showTitle": false,
     "tableResultSettingsMap": {},
     "title": ""
    }
   },
   "outputs": [],
   "source": [
    "#inclusão dos dados que serão necessários nesta análise\n",
    "create_fact_silver_table_from_query(\n",
    "    silver_table=\"silver.fact_results\",\n",
    "    full_query_sql=\"\"\"\n",
    "        SELECT \n",
    "            CAST(a.resultId AS INT) AS result_id,\n",
    "            CAST(a.raceId AS INT) AS race_id,\n",
    "            CAST(a.driverId AS INT) AS driver_id,\n",
    "            CAST(a.constructorId AS INT) AS constructor_id,\n",
    "            CAST(c.circuitId AS INT) AS circuit_id,\n",
    "            CAST(a.number AS INT) AS car_number,\n",
    "            CAST(a.grid AS INT) AS position_grid,\n",
    "            CAST(a.position AS INT) AS final_position,\n",
    "            a.positionOrder AS oficial_position,\n",
    "            a.points AS race_points,\n",
    "            a.laps AS number_laps,\n",
    "            CAST(a.milliseconds AS INT) AS time_milliseconds,\n",
    "            CAST(a.fastestLapSpeed AS FLOAT) AS fastest_lap_time_speed\n",
    "\n",
    "        FROM bronze.f_results AS a\n",
    "        LEFT JOIN bronze.d_race AS b \n",
    "          ON b.raceId = a.raceId\n",
    "        LEFT JOIN bronze.d_circuits AS c \n",
    "          ON c.circuitId = b.circuitId\n",
    "        \n",
    "    \"\"\"\n",
    ")"
   ]
  },
  {
   "cell_type": "code",
   "execution_count": 0,
   "metadata": {
    "application/vnd.databricks.v1+cell": {
     "cellMetadata": {
      "byteLimit": 2048000,
      "rowLimit": 10000
     },
     "inputWidgets": {},
     "nuid": "8bd4209c-b583-49e8-9bca-b8ed10721d24",
     "showTitle": false,
     "tableResultSettingsMap": {},
     "title": ""
    }
   },
   "outputs": [],
   "source": [
    "##criação de uma função que padronize e otimize a inclusão e tratamento dos dados das tabelas dimensões no database \n",
    "def create_dim_silver_table(bronze_table: str, silver_table: str, transformations_sql: str):\n",
    "    df = spark.sql(f\"SELECT {transformations_sql} FROM {bronze_table}\")\n",
    "    \n",
    "    path = f\"dbfs:/mnt/hive_metastore/silver/{silver_table.split('.')[-1]}\"\n",
    "    spark.sql(f\"DROP TABLE IF EXISTS {silver_table}\")\n",
    "    df.write.format(\"delta\").mode(\"overwrite\").option(\"path\", path).saveAsTable(silver_table)"
   ]
  },
  {
   "cell_type": "code",
   "execution_count": 0,
   "metadata": {
    "application/vnd.databricks.v1+cell": {
     "cellMetadata": {
      "byteLimit": 2048000,
      "rowLimit": 10000
     },
     "inputWidgets": {},
     "nuid": "b9891a9c-5cbd-4011-8e69-213a43237777",
     "showTitle": false,
     "tableResultSettingsMap": {},
     "title": ""
    }
   },
   "outputs": [],
   "source": [
    "create_dim_silver_table(\n",
    "    bronze_table=\"bronze.d_race\",\n",
    "    silver_table=\"silver.dim_races\",\n",
    "    transformations_sql=\"\"\"\n",
    "        CAST(raceId AS INT) AS race_id,\n",
    "        CAST(year AS INT) AS race_year,\n",
    "        CAST(round AS INT) AS race_round_number,\n",
    "        CAST(circuitId AS INT) AS circuit_id,\n",
    "        name AS circuit_name,\n",
    "        CAST(`date` AS DATE) AS race_date\n",
    "    \"\"\"\n",
    ")\n",
    "\n"
   ]
  },
  {
   "cell_type": "code",
   "execution_count": 0,
   "metadata": {
    "application/vnd.databricks.v1+cell": {
     "cellMetadata": {
      "byteLimit": 2048000,
      "rowLimit": 10000
     },
     "inputWidgets": {},
     "nuid": "a1219ad0-f1c2-43f5-b29f-0fdd22f70845",
     "showTitle": false,
     "tableResultSettingsMap": {},
     "title": ""
    }
   },
   "outputs": [],
   "source": [
    "create_dim_silver_table(\n",
    "    bronze_table=\"bronze.d_circuits\",\n",
    "    silver_table=\"silver.dim_circuits\",\n",
    "    transformations_sql=\"\"\"      \n",
    "        CAST(circuitId AS INT) AS circuit_id,\n",
    "        circuitRef AS circuit_ref,\n",
    "        name AS circuit_name,\n",
    "        location AS circuit_location,\n",
    "        country AS circuit_country\n",
    "    \"\"\"\n",
    ")\n"
   ]
  },
  {
   "cell_type": "code",
   "execution_count": 0,
   "metadata": {
    "application/vnd.databricks.v1+cell": {
     "cellMetadata": {
      "byteLimit": 2048000,
      "rowLimit": 10000
     },
     "inputWidgets": {},
     "nuid": "bfea1fdc-ef20-4ae6-84a3-45ffe95f2b3f",
     "showTitle": false,
     "tableResultSettingsMap": {},
     "title": ""
    }
   },
   "outputs": [],
   "source": [
    "create_dim_silver_table(\n",
    "    bronze_table=\"bronze.d_constructors\",\n",
    "    silver_table=\"silver.dim_constructors\",\n",
    "    transformations_sql=\"\"\"      \n",
    "        CAST(constructorId AS INT) AS constructor_id,\n",
    "        constructorRef AS constructor_ref,\n",
    "        name AS constructor_name,\n",
    "        nationality AS constructor_nationality\n",
    "    \"\"\"\n",
    ")\n",
    "\n"
   ]
  },
  {
   "cell_type": "code",
   "execution_count": 0,
   "metadata": {
    "application/vnd.databricks.v1+cell": {
     "cellMetadata": {
      "byteLimit": 2048000,
      "rowLimit": 10000
     },
     "inputWidgets": {},
     "nuid": "e844e70c-29ad-416f-aae8-5be37df7cc32",
     "showTitle": false,
     "tableResultSettingsMap": {},
     "title": ""
    }
   },
   "outputs": [],
   "source": [
    "create_dim_silver_table(\n",
    "    bronze_table=\"bronze.d_drivers\",\n",
    "    silver_table=\"silver.dim_drivers\",\n",
    "    transformations_sql=\"\"\"      \n",
    "      CAST(driverId AS INT) AS driver_id,\n",
    "      driverRef AS driver_ref,\n",
    "      number AS car_number,\n",
    "      code AS driver_code,\n",
    "      forename AS driver_forename,\n",
    "      surname AS driver_surname,\n",
    "      CONCAT(driver_forename,' ', driver_surname) AS driver_name,\n",
    "      dob AS driver_birthday,\n",
    "      nationality AS driver_nationality\n",
    "    \"\"\"\n",
    ")\n",
    "\n"
   ]
  },
  {
   "cell_type": "code",
   "execution_count": 0,
   "metadata": {
    "application/vnd.databricks.v1+cell": {
     "cellMetadata": {
      "byteLimit": 2048000,
      "rowLimit": 10000
     },
     "inputWidgets": {},
     "nuid": "ac57e9c6-9334-45a5-8726-caafa526f74b",
     "showTitle": false,
     "tableResultSettingsMap": {},
     "title": ""
    }
   },
   "outputs": [],
   "source": [
    "from pyspark.sql import SparkSession\n",
    "\n",
    "#assumindo que o df já tenha sido carregado\n",
    "df = spark.table(\"bronze.f_results\")\n",
    "\n",
    "#tratamento e exclusão de colunas que não serão utilizadas nesta análise\n",
    "df_transformed = df.selectExpr(\n",
    "    \"CAST(resultId AS INT) AS result_id\",\n",
    "    \"CAST(raceId AS INT) AS race_id\",\n",
    "    \"CAST(driverId AS INT) AS driver_id\",\n",
    "    \"CAST(constructorId AS INT) AS constructor_id\",\n",
    "    \"CAST(number AS INT) AS car_number\",\n",
    "    \"CAST(grid AS INT) AS position_grid\",\n",
    "    \"CAST(position AS INT) AS final_position\",\n",
    "    \"positionOrder AS oficial_position\",\n",
    "    \"points AS race_points\",\n",
    "    \"laps AS number_laps\",\n",
    "    \"CAST(milliseconds AS INT) AS time_milliseconds\",\n",
    "    \"CAST(fastestLapSpeed AS FLOAT) AS fastest_lap_time_speed\"\n",
    ")\n",
    "\n",
    "# definição do nome da tabela e do caminho no DBFS\n",
    "table_name = \"silver.fact_results\"\n",
    "path = \"dbfs:/mnt/hive_metastore/silver/fact_results\"\n",
    "\n",
    "#garantindo que a tabela será carregada\n",
    "spark.sql(f\"DROP TABLE IF EXISTS {table_name}\")\n",
    "\n",
    "#salvando a tabela no database\n",
    "df_transformed.write.format(\"delta\").mode(\"overwrite\").option(\"path\", path).saveAsTable(table_name)\n"
   ]
  },
  {
   "cell_type": "markdown",
   "metadata": {
    "application/vnd.databricks.v1+cell": {
     "cellMetadata": {
      "byteLimit": 2048000,
      "rowLimit": 10000
     },
     "inputWidgets": {},
     "nuid": "54c5d5ff-a456-4095-8b65-e46c617a6057",
     "showTitle": false,
     "tableResultSettingsMap": {},
     "title": ""
    }
   },
   "source": [
    "### **4. Analisando os dados:**"
   ]
  },
  {
   "cell_type": "markdown",
   "metadata": {
    "application/vnd.databricks.v1+cell": {
     "cellMetadata": {
      "byteLimit": 2048000,
      "rowLimit": 10000
     },
     "inputWidgets": {},
     "nuid": "4079a9aa-afc5-413b-a604-1491767db649",
     "showTitle": false,
     "tableResultSettingsMap": {},
     "title": ""
    }
   },
   "source": [
    "Com as perguntas definidas mostradas a seguir, os dados disponíveis na camada silver são avaliados para identificar quais deles respondem as perguntas e serão utilizados e organizados apenas os dados necessários para a camada gold, que é a camada onde o dado está mais refinado.\n",
    "\n",
    "\n"
   ]
  },
  {
   "cell_type": "markdown",
   "metadata": {
    "application/vnd.databricks.v1+cell": {
     "cellMetadata": {
      "byteLimit": 2048000,
      "rowLimit": 10000
     },
     "inputWidgets": {},
     "nuid": "f44ff525-085c-4929-884e-22c2d53cba2f",
     "showTitle": false,
     "tableResultSettingsMap": {},
     "title": ""
    }
   },
   "source": [
    "**4.1 Refinamento dos dados:**"
   ]
  },
  {
   "cell_type": "code",
   "execution_count": 0,
   "metadata": {
    "application/vnd.databricks.v1+cell": {
     "cellMetadata": {
      "byteLimit": 2048000,
      "implicitDf": true,
      "rowLimit": 10000
     },
     "inputWidgets": {},
     "nuid": "b17995bc-15fb-460e-848b-742e2d4cf6dd",
     "showTitle": false,
     "tableResultSettingsMap": {},
     "title": ""
    }
   },
   "outputs": [
    {
     "output_type": "display_data",
     "data": {
      "text/html": [
       "<style scoped>\n",
       "  .table-result-container {\n",
       "    max-height: 300px;\n",
       "    overflow: auto;\n",
       "  }\n",
       "  table, th, td {\n",
       "    border: 1px solid black;\n",
       "    border-collapse: collapse;\n",
       "  }\n",
       "  th, td {\n",
       "    padding: 5px;\n",
       "  }\n",
       "  th {\n",
       "    text-align: left;\n",
       "  }\n",
       "</style><div class='table-result-container'><table class='table-result'><thead style='background-color: white'><tr></tr></thead><tbody></tbody></table></div>"
      ]
     },
     "metadata": {
      "application/vnd.databricks.v1+output": {
       "addedWidgets": {},
       "aggData": [],
       "aggError": "",
       "aggOverflow": false,
       "aggSchema": [],
       "aggSeriesLimitReached": false,
       "aggType": "",
       "arguments": {},
       "columnCustomDisplayInfos": {},
       "data": [],
       "datasetInfos": [],
       "dbfsResultPath": null,
       "isJsonSchema": true,
       "metadata": {},
       "overflow": false,
       "plotOptions": {
        "customPlotOptions": {},
        "displayType": "table",
        "pivotAggregation": null,
        "pivotColumns": null,
        "xColumns": null,
        "yColumns": null
       },
       "removedWidgets": [],
       "schema": [],
       "type": "table"
      }
     },
     "output_type": "display_data"
    }
   ],
   "source": [
    "%sql\n",
    "\n",
    "DROP DATABASE IF EXISTS gold CASCADE;\n",
    "--criação da camada mais refinada (gold) onde ficarão armazenados a tabela que terão as respostas das perguntas relizadas a estes datasets.\n",
    "CREATE DATABASE gold LOCATION 'dbfs:/mnt/hive_metastore';"
   ]
  },
  {
   "cell_type": "code",
   "execution_count": 0,
   "metadata": {
    "application/vnd.databricks.v1+cell": {
     "cellMetadata": {
      "byteLimit": 2048000,
      "rowLimit": 10000
     },
     "inputWidgets": {},
     "nuid": "08ab04a5-87ad-4a87-9a8d-aa81958ed7f5",
     "showTitle": false,
     "tableResultSettingsMap": {},
     "title": ""
    }
   },
   "outputs": [],
   "source": [
    "#criação de uma função para a camada gold onde terão joins de tabelas da camada silver \n",
    "def create_gold_table_from_query(gold_table: str, full_query_sql: str):\n",
    "    \n",
    "    df = spark.sql(full_query_sql)\n",
    "\n",
    "    path = f\"dbfs:/mnt/hive_metastore/gold/{gold_table.split('.')[-1]}\"\n",
    "    \n",
    "    #garantindo que a tabela será carregada\n",
    "    spark.sql(f\"DROP TABLE IF EXISTS {gold_table}\")\n",
    "    \n",
    "    #criação da tabela no database\n",
    "    df.write.format(\"delta\").mode(\"overwrite\").option(\"path\", path).saveAsTable(gold_table)"
   ]
  },
  {
   "cell_type": "code",
   "execution_count": 0,
   "metadata": {
    "application/vnd.databricks.v1+cell": {
     "cellMetadata": {
      "byteLimit": 2048000,
      "implicitDf": true,
      "rowLimit": 10000
     },
     "inputWidgets": {},
     "nuid": "d6c6ed19-9a58-4825-9e2f-34fc5f20c06a",
     "showTitle": false,
     "tableResultSettingsMap": {},
     "title": ""
    }
   },
   "outputs": [],
   "source": [
    "#inclusão dos dados que serão necessários nesta análise\n",
    "create_gold_table_from_query(\n",
    "    gold_table=\"gold.f1_analysis\",\n",
    "    full_query_sql=\"\"\"\n",
    "        SELECT \n",
    "            a.result_id, \n",
    "            b.race_date,\n",
    "            b.race_id,\n",
    "            e.driver_id,           \n",
    "            e.driver_name,\n",
    "            d.constructor_name,\n",
    "            a.oficial_position,\n",
    "            a.position_grid,\n",
    "            a.final_position, \n",
    "            c.circuit_country\n",
    "            \n",
    "        FROM silver.fact_results AS a\n",
    "        LEFT JOIN silver.dim_races AS b \n",
    "          ON b.race_id = a.race_id\n",
    "        LEFT JOIN silver.dim_circuits AS c \n",
    "          ON c.circuit_id = b.circuit_id\n",
    "        LEFT JOIN silver.dim_constructors AS d \n",
    "          ON d.constructor_id = a.constructor_id\n",
    "        LEFT JOIN silver.dim_drivers AS e \n",
    "          ON e.driver_id = a.driver_id\n",
    "    \"\"\"\n",
    ")\n",
    "\n"
   ]
  },
  {
   "cell_type": "markdown",
   "metadata": {
    "application/vnd.databricks.v1+cell": {
     "cellMetadata": {
      "byteLimit": 2048000,
      "rowLimit": 10000
     },
     "inputWidgets": {},
     "nuid": "be8c3aa2-9f8d-4c21-8001-4161a4127336",
     "showTitle": false,
     "tableResultSettingsMap": {},
     "title": ""
    }
   },
   "source": [
    "**4.2 Análise dos Dados:**"
   ]
  },
  {
   "cell_type": "markdown",
   "metadata": {
    "application/vnd.databricks.v1+cell": {
     "cellMetadata": {
      "byteLimit": 2048000,
      "rowLimit": 10000
     },
     "inputWidgets": {},
     "nuid": "8d1cf2c8-8b24-4f2c-88ef-5969651de14c",
     "showTitle": false,
     "tableResultSettingsMap": {},
     "title": ""
    }
   },
   "source": [
    "1. Quais os países que mais sediaram de corridas de Fórmula 1?  "
   ]
  },
  {
   "cell_type": "code",
   "execution_count": 0,
   "metadata": {
    "application/vnd.databricks.v1+cell": {
     "cellMetadata": {
      "byteLimit": 2048000,
      "rowLimit": 10000
     },
     "inputWidgets": {},
     "nuid": "60c4512a-1a36-4cab-9838-b65e3e454f28",
     "showTitle": false,
     "tableResultSettingsMap": {},
     "title": ""
    }
   },
   "outputs": [
    {
     "output_type": "display_data",
     "data": {
      "image/png": "[encoded data removed]"
     },
     "metadata": {
      "application/vnd.databricks.v1+output": {
       "addedWidgets": {},
       "arguments": {},
       "data": "data:image/png;base64,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\n",
       "datasetInfos": [],
       "metadata": {},
       "removedWidgets": [],
       "type": "image"
      }
     },
     "output_type": "display_data"
    }
   ],
   "source": [
    "import pandas as pd\n",
    "import matplotlib.pyplot as plt\n",
    "\n",
    "\n",
    "##visualização dos dados\n",
    "df_race_by_country = spark.sql (\"\"\"\n",
    "  SELECT \n",
    "\n",
    "  circuit_country,\n",
    "  COUNT(DISTINCT result_id) AS total_corridas\n",
    "\n",
    "FROM gold.f1_analysis\n",
    "GROUP BY 1\n",
    "ORDER BY COUNT(DISTINCT result_id) DESC\"\"\").toPandas()\n",
    "\n",
    "#configurando o gráfico\n",
    "plt.figure(figsize=(12, 6))\n",
    "bars = plt.bar(\n",
    "    df_race_by_country[\"circuit_country\"],\n",
    "    df_race_by_country[\"total_corridas\"],\n",
    "    color=\"#006400\",  # Verde escuro\n",
    "    width=0.6        # Largura das barras\n",
    ")\n",
    "\n",
    "#adicionando os rótulos de dados \n",
    "for bar in bars:\n",
    "    height = bar.get_height()\n",
    "    plt.text(\n",
    "        bar.get_x() + bar.get_width() / 2,\n",
    "        height + 0.5,  # Offset para posicionar acima da barra\n",
    "        f\"{int(height)}\",\n",
    "        ha=\"center\",\n",
    "        va=\"bottom\",\n",
    "        fontsize=10\n",
    "    )\n",
    "\n",
    "#ajustes\n",
    "plt.title(\"Total de Corridas por País\", fontsize=14, pad=20)\n",
    "plt.ylabel(\"Número de Corridas\", fontsize=12)\n",
    "plt.xticks(rotation=45, ha=\"right\")  # Rótulos inclinados para melhor legibilidade\n",
    "plt.grid(axis=\"y\", linestyle=\"--\", alpha=0.9)\n",
    "\n",
    "#remoção de bordas desnecessárias\n",
    "for spine in [\"top\", \"right\"]:\n",
    "    plt.gca().spines[spine].set_visible(False)\n",
    "\n",
    "plt.tight_layout()  #ajuste\n",
    "plt.show()"
   ]
  },
  {
   "cell_type": "markdown",
   "metadata": {
    "application/vnd.databricks.v1+cell": {
     "cellMetadata": {
      "byteLimit": 2048000,
      "rowLimit": 10000
     },
     "inputWidgets": {},
     "nuid": "6b5aeee5-9bcb-4118-a462-4c636cd9c7e7",
     "showTitle": false,
     "tableResultSettingsMap": {},
     "title": ""
    }
   },
   "source": [
    "Observações sobre os dados: \n",
    "\n",
    "O gráfico mostra claramente que a Europa é o continente com maior número de corridas de Fórmula 1, com países como Itália, Reino Unido, França e Alemanha liderando o ranking.Há uma concentração significativa em poucos países, sugerindo que a F1 tem seus circuitos tradicionais principais.\n",
    "\n",
    "O país com maior número de corridas (Itália) se destaca visivelmente no gráfico, com uma barra significativamente mais alta que as demais.\n",
    "\n",
    "Muitos países aparecem com um número relativamente pequeno de corridas, formando uma \"cauda longa\" na distribuição. Isso reflete a expansão global da F1 para novos mercados nas últimas décadas, principalmente para o Oriente Médio e Ásia."
   ]
  },
  {
   "cell_type": "markdown",
   "metadata": {
    "application/vnd.databricks.v1+cell": {
     "cellMetadata": {
      "byteLimit": 2048000,
      "rowLimit": 10000
     },
     "inputWidgets": {},
     "nuid": "13913a53-9227-490d-aaab-4a77430da698",
     "showTitle": false,
     "tableResultSettingsMap": {},
     "title": ""
    }
   },
   "source": [
    "2. Quais as 10 escuderias (construtora) que mais venceram corridas?"
   ]
  },
  {
   "cell_type": "code",
   "execution_count": 0,
   "metadata": {
    "application/vnd.databricks.v1+cell": {
     "cellMetadata": {
      "byteLimit": 2048000,
      "rowLimit": 10000
     },
     "inputWidgets": {},
     "nuid": "db1a8ce5-3a43-48a1-8460-7f352b95b745",
     "showTitle": false,
     "tableResultSettingsMap": {},
     "title": ""
    }
   },
   "outputs": [
    {
     "output_type": "display_data",
     "data": {
      "image/png": "[encoded data removed]"
     },
     "metadata": {
      "application/vnd.databricks.v1+output": {
       "addedWidgets": {},
       "arguments": {},
       "data": "data:image/png;base64,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\n",
       "datasetInfos": [],
       "metadata": {},
       "removedWidgets": [],
       "type": "image"
      }
     },
     "output_type": "display_data"
    }
   ],
   "source": [
    "import pandas as pd\n",
    "import matplotlib.pyplot as plt\n",
    "\n",
    "\n",
    "df_top_teams = spark.sql(\"\"\"\n",
    "  SELECT \n",
    "    constructor_name,\n",
    "    COUNT(DISTINCT result_id) AS vitorias\n",
    "  FROM gold.f1_analysis \n",
    "  WHERE oficial_position = 1 \n",
    "  GROUP BY constructor_name\n",
    "  ORDER BY vitorias DESC \n",
    "  LIMIT 10\n",
    "\"\"\").toPandas()\n",
    "\n",
    "#configuração do gráfico\n",
    "plt.figure(figsize=(10, 6))\n",
    "\n",
    "#incluindo barras horizontais para melhor visualização\n",
    "bars = plt.barh(\n",
    "    df_top_teams[\"constructor_name\"][::-1],  # [::-1] inverte a ordem para plotar\n",
    "    df_top_teams[\"vitorias\"][::-1],\n",
    "    color=\"#d62728\",  # Vermelho escuro\n",
    "    height=0.7,\n",
    "    edgecolor='black',\n",
    "    linewidth=0.5\n",
    ")\n",
    "\n",
    "#formatação dos rótulos de dados\n",
    "for bar in bars:\n",
    "    width = bar.get_width()\n",
    "    plt.text(\n",
    "        width + 0.5,\n",
    "        bar.get_y() + bar.get_height()/2,\n",
    "        f\"{int(width)}\",\n",
    "        ha='left',\n",
    "        va='center',\n",
    "        fontsize=11,\n",
    "        fontweight='bold',\n",
    "        color='black'\n",
    "    )\n",
    "\n",
    "\n",
    "plt.title(\"Top 10 Escuderias com Mais Vitórias na F1\", \n",
    "          fontsize=14, pad=20, fontweight='bold')\n",
    "plt.xlabel(\"Número de Vitórias\", fontsize=12, labelpad=10)\n",
    "plt.ylabel(\"\")  # Removido label do eixo Y para limpeza\n",
    "plt.grid(axis='x', linestyle=':', alpha=0.4)\n",
    "\n",
    "#removendo bordas e ticks\n",
    "plt.gca().spines[['top', 'right', 'left']].set_visible(False)\n",
    "plt.tick_params(axis='y', which='both', left=False)  # Remove ticks do eixo Y\n",
    "\n",
    "#limite do eixo X com margem para rótulos\n",
    "plt.xlim(0, df_top_teams[\"vitorias\"].max() * 1.15)\n",
    "\n",
    "plt.tight_layout()\n",
    "plt.show()"
   ]
  },
  {
   "cell_type": "markdown",
   "metadata": {
    "application/vnd.databricks.v1+cell": {
     "cellMetadata": {
      "byteLimit": 2048000,
      "rowLimit": 10000
     },
     "inputWidgets": {},
     "nuid": "4d47e850-72e2-4886-9dcb-394db503e7ed",
     "showTitle": false,
     "tableResultSettingsMap": {},
     "title": ""
    }
   },
   "source": [
    "Observações sobre os dados:\n",
    "\n",
    "O gráfico revela uma enorme disparidade entre as escuderias líderes e as demais. A Ferrari possui aproximadamente o dobro de vitórias da Mercedes (terceira colocada), indicando períodos de hegemonia na história da F1.\n",
    "\n",
    "As 5 primeiras escuderias formam um grupo de \"grandes campeãs\" (Ferrari, McLaren, Mercedes, Williams, Red Bull), já as 5 seguintes representam escuderias de sucesso intermediário, mas com números substancialmente menores.\n",
    "\n",
    "A presença de escuderias como Williams (menos competitivas nos últimos anos) no top 5 evidencia a relevância do legado histórico enquanto escuderias mais novas como Red Bull aparecem entre as líderes, mostrando rápida ascensão.\n"
   ]
  },
  {
   "cell_type": "markdown",
   "metadata": {
    "application/vnd.databricks.v1+cell": {
     "cellMetadata": {
      "byteLimit": 2048000,
      "rowLimit": 10000
     },
     "inputWidgets": {},
     "nuid": "d1ebcd5f-7e46-4821-b0b1-83e505c8b4b0",
     "showTitle": false,
     "tableResultSettingsMap": {},
     "title": ""
    }
   },
   "source": [
    "3. Quais pilotos tiveram a maior porcentagem de vitórias em relação às corridas disputadas? "
   ]
  },
  {
   "cell_type": "code",
   "execution_count": 0,
   "metadata": {
    "application/vnd.databricks.v1+cell": {
     "cellMetadata": {
      "byteLimit": 2048000,
      "implicitDf": true,
      "rowLimit": 10000
     },
     "inputWidgets": {},
     "nuid": "e8ac60fb-1c29-4983-b5e6-711862151bc0",
     "showTitle": false,
     "tableResultSettingsMap": {},
     "title": ""
    }
   },
   "outputs": [
    {
     "output_type": "display_data",
     "data": {
      "text/html": [
       "<style scoped>\n",
       "  .table-result-container {\n",
       "    max-height: 300px;\n",
       "    overflow: auto;\n",
       "  }\n",
       "  table, th, td {\n",
       "    border: 1px solid black;\n",
       "    border-collapse: collapse;\n",
       "  }\n",
       "  th, td {\n",
       "    padding: 5px;\n",
       "  }\n",
       "  th {\n",
       "    text-align: left;\n",
       "  }\n",
       "</style><div class='table-result-container'><table class='table-result'><thead style='background-color: white'><tr><th>driver_id</th><th>driver_name</th><th>corridas_vencedoras</th><th>corridas_disputadas</th><th>perc_vitorias</th></tr></thead><tbody><tr><td>766</td><td>Lee Wallard</td><td>1</td><td>2</td><td>50.0</td></tr><tr><td>579</td><td>Juan Fangio</td><td>24</td><td>58</td><td>41.38</td></tr><tr><td>657</td><td>Bill Vukovich</td><td>2</td><td>5</td><td>40.0</td></tr><tr><td>647</td><td>Alberto Ascari</td><td>13</td><td>36</td><td>36.11</td></tr><tr><td>373</td><td>Jim Clark</td><td>25</td><td>73</td><td>34.25</td></tr><tr><td>830</td><td>Max Verstappen</td><td>63</td><td>209</td><td>30.14</td></tr><tr><td>30</td><td>Michael Schumacher</td><td>91</td><td>308</td><td>29.55</td></tr><tr><td>1</td><td>Lewis Hamilton</td><td>105</td><td>356</td><td>29.49</td></tr><tr><td>328</td><td>Jackie Stewart</td><td>27</td><td>100</td><td>27.0</td></tr><tr><td>102</td><td>Ayrton Senna</td><td>41</td><td>162</td><td>25.31</td></tr><tr><td>117</td><td>Alain Prost</td><td>51</td><td>202</td><td>25.25</td></tr><tr><td>475</td><td>Stirling Moss</td><td>16</td><td>73</td><td>21.92</td></tr><tr><td>628</td><td>Bob Sweikert</td><td>1</td><td>5</td><td>20.0</td></tr><tr><td>71</td><td>Damon Hill</td><td>22</td><td>122</td><td>18.03</td></tr><tr><td>20</td><td>Sebastian Vettel</td><td>53</td><td>300</td><td>17.67</td></tr><tr><td>559</td><td>Pat Flaherty</td><td>1</td><td>6</td><td>16.67</td></tr><tr><td>95</td><td>Nigel Mansell</td><td>31</td><td>192</td><td>16.15</td></tr><tr><td>479</td><td>Tony Brooks</td><td>6</td><td>41</td><td>14.63</td></tr><tr><td>182</td><td>Niki Lauda</td><td>25</td><td>174</td><td>14.37</td></tr><tr><td>642</td><td>Nino Farina</td><td>5</td><td>37</td><td>13.51</td></tr><tr><td>786</td><td>Luigi Fagioli</td><td>1</td><td>8</td><td>12.5</td></tr><tr><td>57</td><td>Mika Häkkinen</td><td>20</td><td>165</td><td>12.12</td></tr><tr><td>3</td><td>Nico Rosberg</td><td>23</td><td>206</td><td>11.17</td></tr><tr><td>137</td><td>Nelson Piquet</td><td>23</td><td>207</td><td>11.11</td></tr><tr><td>611</td><td>Sam Hanks</td><td>1</td><td>9</td><td>11.11</td></tr><tr><td>526</td><td>Troy Ruttman</td><td>1</td><td>9</td><td>11.11</td></tr><tr><td>525</td><td>Jimmy Bryan</td><td>1</td><td>9</td><td>11.11</td></tr><tr><td>356</td><td>Jack Brabham</td><td>14</td><td>129</td><td>10.85</td></tr><tr><td>231</td><td>James Hunt</td><td>10</td><td>93</td><td>10.75</td></tr><tr><td>178</td><td>Alan Jones</td><td>12</td><td>117</td><td>10.26</td></tr><tr><td>593</td><td>Johnnie Parsons</td><td>1</td><td>10</td><td>10.0</td></tr><tr><td>358</td><td>Jochen Rindt</td><td>6</td><td>62</td><td>9.68</td></tr><tr><td>224</td><td>Emerson Fittipaldi</td><td>14</td><td>149</td><td>9.4</td></tr><tr><td>207</td><td>Mario Andretti</td><td>12</td><td>129</td><td>9.3</td></tr><tr><td>222</td><td>Jody Scheckter</td><td>10</td><td>113</td><td>8.85</td></tr><tr><td>203</td><td>Gilles Villeneuve</td><td>6</td><td>68</td><td>8.82</td></tr><tr><td>449</td><td>Rodger Ward</td><td>1</td><td>12</td><td>8.33</td></tr><tr><td>509</td><td>Jim Rathmann</td><td>1</td><td>12</td><td>8.33</td></tr><tr><td>199</td><td>Carlos Reutemann</td><td>12</td><td>146</td><td>8.22</td></tr><tr><td>238</td><td>Ronnie Peterson</td><td>10</td><td>123</td><td>8.13</td></tr><tr><td>581</td><td>Peter Collins</td><td>3</td><td>37</td><td>8.11</td></tr><tr><td>4</td><td>Fernando Alonso</td><td>32</td><td>404</td><td>7.92</td></tr><tr><td>289</td><td>Graham Hill</td><td>14</td><td>179</td><td>7.82</td></tr><tr><td>375</td><td>Ludovico Scarfiotti</td><td>1</td><td>13</td><td>7.69</td></tr><tr><td>31</td><td>Juan Pablo Montoya</td><td>7</td><td>95</td><td>7.37</td></tr><tr><td>304</td><td>Denny Hulme</td><td>8</td><td>112</td><td>7.14</td></tr><tr><td>476</td><td>Wolfgang von Trips</td><td>2</td><td>28</td><td>7.14</td></tr><tr><td>498</td><td>José Froilán González</td><td>2</td><td>29</td><td>6.9</td></tr><tr><td>35</td><td>Jacques Villeneuve</td><td>11</td><td>165</td><td>6.67</td></tr><tr><td>235</td><td>Jacky Ickx</td><td>8</td><td>121</td><td>6.61</td></tr><tr><td>309</td><td>Peter Revson</td><td>2</td><td>31</td><td>6.45</td></tr><tr><td>578</td><td>Mike Hawthorn</td><td>3</td><td>48</td><td>6.25</td></tr><tr><td>8</td><td>Kimi Räikkönen</td><td>21</td><td>352</td><td>5.97</td></tr><tr><td>403</td><td>Phil Hill</td><td>3</td><td>52</td><td>5.77</td></tr><tr><td>641</td><td>Piero Taruffi</td><td>1</td><td>18</td><td>5.56</td></tr><tr><td>844</td><td>Charles Leclerc</td><td>8</td><td>149</td><td>5.37</td></tr><tr><td>341</td><td>John Surtees</td><td>6</td><td>112</td><td>5.36</td></tr><tr><td>14</td><td>David Coulthard</td><td>13</td><td>247</td><td>5.26</td></tr><tr><td>18</td><td>Jenson Button</td><td>15</td><td>309</td><td>4.85</td></tr><tr><td>77</td><td>Gerhard Berger</td><td>10</td><td>210</td><td>4.76</td></tr><tr><td>364</td><td>Dan Gurney</td><td>4</td><td>87</td><td>4.6</td></tr><tr><td>857</td><td>Oscar Piastri</td><td>2</td><td>46</td><td>4.35</td></tr><tr><td>163</td><td>René Arnoux</td><td>7</td><td>164</td><td>4.27</td></tr><tr><td>202</td><td>Didier Pironi</td><td>3</td><td>72</td><td>4.17</td></tr><tr><td>17</td><td>Mark Webber</td><td>9</td><td>217</td><td>4.15</td></tr><tr><td>13</td><td>Felipe Massa</td><td>11</td><td>271</td><td>4.06</td></tr><tr><td>822</td><td>Valtteri Bottas</td><td>10</td><td>247</td><td>4.05</td></tr><tr><td>177</td><td>Keke Rosberg</td><td>5</td><td>128</td><td>3.91</td></tr><tr><td>360</td><td>Bruce McLaren</td><td>4</td><td>103</td><td>3.88</td></tr><tr><td>577</td><td>Luigi Musso</td><td>1</td><td>26</td><td>3.85</td></tr><tr><td>394</td><td>Giancarlo Baghetti</td><td>1</td><td>26</td><td>3.85</td></tr><tr><td>345</td><td>Pedro Rodríguez</td><td>2</td><td>54</td><td>3.7</td></tr><tr><td>219</td><td>Jean-Pierre Jabouille</td><td>2</td><td>55</td><td>3.64</td></tr><tr><td>223</td><td>Clay Regazzoni</td><td>5</td><td>138</td><td>3.62</td></tr><tr><td>22</td><td>Rubens Barrichello</td><td>11</td><td>326</td><td>3.37</td></tr><tr><td>23</td><td>Ralf Schumacher</td><td>6</td><td>180</td><td>3.33</td></tr><tr><td>172</td><td>Jacques Laffite</td><td>6</td><td>180</td><td>3.33</td></tr><tr><td>320</td><td>Peter Gethin</td><td>1</td><td>30</td><td>3.33</td></tr><tr><td>187</td><td>John Watson</td><td>5</td><td>154</td><td>3.25</td></tr><tr><td>846</td><td>Lando Norris</td><td>4</td><td>128</td><td>3.13</td></tr><tr><td>255</td><td>Gunnar Nilsson</td><td>1</td><td>32</td><td>3.13</td></tr><tr><td>817</td><td>Daniel Ricciardo</td><td>8</td><td>257</td><td>3.11</td></tr><tr><td>56</td><td>Eddie Irvine</td><td>4</td><td>147</td><td>2.72</td></tr><tr><td>847</td><td>George Russell</td><td>3</td><td>128</td><td>2.34</td></tr><tr><td>119</td><td>Riccardo Patrese</td><td>6</td><td>257</td><td>2.33</td></tr><tr><td>105</td><td>Michele Alboreto</td><td>5</td><td>215</td><td>2.33</td></tr><tr><td>427</td><td>Maurice Trintignant</td><td>2</td><td>87</td><td>2.3</td></tr><tr><td>385</td><td>Lorenzo Bandini</td><td>1</td><td>44</td><td>2.27</td></tr><tr><td>327</td><td>François Cevert</td><td>1</td><td>47</td><td>2.13</td></tr><tr><td>815</td><td>Sergio Pérez</td><td>6</td><td>283</td><td>2.12</td></tr><tr><td>221</td><td>Patrick Depailler</td><td>2</td><td>95</td><td>2.11</td></tr><tr><td>346</td><td>Jo Siffert</td><td>2</td><td>100</td><td>2.0</td></tr><tr><td>832</td><td>Carlos Sainz</td><td>4</td><td>208</td><td>1.92</td></tr><tr><td>49</td><td>Heinz-Harald Frentzen</td><td>3</td><td>159</td><td>1.89</td></tr><tr><td>386</td><td>Richie Ginther</td><td>1</td><td>54</td><td>1.85</td></tr><tr><td>123</td><td>Thierry Boutsen</td><td>3</td><td>164</td><td>1.83</td></tr><tr><td>173</td><td>Elio de Angelis</td><td>2</td><td>110</td><td>1.82</td></tr><tr><td>404</td><td>Innes Ireland</td><td>1</td><td>55</td><td>1.82</td></tr><tr><td>65</td><td>Johnny Herbert</td><td>3</td><td>165</td><td>1.82</td></tr><tr><td>175</td><td>Patrick Tambay</td><td>2</td><td>122</td><td>1.64</td></tr><tr><td>250</td><td>Carlos Pace</td><td>1</td><td>73</td><td>1.37</td></tr><tr><td>21</td><td>Giancarlo Fisichella</td><td>3</td><td>231</td><td>1.3</td></tr><tr><td>145</td><td>Alessandro Nannini</td><td>1</td><td>77</td><td>1.3</td></tr><tr><td>230</td><td>Vittorio Brambilla</td><td>1</td><td>78</td><td>1.28</td></tr><tr><td>306</td><td>Jean-Pierre Beltoise</td><td>1</td><td>87</td><td>1.15</td></tr><tr><td>813</td><td>Pastor Maldonado</td><td>1</td><td>96</td><td>1.04</td></tr><tr><td>9</td><td>Robert Kubica</td><td>1</td><td>99</td><td>1.01</td></tr><tr><td>347</td><td>Jo Bonnier</td><td>1</td><td>109</td><td>0.92</td></tr><tr><td>5</td><td>Heikki Kovalainen</td><td>1</td><td>112</td><td>0.89</td></tr><tr><td>200</td><td>Jochen Mass</td><td>1</td><td>114</td><td>0.88</td></tr><tr><td>842</td><td>Pierre Gasly</td><td>1</td><td>154</td><td>0.65</td></tr><tr><td>839</td><td>Esteban Ocon</td><td>1</td><td>156</td><td>0.64</td></tr><tr><td>44</td><td>Olivier Panis</td><td>1</td><td>158</td><td>0.63</td></tr><tr><td>55</td><td>Jean Alesi</td><td>1</td><td>202</td><td>0.5</td></tr><tr><td>15</td><td>Jarno Trulli</td><td>1</td><td>256</td><td>0.39</td></tr><tr><td>369</td><td>Basil van Rooyen</td><td>0</td><td>2</td><td>0.0</td></tr><tr><td>176</td><td>Marc Surer</td><td>0</td><td>88</td><td>0.0</td></tr><tr><td>297</td><td>Torsten Palm</td><td>0</td><td>2</td><td>0.0</td></tr><tr><td>371</td><td>Al Pease</td><td>0</td><td>2</td><td>0.0</td></tr><tr><td>618</td><td>Herbert MacKay-Fraser</td><td>0</td><td>1</td><td>0.0</td></tr><tr><td>782</td><td>Juan Jover</td><td>0</td><td>1</td><td>0.0</td></tr><tr><td>216</td><td>Siegfried Stohr</td><td>0</td><td>13</td><td>0.0</td></tr><tr><td>218</td><td>Ricardo Londoño</td><td>0</td><td>1</td><td>0.0</td></tr><tr><td>576</td><td>Phil Cade</td><td>0</td><td>1</td><td>0.0</td></tr><tr><td>499</td><td>Roberto Bonomi</td><td>0</td><td>1</td><td>0.0</td></tr><tr><td>616</td><td>Elmer George</td><td>0</td><td>1</td><td>0.0</td></tr><tr><td>631</td><td>Keith Andrews</td><td>0</td><td>2</td><td>0.0</td></tr><tr><td>798</td><td>Bayliss Levrett</td><td>0</td><td>1</td><td>0.0</td></tr><tr><td>64</td><td>Pedro Diniz</td><td>0</td><td>99</td><td>0.0</td></tr><tr><td>503</td><td>Ettore Chimeri</td><td>0</td><td>1</td><td>0.0</td></tr><tr><td>111</td><td>Jean-Marc Gounon</td><td>0</td><td>9</td><td>0.0</td></tr><tr><td>627</td><td>Louis Rosier</td><td>0</td><td>39</td><td>0.0</td></tr><tr><td>632</td><td>Paul Frère</td><td>0</td><td>11</td><td>0.0</td></tr><tr><td>590</td><td>Stuart Lewis-Evans</td><td>0</td><td>14</td><td>0.0</td></tr><tr><td>179</td><td>Huub Rothengatter</td><td>0</td><td>28</td><td>0.0</td></tr><tr><td>195</td><td>Roberto Guerrero</td><td>0</td><td>29</td><td>0.0</td></tr><tr><td>191</td><td>Mike Thackwell</td><td>0</td><td>5</td><td>0.0</td></tr><tr><td>430</td><td>Carel Godin de Beaufort</td><td>0</td><td>31</td><td>0.0</td></tr><tr><td>561</td><td>Ray Crawford</td><td>0</td><td>3</td><td>0.0</td></tr><tr><td>76</td><td>Jan Magnussen</td><td>0</td><td>25</td><td>0.0</td></tr><tr><td>634</td><td>Piero Scotti</td><td>0</td><td>1</td><td>0.0</td></tr><tr><td>363</td><td>Ignazio Giunti</td><td>0</td><td>4</td><td>0.0</td></tr><tr><td>488</td><td>Peter Monteverdi</td><td>0</td><td>1</td><td>0.0</td></tr><tr><td>312</td><td>Brian Redman</td><td>0</td><td>13</td><td>0.0</td></tr><tr><td>563</td><td>Chuck Weyant</td><td>0</td><td>4</td><td>0.0</td></tr><tr><td>670</td><td>Onofre Marimón</td><td>0</td><td>12</td><td>0.0</td></tr><tr><td>489</td><td>Renato Pirocchi</td><td>0</td><td>2</td><td>0.0</td></tr><tr><td>816</td><td>Jérôme d'Ambrosio</td><td>0</td><td>20</td><td>0.0</td></tr><tr><td>162</td><td>Pierre-Henri Raphanel</td><td>0</td><td>17</td><td>0.0</td></tr><tr><td>368</td><td>Sam Tingle</td><td>0</td><td>6</td><td>0.0</td></tr><tr><td>478</td><td>Hans Herrmann</td><td>0</td><td>20</td><td>0.0</td></tr><tr><td>487</td><td>Massimo Natili</td><td>0</td><td>2</td><td>0.0</td></tr><tr><td>514</td><td>Bob Veith</td><td>0</td><td>5</td><td>0.0</td></tr><tr><td>214</td><td>Kevin Cogan</td><td>0</td><td>2</td><td>0.0</td></tr><tr><td>89</td><td>Taki Inoue</td><td>0</td><td>18</td><td>0.0</td></tr><tr><td>686</td><td>Reg Parnell</td><td>0</td><td>7</td><td>0.0</td></tr><tr><td>862</td><td>Jack Doohan</td><td>0</td><td>1</td><td>0.0</td></tr><tr><td>374</td><td>Mike Spence</td><td>0</td><td>36</td><td>0.0</td></tr><tr><td>236</td><td>Patrick Gaillard</td><td>0</td><td>5</td><td>0.0</td></tr><tr><td>773</td><td>Pierre Levegh</td><td>0</td><td>6</td><td>0.0</td></tr><tr><td>515</td><td>Bud Tingelstad</td><td>0</td><td>1</td><td>0.0</td></tr><tr><td>638</td><td>Ottorino Volonterio</td><td>0</td><td>3</td><td>0.0</td></tr><tr><td>108</td><td>Paul Belmondo</td><td>0</td><td>27</td><td>0.0</td></tr><tr><td>742</td><td>Dennis Poore</td><td>0</td><td>2</td><td>0.0</td></tr><tr><td>495</td><td>Ken Miles</td><td>0</td><td>1</td><td>0.0</td></tr><tr><td>770</td><td>Cecil Green</td><td>0</td><td>2</td><td>0.0</td></tr><tr><td>811</td><td>Bruno Senna</td><td>0</td><td>46</td><td>0.0</td></tr><tr><td>90</td><td>Roberto Moreno</td><td>0</td><td>74</td><td>0.0</td></tr><tr><td>428</td><td>Bernard Collomb</td><td>0</td><td>6</td><td>0.0</td></tr><tr><td>416</td><td>David Clapham</td><td>0</td><td>1</td><td>0.0</td></tr><tr><td>413</td><td>Ernie Pieterse</td><td>0</td><td>3</td><td>0.0</td></tr><tr><td>469</td><td>Rob Schroeder</td><td>0</td><td>1</td><td>0.0</td></tr><tr><td>158</td><td>Eddie Cheever</td><td>0</td><td>143</td><td>0.0</td></tr><tr><td>159</td><td>Luis Pérez-Sala</td><td>0</td><td>32</td><td>0.0</td></tr><tr><td>147</td><td>Paolo Barilla</td><td>0</td><td>15</td><td>0.0</td></tr><tr><td>126</td><td>Toshio Suzuki</td><td>0</td><td>2</td><td>0.0</td></tr><tr><td>434</td><td>Hap Sharp</td><td>0</td><td>6</td><td>0.0</td></tr><tr><td>544</td><td>Piero Drogo</td><td>0</td><td>1</td><td>0.0</td></tr><tr><td>719</td><td>Albert Scherrer</td><td>0</td><td>1</td><td>0.0</td></tr><tr><td>349</td><td>Max Jean</td><td>0</td><td>1</td><td>0.0</td></tr><tr><td>389</td><td>Guy Ligier</td><td>0</td><td>13</td><td>0.0</td></tr><tr><td>409</td><td>Trevor Blokdyk</td><td>0</td><td>2</td><td>0.0</td></tr><tr><td>348</td><td>François Mazet</td><td>0</td><td>1</td><td>0.0</td></tr><tr><td>150</td><td>Gary Brabham</td><td>0</td><td>2</td><td>0.0</td></tr><tr><td>684</td><td>Bill Whitehouse</td><td>0</td><td>1</td><td>0.0</td></tr><tr><td>608</td><td>Eugenio Castellotti</td><td>0</td><td>17</td><td>0.0</td></tr><tr><td>774</td><td>Eugène Chaboud</td><td>0</td><td>3</td><td>0.0</td></tr><tr><td>584</td><td>Bruce Kessler</td><td>0</td><td>1</td><td>0.0</td></tr><tr><td>656</td><td>Art Cross</td><td>0</td><td>4</td><td>0.0</td></tr><tr><td>715</td><td>Günther Bechem</td><td>0</td><td>2</td><td>0.0</td></tr><tr><td>724</td><td>Toni Ulmen</td><td>0</td><td>2</td><td>0.0</td></tr><tr><td>296</td><td>François Migault</td><td>0</td><td>15</td><td>0.0</td></tr><tr><td>52</td><td>Ralph Firman</td><td>0</td><td>14</td><td>0.0</td></tr><tr><td>53</td><td>Nicolas Kiesa</td><td>0</td><td>5</td><td>0.0</td></tr><tr><td>595</td><td>Billy Garrett</td><td>0</td><td>2</td><td>0.0</td></tr><tr><td>118</td><td>Derek Warwick</td><td>0</td><td>162</td><td>0.0</td></tr><tr><td>196</td><td>Raul Boesel</td><td>0</td><td>30</td><td>0.0</td></tr><tr><td>858</td><td>Logan Sargeant</td><td>0</td><td>36</td><td>0.0</td></tr><tr><td>745</td><td>Graham Whitehead</td><td>0</td><td>1</td><td>0.0</td></tr><tr><td>465</td><td>Keith Greene</td><td>0</td><td>7</td><td>0.0</td></tr><tr><td>390</td><td>Alan Rees</td><td>0</td><td>2</td><td>0.0</td></tr><tr><td>818</td><td>Jean-Éric Vergne</td><td>0</td><td>58</td><td>0.0</td></tr><tr><td>141</td><td>Julian Bailey</td><td>0</td><td>20</td><td>0.0</td></tr><tr><td>689</td><td>Alan Brown</td><td>0</td><td>9</td><td>0.0</td></tr><tr><td>251</td><td>Ian Scheckter</td><td>0</td><td>20</td><td>0.0</td></tr><tr><td>61</td><td>Tomáš Enge</td><td>0</td><td>3</td><td>0.0</td></tr><tr><td>681</td><td>Georges Berger</td><td>0</td><td>2</td><td>0.0</td></tr><tr><td>552</td><td>Jean Lucienbonnet</td><td>0</td><td>1</td><td>0.0</td></tr><tr><td>668</td><td>Jean Lucas</td><td>0</td><td>1</td><td>0.0</td></tr><tr><td>271</td><td>Loris Kessel</td><td>0</td><td>6</td><td>0.0</td></tr><tr><td>739</td><td>Robin Montgomerie-Charrington</td><td>0</td><td>1</td><td>0.0</td></tr><tr><td>194</td><td>Eliseo Salazar</td><td>0</td><td>37</td><td>0.0</td></tr><tr><td>680</td><td>Jacques Swaters</td><td>0</td><td>7</td><td>0.0</td></tr><tr><td>594</td><td>Johnnie Tolan</td><td>0</td><td>3</td><td>0.0</td></tr><tr><td>698</td><td>Adolfo Cruz</td><td>0</td><td>1</td><td>0.0</td></tr><tr><td>359</td><td>Johnny Servoz-Gavin</td><td>0</td><td>12</td><td>0.0</td></tr><tr><td>351</td><td>Silvio Moser</td><td>0</td><td>18</td><td>0.0</td></tr><tr><td>268</td><td>Hans Heyer</td><td>0</td><td>1</td><td>0.0</td></tr><tr><td>7</td><td>Sébastien Bourdais</td><td>0</td><td>27</td><td>0.0</td></tr><tr><td>519</td><td>Bill Homeier</td><td>0</td><td>3</td><td>0.0</td></tr><tr><td>496</td><td>Carlos Menditeguy</td><td>0</td><td>12</td><td>0.0</td></tr><tr><td>332</td><td>George Follmer</td><td>0</td><td>12</td><td>0.0</td></tr><tr><td>597</td><td>Pat O'Connor</td><td>0</td><td>5</td><td>0.0</td></tr><tr><td>91</td><td>Karl Wendlinger</td><td>0</td><td>42</td><td>0.0</td></tr><tr><td>124</td><td>Marco Apicella</td><td>0</td><td>1</td><td>0.0</td></tr><tr><td>464</td><td>Tony Shelly</td><td>0</td><td>3</td><td>0.0</td></tr><tr><td>383</td><td>Bob Anderson</td><td>0</td><td>26</td><td>0.0</td></tr><tr><td>729</td><td>Bill Schindler</td><td>0</td><td>3</td><td>0.0</td></tr><tr><td>639</td><td>André Milhoux</td><td>0</td><td>1</td><td>0.0</td></tr><tr><td>16</td><td>Adrian Sutil</td><td>0</td><td>128</td><td>0.0</td></tr><tr><td>355</td><td>John Cannon</td><td>0</td><td>1</td><td>0.0</td></tr><tr><td>188</td><td>Johnny Cecotto</td><td>0</td><td>23</td><td>0.0</td></tr><tr><td>129</td><td>Olivier Grouillard</td><td>0</td><td>62</td><td>0.0</td></tr><tr><td>574</td><td>George Constantine</td><td>0</td><td>1</td><td>0.0</td></tr><tr><td>557</td><td>Chuck Arnold</td><td>0</td><td>1</td><td>0.0</td></tr><tr><td>267</td><td>Vern Schuppan</td><td>0</td><td>12</td><td>0.0</td></tr><tr><td>573</td><td>Alessandro de Tomaso</td><td>0</td><td>2</td><td>0.0</td></tr><tr><td>467</td><td>Ernesto Prinoth</td><td>0</td><td>2</td><td>0.0</td></tr><tr><td>652</td><td>Ted Whiteaway</td><td>0</td><td>1</td><td>0.0</td></tr><tr><td>837</td><td>Rio Haryanto</td><td>0</td><td>12</td><td>0.0</td></tr><tr><td>675</td><td>Manny Ayulo</td><td>0</td><td>4</td><td>0.0</td></tr><tr><td>135</td><td>Perry McCarthy</td><td>0</td><td>7</td><td>0.0</td></tr><tr><td>564</td><td>Jud Larson</td><td>0</td><td>2</td><td>0.0</td></tr><tr><td>242</td><td>Divina Galica</td><td>0</td><td>3</td><td>0.0</td></tr><tr><td>536</td><td>Len Sutton</td><td>0</td><td>3</td><td>0.0</td></tr><tr><td>468</td><td>Roger Penske</td><td>0</td><td>2</td><td>0.0</td></tr><tr><td>493</td><td>Peter Ryan</td><td>0</td><td>1</td><td>0.0</td></tr><tr><td>700</td><td>Carl Scarborough</td><td>0</td><td>2</td><td>0.0</td></tr><tr><td>86</td><td>Giovanni Lavaggi</td><td>0</td><td>10</td><td>0.0</td></tr><tr><td>677</td><td>Travis Webb</td><td>0</td><td>4</td><td>0.0</td></tr><tr><td>399</td><td>John Taylor</td><td>0</td><td>5</td><td>0.0</td></tr><tr><td>828</td><td>Marcus Ericsson</td><td>0</td><td>97</td><td>0.0</td></tr><tr><td>260</td><td>Conny Andersson</td><td>0</td><td>5</td><td>0.0</td></tr><tr><td>93</td><td>Domenico Schiattarella</td><td>0</td><td>7</td><td>0.0</td></tr><tr><td>750</td><td>Adolf Brudes</td><td>0</td><td>1</td><td>0.0</td></tr><tr><td>131</td><td>Stefano Modena</td><td>0</td><td>81</td><td>0.0</td></tr><tr><td>486</td><td>Jack Fairman</td><td>0</td><td>13</td><td>0.0</td></tr><tr><td>307</td><td>Howden Ganley</td><td>0</td><td>39</td><td>0.0</td></tr><tr><td>261</td><td>Bernard de Dryver</td><td>0</td><td>1</td><td>0.0</td></tr><tr><td>372</td><td>John Cordts</td><td>0</td><td>1</td><td>0.0</td></tr><tr><td>843</td><td>Brendon Hartley</td><td>0</td><td>25</td><td>0.0</td></tr><tr><td>580</td><td>Paco Godia</td><td>0</td><td>14</td><td>0.0</td></tr><tr><td>549</td><td>Ivor Bueb</td><td>0</td><td>6</td><td>0.0</td></tr><tr><td>614</td><td>Don Edmunds</td><td>0</td><td>1</td><td>0.0</td></tr><tr><td>819</td><td>Charles Pic</td><td>0</td><td>39</td><td>0.0</td></tr><tr><td>34</td><td>Yuji Ide</td><td>0</td><td>4</td><td>0.0</td></tr><tr><td>649</td><td>Pablo Birger</td><td>0</td><td>2</td><td>0.0</td></tr><tr><td>329</td><td>Mike Beuttler</td><td>0</td><td>29</td><td>0.0</td></tr><tr><td>741</td><td>Philippe Étancelin</td><td>0</td><td>12</td><td>0.0</td></tr><tr><td>491</td><td>Alfonso Thiele</td><td>0</td><td>2</td><td>0.0</td></tr><tr><td>338</td><td>David Walker</td><td>0</td><td>11</td><td>0.0</td></tr><tr><td>378</td><td>Robin Widdows</td><td>0</td><td>1</td><td>0.0</td></tr><tr><td>849</td><td>Nicholas Latifi</td><td>0</td><td>61</td><td>0.0</td></tr><tr><td>508</td><td>Lance Reventlow</td><td>0</td><td>4</td><td>0.0</td></tr><tr><td>362</td><td>Peter de Klerk</td><td>0</td><td>4</td><td>0.0</td></tr><tr><td>444</td><td>Roberto Lippi</td><td>0</td><td>3</td><td>0.0</td></tr><tr><td>800</td><td>Nello Pagani</td><td>0</td><td>1</td><td>0.0</td></tr><tr><td>367</td><td>Peter Westbury</td><td>0</td><td>1</td><td>0.0</td></tr><tr><td>588</td><td>Luigi Taramazzo</td><td>0</td><td>1</td><td>0.0</td></tr><tr><td>760</td><td>Piero Dusio</td><td>0</td><td>1</td><td>0.0</td></tr><tr><td>62</td><td>Alex Yoong</td><td>0</td><td>16</td><td>0.0</td></tr><tr><td>396</td><td>Bob Bondurant</td><td>0</td><td>9</td><td>0.0</td></tr><tr><td>569</td><td>Peter Ashdown</td><td>0</td><td>1</td><td>0.0</td></tr><tr><td>524</td><td>Jim Hurtubise</td><td>0</td><td>1</td><td>0.0</td></tr><tr><td>720</td><td>Max de Terra</td><td>0</td><td>2</td><td>0.0</td></tr><tr><td>442</td><td>Kurt Kuhnke</td><td>0</td><td>2</td><td>0.0</td></tr><tr><td>270</td><td>Ian Ashley</td><td>0</td><td>11</td><td>0.0</td></tr><tr><td>210</td><td>Tommy Byrne</td><td>0</td><td>5</td><td>0.0</td></tr><tr><td>127</td><td>Maurício Gugelmin</td><td>0</td><td>80</td><td>0.0</td></tr><tr><td>547</td><td>Horace Gould</td><td>0</td><td>18</td><td>0.0</td></tr><tr><td>66</td><td>Allan McNish</td><td>0</td><td>17</td><td>0.0</td></tr><tr><td>650</td><td>Jacques Pollet</td><td>0</td><td>5</td><td>0.0</td></tr><tr><td>799</td><td>Jimmy Jackson</td><td>0</td><td>2</td><td>0.0</td></tr><tr><td>803</td><td>Bill Cantrell</td><td>0</td><td>1</td><td>0.0</td></tr><tr><td>314</td><td>Tim Schenken</td><td>0</td><td>36</td><td>0.0</td></tr><tr><td>180</td><td>Allen Berg</td><td>0</td><td>9</td><td>0.0</td></tr><tr><td>694</td><td>Giovanni de Riu</td><td>0</td><td>1</td><td>0.0</td></tr><tr><td>613</td><td>Marshall Teague</td><td>0</td><td>4</td><td>0.0</td></tr><tr><td>68</td><td>Toranosuke Takagi</td><td>0</td><td>32</td><td>0.0</td></tr><tr><td>125</td><td>Emanuele Naspetti</td><td>0</td><td>6</td><td>0.0</td></tr><tr><td>82</td><td>Norberto Fontana</td><td>0</td><td>4</td><td>0.0</td></tr><tr><td>551</td><td>Maria de Filippis</td><td>0</td><td>5</td><td>0.0</td></tr><tr><td>417</td><td>Alex Blignaut</td><td>0</td><td>1</td><td>0.0</td></tr><tr><td>240</td><td>Danny Ongais</td><td>0</td><td>6</td><td>0.0</td></tr><tr><td>541</td><td>Ron Flockhart</td><td>0</td><td>15</td><td>0.0</td></tr><tr><td>746</td><td>Gino Bianco</td><td>0</td><td>4</td><td>0.0</td></tr><tr><td>45</td><td>Giorgio Pantano</td><td>0</td><td>14</td><td>0.0</td></tr><tr><td>517</td><td>Red Amick</td><td>0</td><td>2</td><td>0.0</td></tr><tr><td>483</td><td>Giorgio Scarlatti</td><td>0</td><td>15</td><td>0.0</td></tr><tr><td>423</td><td>Gerhard Mitter</td><td>0</td><td>5</td><td>0.0</td></tr><tr><td>459</td><td>Tony Marsh</td><td>0</td><td>9</td><td>0.0</td></tr><tr><td>827</td><td>André Lotterer</td><td>0</td><td>1</td><td>0.0</td></tr><tr><td>233</td><td>Hans-Joachim Stuck</td><td>0</td><td>81</td><td>0.0</td></tr><tr><td>331</td><td>Luiz Bueno</td><td>0</td><td>1</td><td>0.0</td></tr><tr><td>249</td><td>Bobby Rahal</td><td>0</td><td>2</td><td>0.0</td></tr><tr><td>743</td><td>Eric Thompson</td><td>0</td><td>1</td><td>0.0</td></tr><tr><td>32</td><td>Christian Klien</td><td>0</td><td>51</td><td>0.0</td></tr><tr><td>212</td><td>Hector Rebaque</td><td>0</td><td>58</td><td>0.0</td></tr><tr><td>737</td><td>Robert O'Brien</td><td>0</td><td>1</td><td>0.0</td></tr><tr><td>553</td><td>André Testut</td><td>0</td><td>2</td><td>0.0</td></tr><tr><td>693</td><td>Fred Wacker</td><td>0</td><td>3</td><td>0.0</td></tr><tr><td>808</td><td>Vitaly Petrov</td><td>0</td><td>58</td><td>0.0</td></tr><tr><td>225</td><td>Dave Kennedy</td><td>0</td><td>7</td><td>0.0</td></tr><tr><td>204</td><td>Riccardo Paletti</td><td>0</td><td>8</td><td>0.0</td></tr><tr><td>142</td><td>Pedro Chaves</td><td>0</td><td>13</td><td>0.0</td></tr><tr><td>11</td><td>Takuma Sato</td><td>0</td><td>91</td><td>0.0</td></tr><tr><td>695</td><td>Oscar Gálvez</td><td>0</td><td>1</td><td>0.0</td></tr><tr><td>804</td><td>Johnny Mantz</td><td>0</td><td>1</td><td>0.0</td></tr><tr><td>40</td><td>Patrick Friesacher</td><td>0</td><td>11</td><td>0.0</td></tr><tr><td>845</td><td>Sergey Sirotkin</td><td>0</td><td>21</td><td>0.0</td></tr><tr><td>380</td><td>Frank Gardner</td><td>0</td><td>9</td><td>0.0</td></tr><tr><td>481</td><td>Henry Taylor</td><td>0</td><td>10</td><td>0.0</td></tr><tr><td>245</td><td>Tony Trimmer</td><td>0</td><td>6</td><td>0.0</td></tr><tr><td>272</td><td>Kunimitsu Takahashi</td><td>0</td><td>1</td><td>0.0</td></tr><tr><td>325</td><td>Carlo Facetti</td><td>0</td><td>1</td><td>0.0</td></tr><tr><td>248</td><td>Carlo Franchi</td><td>0</td><td>1</td><td>0.0</td></tr><tr><td>38</td><td>Robert Doornbos</td><td>0</td><td>11</td><td>0.0</td></tr><tr><td>265</td><td>Guy Edwards</td><td>0</td><td>16</td><td>0.0</td></tr><tr><td>54</td><td>Luciano Burti</td><td>0</td><td>15</td><td>0.0</td></tr><tr><td>401</td><td>Trevor Taylor</td><td>0</td><td>29</td><td>0.0</td></tr><tr><td>697</td><td>Felice Bonetto</td><td>0</td><td>17</td><td>0.0</td></tr><tr><td>571</td><td>Dennis Taylor</td><td>0</td><td>1</td><td>0.0</td></tr><tr><td>12</td><td>Nelson Piquet Jr.</td><td>0</td><td>28</td><td>0.0</td></tr><tr><td>435</td><td>Willy Mairesse</td><td>0</td><td>12</td><td>0.0</td></tr><tr><td>615</td><td>Fred Agabashian</td><td>0</td><td>8</td><td>0.0</td></tr><tr><td>522</td><td>Bobby Grim</td><td>0</td><td>2</td><td>0.0</td></tr><tr><td>791</td><td>Clemente Biondetti</td><td>0</td><td>1</td><td>0.0</td></tr><tr><td>286</td><td>Warwick Brown</td><td>0</td><td>1</td><td>0.0</td></tr><tr><td>266</td><td>Brian McGuire</td><td>0</td><td>1</td><td>0.0</td></tr><tr><td>663</td><td>Ken Wharton</td><td>0</td><td>16</td><td>0.0</td></tr><tr><td>539</td><td>Dempsey Wilson</td><td>0</td><td>2</td><td>0.0</td></tr><tr><td>252</td><td>Tom Pryce</td><td>0</td><td>42</td><td>0.0</td></tr><tr><td>284</td><td>Alessandro Pesenti-Rossi</td><td>0</td><td>4</td><td>0.0</td></tr><tr><td>848</td><td>Alexander Albon</td><td>0</td><td>105</td><td>0.0</td></tr><tr><td>714</td><td>Kurt Adolff</td><td>0</td><td>1</td><td>0.0</td></tr><tr><td>833</td><td>Roberto Merhi</td><td>0</td><td>13</td><td>0.0</td></tr><tr><td>166</td><td>Philippe Streiff</td><td>0</td><td>54</td><td>0.0</td></tr><tr><td>92</td><td>Bertrand Gachot</td><td>0</td><td>84</td><td>0.0</td></tr><tr><td>39</td><td>Narain Karthikeyan</td><td>0</td><td>48</td><td>0.0</td></tr><tr><td>157</td><td>Christian Danner</td><td>0</td><td>47</td><td>0.0</td></tr><tr><td>139</td><td>Emanuele Pirro</td><td>0</td><td>40</td><td>0.0</td></tr><tr><td>589</td><td>Louis Chiron</td><td>0</td><td>17</td><td>0.0</td></tr><tr><td>707</td><td>Ian Stewart</td><td>0</td><td>1</td><td>0.0</td></tr><tr><td>293</td><td>Dave Charlton</td><td>0</td><td>13</td><td>0.0</td></tr><tr><td>412</td><td>Brausch Niemann</td><td>0</td><td>2</td><td>0.0</td></tr><tr><td>110</td><td>Andrea de Cesaris</td><td>0</td><td>214</td><td>0.0</td></tr><tr><td>100</td><td>Érik Comas</td><td>0</td><td>63</td><td>0.0</td></tr><tr><td>692</td><td>Theo Helfrich</td><td>0</td><td>3</td><td>0.0</td></tr><tr><td>600</td><td>Christian Goethals</td><td>0</td><td>1</td><td>0.0</td></tr><tr><td>733</td><td>Chet Miller</td><td>0</td><td>2</td><td>0.0</td></tr><tr><td>758</td><td>Dries van der Lof</td><td>0</td><td>1</td><td>0.0</td></tr><tr><td>247</td><td>Michael Bleekemolen</td><td>0</td><td>5</td><td>0.0</td></tr><tr><td>60</td><td>Gastón Mazzacane</td><td>0</td><td>21</td><td>0.0</td></tr><tr><td>502</td><td>Alan Stacey</td><td>0</td><td>7</td><td>0.0</td></tr><tr><td>485</td><td>Juan Manuel Bordeu</td><td>0</td><td>1</td><td>0.0</td></tr><tr><td>505</td><td>Chris Bristow</td><td>0</td><td>4</td><td>0.0</td></tr><tr><td>395</td><td>Jonathan Williams</td><td>0</td><td>1</td><td>0.0</td></tr><tr><td>134</td><td>Enrico Bertaggia</td><td>0</td><td>6</td><td>0.0</td></tr><tr><td>79</td><td>Ukyo Katayama</td><td>0</td><td>97</td><td>0.0</td></tr><tr><td>470</td><td>Timmy Mayer</td><td>0</td><td>1</td><td>0.0</td></tr><tr><td>768</td><td>Mauri Rose</td><td>0</td><td>2</td><td>0.0</td></tr><tr><td>288</td><td>Mark Donohue</td><td>0</td><td>15</td><td>0.0</td></tr><tr><td>290</td><td>Wilson Fittipaldi</td><td>0</td><td>38</td><td>0.0</td></tr><tr><td>227</td><td>Tiff Needell</td><td>0</td><td>2</td><td>0.0</td></tr><tr><td>789</td><td>Eugène Martin</td><td>0</td><td>2</td><td>0.0</td></tr><tr><td>796</td><td>Walt Ader</td><td>0</td><td>1</td><td>0.0</td></tr><tr><td>146</td><td>Bernd Schneider</td><td>0</td><td>32</td><td>0.0</td></tr><tr><td>532</td><td>Eddie Russo</td><td>0</td><td>4</td><td>0.0</td></tr><tr><td>735</td><td>Charles de Tornaco</td><td>0</td><td>3</td><td>0.0</td></tr><tr><td>669</td><td>Prince Bira</td><td>0</td><td>19</td><td>0.0</td></tr><tr><td>454</td><td>Ricardo Rodríguez</td><td>0</td><td>6</td><td>0.0</td></tr><tr><td>220</td><td>Giorgio Francia</td><td>0</td><td>2</td><td>0.0</td></tr><tr><td>201</td><td>Slim Borgudd</td><td>0</td><td>15</td><td>0.0</td></tr><tr><td>436</td><td>John Campbell-Jones</td><td>0</td><td>5</td><td>0.0</td></tr><tr><td>181</td><td>Manfred Winkelhock</td><td>0</td><td>55</td><td>0.0</td></tr><tr><td>120</td><td>Fabrizio Barbazza</td><td>0</td><td>20</td><td>0.0</td></tr><tr><td>169</td><td>Pascal Fabre</td><td>0</td><td>12</td><td>0.0</td></tr><tr><td>726</td><td>George Connor</td><td>0</td><td>3</td><td>0.0</td></tr><tr><td>244</td><td>Alberto Colombo</td><td>0</td><td>3</td><td>0.0</td></tr><tr><td>402</td><td>Giacomo Russo</td><td>0</td><td>3</td><td>0.0</td></tr><tr><td>654</td><td>Walt Faulkner</td><td>0</td><td>5</td><td>0.0</td></tr><tr><td>410</td><td>Neville Lederle</td><td>0</td><td>3</td><td>0.0</td></tr><tr><td>29</td><td>Sakon Yamamoto</td><td>0</td><td>21</td><td>0.0</td></tr><tr><td>738</td><td>Tony Gaze</td><td>0</td><td>4</td><td>0.0</td></tr><tr><td>824</td><td>Jules Bianchi</td><td>0</td><td>34</td><td>0.0</td></tr><tr><td>841</td><td>Antonio Giovinazzi</td><td>0</td><td>62</td><td>0.0</td></tr><tr><td>603</td><td>André Guelfi</td><td>0</td><td>1</td><td>0.0</td></tr><tr><td>379</td><td>Kurt Ahrens</td><td>0</td><td>2</td><td>0.0</td></tr><tr><td>860</td><td>Oliver Bearman</td><td>0</td><td>3</td><td>0.0</td></tr><tr><td>721</td><td>Peter Hirt</td><td>0</td><td>5</td><td>0.0</td></tr><tr><td>411</td><td>Doug Serrurier</td><td>0</td><td>3</td><td>0.0</td></tr><tr><td>723</td><td>Rudi Fischer</td><td>0</td><td>7</td><td>0.0</td></tr><tr><td>792</td><td>Alfredo Pián</td><td>0</td><td>1</td><td>0.0</td></tr><tr><td>780</td><td>Toni Branca</td><td>0</td><td>3</td><td>0.0</td></tr><tr><td>550</td><td>Alain de Changy</td><td>0</td><td>1</td><td>0.0</td></tr><tr><td>471</td><td>Bruce Johnstone</td><td>0</td><td>1</td><td>0.0</td></tr><tr><td>337</td><td>Helmut Marko</td><td>0</td><td>9</td><td>0.0</td></tr><tr><td>299</td><td>Hiroshi Fushida</td><td>0</td><td>2</td><td>0.0</td></tr><tr><td>535</td><td>Jim McWithey</td><td>0</td><td>2</td><td>0.0</td></tr><tr><td>794</td><td>Joie Chitwood</td><td>0</td><td>1</td><td>0.0</td></tr><tr><td>274</td><td>Noritake Takahara</td><td>0</td><td>2</td><td>0.0</td></tr><tr><td>88</td><td>Aguri Suzuki</td><td>0</td><td>88</td><td>0.0</td></tr><tr><td>704</td><td>Yves Cabantous</td><td>0</td><td>13</td><td>0.0</td></tr><tr><td>516</td><td>Bob Christie</td><td>0</td><td>5</td><td>0.0</td></tr><tr><td>570</td><td>Bill Moss</td><td>0</td><td>1</td><td>0.0</td></tr><tr><td>310</td><td>Paddy Driver</td><td>0</td><td>2</td><td>0.0</td></tr><tr><td>546</td><td>Arthur Owen</td><td>0</td><td>1</td><td>0.0</td></tr><tr><td>807</td><td>Nico Hülkenberg</td><td>0</td><td>230</td><td>0.0</td></tr><tr><td>343</td><td>Bill Brack</td><td>0</td><td>3</td><td>0.0</td></tr><tr><td>540</td><td>Mike Taylor</td><td>0</td><td>2</td><td>0.0</td></tr><tr><td>548</td><td>Bob Drake</td><td>0</td><td>1</td><td>0.0</td></tr><tr><td>788</td><td>Joe Fry</td><td>0</td><td>1</td><td>0.0</td></tr><tr><td>660</td><td>Johnny Claes</td><td>0</td><td>25</td><td>0.0</td></tr><tr><td>408</td><td>Tony Maggs</td><td>0</td><td>27</td><td>0.0</td></tr><tr><td>648</td><td>Karl Kling</td><td>0</td><td>12</td><td>0.0</td></tr><tr><td>779</td><td>John James</td><td>0</td><td>1</td><td>0.0</td></tr><tr><td>132</td><td>Giovanna Amati</td><td>0</td><td>3</td><td>0.0</td></tr><tr><td>42</td><td>Antônio Pizzonia</td><td>0</td><td>20</td><td>0.0</td></tr><tr><td>72</td><td>Stéphane Sarrazin</td><td>0</td><td>1</td><td>0.0</td></tr><tr><td>542</td><td>David Piper</td><td>0</td><td>3</td><td>0.0</td></tr><tr><td>852</td><td>Yuki Tsunoda</td><td>0</td><td>90</td><td>0.0</td></tr><tr><td>155</td><td>Kamui Kobayashi</td><td>0</td><td>76</td><td>0.0</td></tr><tr><td>643</td><td>Roberto Mieres</td><td>0</td><td>17</td><td>0.0</td></tr><tr><td>545</td><td>Fred Gamble</td><td>0</td><td>1</td><td>0.0</td></tr><tr><td>322</td><td>David Hobbs</td><td>0</td><td>7</td><td>0.0</td></tr><tr><td>829</td><td>Will Stevens</td><td>0</td><td>19</td><td>0.0</td></tr><tr><td>384</td><td>Luki Botha</td><td>0</td><td>1</td><td>0.0</td></tr><tr><td>315</td><td>Gérard Larrousse</td><td>0</td><td>2</td><td>0.0</td></tr><tr><td>109</td><td>Jyrki Järvilehto</td><td>0</td><td>70</td><td>0.0</td></tr><tr><td>73</td><td>Ricardo Rosset</td><td>0</td><td>30</td><td>0.0</td></tr><tr><td>462</td><td>Colin Davis</td><td>0</td><td>3</td><td>0.0</td></tr><tr><td>630</td><td>Duke Dinsmore</td><td>0</td><td>4</td><td>0.0</td></tr><tr><td>795</td><td>Myron Fohr</td><td>0</td><td>1</td><td>0.0</td></tr><tr><td>687</td><td>Peter Whitehead</td><td>0</td><td>12</td><td>0.0</td></tr><tr><td>497</td><td>Alberto Rodriguez Larreta</td><td>0</td><td>1</td><td>0.0</td></tr><tr><td>812</td><td>Karun Chandhok</td><td>0</td><td>11</td><td>0.0</td></tr><tr><td>67</td><td>Sébastien Buemi</td><td>0</td><td>55</td><td>0.0</td></tr><tr><td>313</td><td>Rikky von Opel</td><td>0</td><td>13</td><td>0.0</td></tr><tr><td>33</td><td>Tiago Monteiro</td><td>0</td><td>37</td><td>0.0</td></tr><tr><td>850</td><td>Pietro Fittipaldi</td><td>0</td><td>2</td><td>0.0</td></tr><tr><td>474</td><td>Syd van der Vyver</td><td>0</td><td>1</td><td>0.0</td></tr><tr><td>831</td><td>Felipe Nasr</td><td>0</td><td>40</td><td>0.0</td></tr><tr><td>281</td><td>Jac Nelleman</td><td>0</td><td>1</td><td>0.0</td></tr><tr><td>859</td><td>Liam Lawson</td><td>0</td><td>11</td><td>0.0</td></tr><tr><td>528</td><td>Don Freeland</td><td>0</td><td>8</td><td>0.0</td></tr><tr><td>623</td><td>Alberto Uria</td><td>0</td><td>2</td><td>0.0</td></tr><tr><td>797</td><td>Jackie Holmes</td><td>0</td><td>2</td><td>0.0</td></tr><tr><td>156</td><td>Jonathan Palmer</td><td>0</td><td>88</td><td>0.0</td></tr><tr><td>189</td><td>Jo Gartner</td><td>0</td><td>8</td><td>0.0</td></tr><tr><td>48</td><td>Marc Gené</td><td>0</td><td>36</td><td>0.0</td></tr><tr><td>400</td><td>Chris Lawrence</td><td>0</td><td>2</td><td>0.0</td></tr><tr><td>500</td><td>Gino Munaron</td><td>0</td><td>4</td><td>0.0</td></tr><tr><td>711</td><td>Oswald Karch</td><td>0</td><td>1</td><td>0.0</td></tr><tr><td>243</td><td>Rolf Stommelen</td><td>0</td><td>61</td><td>0.0</td></tr><tr><td>184</td><td>Mauro Baldi</td><td>0</td><td>41</td><td>0.0</td></tr><tr><td>316</td><td>Leo Kinnunen</td><td>0</td><td>6</td><td>0.0</td></tr><tr><td>190</td><td>Corrado Fabi</td><td>0</td><td>18</td><td>0.0</td></tr><tr><td>765</td><td>Henri Louveau</td><td>0</td><td>2</td><td>0.0</td></tr><tr><td>461</td><td>Heinz Schiller</td><td>0</td><td>2</td><td>0.0</td></tr><tr><td>756</td><td>Paul Pietsch</td><td>0</td><td>3</td><td>0.0</td></tr><tr><td>556</td><td>Jimmy Daywalt</td><td>0</td><td>7</td><td>0.0</td></tr><tr><td>690</td><td>Rodney Nuckey</td><td>0</td><td>2</td><td>0.0</td></tr><tr><td>406</td><td>Paul Hawkins</td><td>0</td><td>3</td><td>0.0</td></tr><tr><td>806</td><td>Óscar González</td><td>0</td><td>1</td><td>0.0</td></tr><tr><td>269</td><td>Teddy Pilette</td><td>0</td><td>4</td><td>0.0</td></tr><tr><td>447</td><td>Gaetano Starrabba</td><td>0</td><td>2</td><td>0.0</td></tr><tr><td>658</td><td>Jack McGrath</td><td>0</td><td>6</td><td>0.0</td></tr><tr><td>732</td><td>Johnny McDowell</td><td>0</td><td>3</td><td>0.0</td></tr><tr><td>610</td><td>Les Leston</td><td>0</td><td>3</td><td>0.0</td></tr><tr><td>448</td><td>Peter Broeker</td><td>0</td><td>1</td><td>0.0</td></tr><tr><td>764</td><td>Guy Mairesse</td><td>0</td><td>3</td><td>0.0</td></tr><tr><td>838</td><td>Stoffel Vandoorne</td><td>0</td><td>42</td><td>0.0</td></tr><tr><td>259</td><td>David Purley</td><td>0</td><td>11</td><td>0.0</td></tr><tr><td>215</td><td>Miguel Ángel Guerra</td><td>0</td><td>4</td><td>0.0</td></tr><tr><td>673</td><td>Mike Nazaruk</td><td>0</td><td>3</td><td>0.0</td></tr><tr><td>701</td><td>Bill Holland</td><td>0</td><td>2</td><td>0.0</td></tr><tr><td>153</td><td>Jaime Alguersuari</td><td>0</td><td>46</td><td>0.0</td></tr><tr><td>555</td><td>Paul Russo</td><td>0</td><td>9</td><td>0.0</td></tr><tr><td>422</td><td>Brian Gubby</td><td>0</td><td>1</td><td>0.0</td></tr><tr><td>568</td><td>Azdrubal Fontes</td><td>0</td><td>1</td><td>0.0</td></tr><tr><td>820</td><td>Max Chilton</td><td>0</td><td>35</td><td>0.0</td></tr><tr><td>287</td><td>Masahiro Hasemi</td><td>0</td><td>1</td><td>0.0</td></tr><tr><td>228</td><td>Desiré Wilson</td><td>0</td><td>1</td><td>0.0</td></tr><tr><td>69</td><td>Luca Badoer</td><td>0</td><td>58</td><td>0.0</td></tr><tr><td>582</td><td>Ken Kavanagh</td><td>0</td><td>1</td><td>0.0</td></tr><tr><td>424</td><td>Roberto Bussinello</td><td>0</td><td>4</td><td>0.0</td></tr><tr><td>683</td><td>Leslie Thorne</td><td>0</td><td>1</td><td>0.0</td></tr><tr><td>415</td><td>Ray Reed</td><td>0</td><td>1</td><td>0.0</td></tr><tr><td>507</td><td>Chuck Daigh</td><td>0</td><td>6</td><td>0.0</td></tr><tr><td>340</td><td>John Love</td><td>0</td><td>10</td><td>0.0</td></tr><tr><td>636</td><td>Desmond Titterington</td><td>0</td><td>1</td><td>0.0</td></tr><tr><td>510</td><td>Paul Goldsmith</td><td>0</td><td>3</td><td>0.0</td></tr><tr><td>558</td><td>Al Keller</td><td>0</td><td>5</td><td>0.0</td></tr><tr><td>834</td><td>Alexander Rossi</td><td>0</td><td>5</td><td>0.0</td></tr><tr><td>814</td><td>Paul di Resta</td><td>0</td><td>59</td><td>0.0</td></tr><tr><td>620</td><td>Umberto Maglioli</td><td>0</td><td>10</td><td>0.0</td></tr><tr><td>97</td><td>Massimiliano Papis</td><td>0</td><td>7</td><td>0.0</td></tr><tr><td>635</td><td>Colin Chapman</td><td>0</td><td>1</td><td>0.0</td></tr><tr><td>138</td><td>Satoru Nakajima</td><td>0</td><td>80</td><td>0.0</td></tr><tr><td>334</td><td>Jackie Pretorius</td><td>0</td><td>4</td><td>0.0</td></tr><tr><td>664</td><td>Kenneth McAlpine</td><td>0</td><td>7</td><td>0.0</td></tr><tr><td>706</td><td>Jimmy Stewart</td><td>0</td><td>1</td><td>0.0</td></tr><tr><td>25</td><td>Alexander Wurz</td><td>0</td><td>69</td><td>0.0</td></tr><tr><td>80</td><td>Vincenzo Sospiri</td><td>0</td><td>1</td><td>0.0</td></tr><tr><td>612</td><td>Andy Linden</td><td>0</td><td>11</td><td>0.0</td></tr><tr><td>674</td><td>Larry Crockett</td><td>0</td><td>1</td><td>0.0</td></tr><tr><td>122</td><td>Ivan Capelli</td><td>0</td><td>98</td><td>0.0</td></tr><tr><td>645</td><td>Clemar Bucci</td><td>0</td><td>5</td><td>0.0</td></tr><tr><td>473</td><td>Gary Hocking</td><td>0</td><td>1</td><td>0.0</td></tr><tr><td>275</td><td>Lella Lombardi</td><td>0</td><td>17</td><td>0.0</td></tr><tr><td>484</td><td>Brian Naylor</td><td>0</td><td>9</td><td>0.0</td></tr><tr><td>709</td><td>Ernst Klodwig</td><td>0</td><td>2</td><td>0.0</td></tr><tr><td>365</td><td>Hubert Hahne</td><td>0</td><td>3</td><td>0.0</td></tr><tr><td>246</td><td>Hans Binder</td><td>0</td><td>15</td><td>0.0</td></tr><tr><td>776</td><td>Joe Kelly</td><td>0</td><td>2</td><td>0.0</td></tr><tr><td>295</td><td>Roelof Wunderink</td><td>0</td><td>6</td><td>0.0</td></tr><tr><td>653</td><td>Jimmy Davies</td><td>0</td><td>6</td><td>0.0</td></tr><tr><td>672</td><td>Jorge Daponte</td><td>0</td><td>2</td><td>0.0</td></tr><tr><td>592</td><td>Jimmy Reece</td><td>0</td><td>6</td><td>0.0</td></tr><tr><td>183</td><td>François Hesnault</td><td>0</td><td>20</td><td>0.0</td></tr><tr><td>418</td><td>Masten Gregory</td><td>0</td><td>46</td><td>0.0</td></tr><tr><td>708</td><td>Duncan Hamilton</td><td>0</td><td>5</td><td>0.0</td></tr><tr><td>617</td><td>Mike MacDowel</td><td>0</td><td>1</td><td>0.0</td></tr><tr><td>699</td><td>Duke Nalon</td><td>0</td><td>3</td><td>0.0</td></tr><tr><td>717</td><td>Hans von Stuck</td><td>0</td><td>4</td><td>0.0</td></tr><tr><td>835</td><td>Jolyon Palmer</td><td>0</td><td>37</td><td>0.0</td></tr><tr><td>790</td><td>Leslie Johnson</td><td>0</td><td>1</td><td>0.0</td></tr><tr><td>262</td><td>Jackie Oliver</td><td>0</td><td>51</td><td>0.0</td></tr><tr><td>599</td><td>Art Bisch</td><td>0</td><td>1</td><td>0.0</td></tr><tr><td>84</td><td>Martin Brundle</td><td>0</td><td>165</td><td>0.0</td></tr><tr><td>50</td><td>Jos Verstappen</td><td>0</td><td>107</td><td>0.0</td></tr><tr><td>712</td><td>Willi Heeks</td><td>0</td><td>2</td><td>0.0</td></tr><tr><td>323</td><td>Dieter Quester</td><td>0</td><td>1</td><td>0.0</td></tr><tr><td>186</td><td>Kenny Acheson</td><td>0</td><td>9</td><td>0.0</td></tr><tr><td>453</td><td>Jackie Lewis</td><td>0</td><td>11</td><td>0.0</td></tr><tr><td>716</td><td>Erwin Bauer</td><td>0</td><td>1</td><td>0.0</td></tr><tr><td>598</td><td>Jerry Unser</td><td>0</td><td>1</td><td>0.0</td></tr><tr><td>6</td><td>Kazuki Nakajima</td><td>0</td><td>36</td><td>0.0</td></tr><tr><td>148</td><td>Gregor Foitek</td><td>0</td><td>22</td><td>0.0</td></tr><tr><td>171</td><td>Franco Forini</td><td>0</td><td>2</td><td>0.0</td></tr><tr><td>405</td><td>Ronnie Bucknum</td><td>0</td><td>11</td><td>0.0</td></tr><tr><td>644</td><td>Sergio Mantovani</td><td>0</td><td>9</td><td>0.0</td></tr><tr><td>685</td><td>John Riseley-Prichard</td><td>0</td><td>1</td><td>0.0</td></tr><tr><td>621</td><td>Paul England</td><td>0</td><td>1</td><td>0.0</td></tr><tr><td>753</td><td>Hans Klenk</td><td>0</td><td>1</td><td>0.0</td></tr><tr><td>164</td><td>Joachim Winkelhock</td><td>0</td><td>7</td><td>0.0</td></tr><tr><td>278</td><td>Chris Amon</td><td>0</td><td>106</td><td>0.0</td></tr><tr><td>537</td><td>Dick Rathmann</td><td>0</td><td>5</td><td>0.0</td></tr><tr><td>821</td><td>Esteban Gutiérrez</td><td>0</td><td>59</td><td>0.0</td></tr><tr><td>300</td><td>John Nicholson</td><td>0</td><td>2</td><td>0.0</td></tr><tr><td>659</td><td>Jerry Hoyt</td><td>0</td><td>5</td><td>0.0</td></tr><tr><td>317</td><td>Reine Wisell</td><td>0</td><td>23</td><td>0.0</td></tr><tr><td>140</td><td>Stefan Johansson</td><td>0</td><td>103</td><td>0.0</td></tr><tr><td>94</td><td>Pierluigi Martini</td><td>0</td><td>123</td><td>0.0</td></tr><tr><td>460</td><td>Gerry Ashmore</td><td>0</td><td>5</td><td>0.0</td></tr><tr><td>730</td><td>George Fonder</td><td>0</td><td>3</td><td>0.0</td></tr><tr><td>725</td><td>George Abecassis</td><td>0</td><td>2</td><td>0.0</td></tr><tr><td>302</td><td>Jim Crawford</td><td>0</td><td>2</td><td>0.0</td></tr><tr><td>234</td><td>Gianfranco Brancatelli</td><td>0</td><td>3</td><td>0.0</td></tr><tr><td>87</td><td>Mark Blundell</td><td>0</td><td>63</td><td>0.0</td></tr><tr><td>566</td><td>Carroll Shelby</td><td>0</td><td>9</td><td>0.0</td></tr><tr><td>543</td><td>Giulio Cabianca</td><td>0</td><td>4</td><td>0.0</td></tr><tr><td>749</td><td>Bill Aston</td><td>0</td><td>3</td><td>0.0</td></tr><tr><td>601</td><td>Dick Gibson</td><td>0</td><td>2</td><td>0.0</td></tr><tr><td>107</td><td>Roland Ratzenberger</td><td>0</td><td>3</td><td>0.0</td></tr><tr><td>562</td><td>Jack Turner</td><td>0</td><td>4</td><td>0.0</td></tr><tr><td>744</td><td>Ken Downing</td><td>0</td><td>2</td><td>0.0</td></tr><tr><td>777</td><td>Philip Fotheringham-Parker</td><td>0</td><td>1</td><td>0.0</td></tr><tr><td>283</td><td>Mike Wilds</td><td>0</td><td>8</td><td>0.0</td></tr><tr><td>665</td><td>Leslie Marr</td><td>0</td><td>2</td><td>0.0</td></tr><tr><td>740</td><td>Franco Comotti</td><td>0</td><td>2</td><td>0.0</td></tr><tr><td>457</td><td>Ben Pon</td><td>0</td><td>1</td><td>0.0</td></tr><tr><td>591</td><td>George Amick</td><td>0</td><td>1</td><td>0.0</td></tr><tr><td>330</td><td>Nanni Galli</td><td>0</td><td>17</td><td>0.0</td></tr><tr><td>104</td><td>Christian Fittipaldi</td><td>0</td><td>43</td><td>0.0</td></tr><tr><td>229</td><td>Harald Ertl</td><td>0</td><td>29</td><td>0.0</td></tr><tr><td>350</td><td>Vic Elford</td><td>0</td><td>13</td><td>0.0</td></tr><tr><td>99</td><td>Gabriele Tarquini</td><td>0</td><td>78</td><td>0.0</td></tr><tr><td>438</td><td>Tony Settember</td><td>0</td><td>10</td><td>0.0</td></tr><tr><td>778</td><td>Brian Shawe Taylor</td><td>0</td><td>2</td><td>0.0</td></tr><tr><td>661</td><td>Peter Walker</td><td>0</td><td>4</td><td>0.0</td></tr><tr><td>112</td><td>Philippe Alliot</td><td>0</td><td>115</td><td>0.0</td></tr><tr><td>441</td><td>Tim Parnell</td><td>0</td><td>4</td><td>0.0</td></tr><tr><td>624</td><td>Hernando da Silva Ramos</td><td>0</td><td>8</td><td>0.0</td></tr><tr><td>655</td><td>Cal Niday</td><td>0</td><td>3</td><td>0.0</td></tr><tr><td>710</td><td>Rudolf Krause</td><td>0</td><td>2</td><td>0.0</td></tr><tr><td>793</td><td>Raymond Sommer</td><td>0</td><td>5</td><td>0.0</td></tr><tr><td>209</td><td>Geoff Lees</td><td>0</td><td>12</td><td>0.0</td></tr><tr><td>619</td><td>Bob Gerard</td><td>0</td><td>7</td><td>0.0</td></tr><tr><td>703</td><td>Arthur Legat</td><td>0</td><td>2</td><td>0.0</td></tr><tr><td>530</td><td>Wayne Weiler</td><td>0</td><td>1</td><td>0.0</td></tr><tr><td>285</td><td>Otto Stuppacher</td><td>0</td><td>3</td><td>0.0</td></tr><tr><td>168</td><td>Jean-Louis Schlesser</td><td>0</td><td>2</td><td>0.0</td></tr><tr><td>521</td><td>Chuck Stevenson</td><td>0</td><td>7</td><td>0.0</td></tr><tr><td>667</td><td>John Fitch</td><td>0</td><td>2</td><td>0.0</td></tr><tr><td>682</td><td>Don Beauman</td><td>0</td><td>1</td><td>0.0</td></tr><tr><td>825</td><td>Kevin Magnussen</td><td>0</td><td>186</td><td>0.0</td></tr><tr><td>391</td><td>Brian Hart</td><td>0</td><td>1</td><td>0.0</td></tr><tr><td>801</td><td>Charles Pozzi</td><td>0</td><td>1</td><td>0.0</td></tr><tr><td>420</td><td>Ian Raby</td><td>0</td><td>7</td><td>0.0</td></tr><tr><td>586</td><td>Luigi Piotti</td><td>0</td><td>9</td><td>0.0</td></tr><tr><td>757</td><td>Josef Peters</td><td>0</td><td>1</td><td>0.0</td></tr><tr><td>823</td><td>Giedo van der Garde</td><td>0</td><td>19</td><td>0.0</td></tr><tr><td>291</td><td>Guy Tunmer</td><td>0</td><td>1</td><td>0.0</td></tr><tr><td>206</td><td>Derek Daly</td><td>0</td><td>64</td><td>0.0</td></tr><tr><td>625</td><td>Élie Bayol</td><td>0</td><td>7</td><td>0.0</td></tr><tr><td>762</td><td>Franco Rol</td><td>0</td><td>5</td><td>0.0</td></tr><tr><td>606</td><td>Alfonso de Portago</td><td>0</td><td>6</td><td>0.0</td></tr><tr><td>587</td><td>Bernie Ecclestone</td><td>0</td><td>1</td><td>0.0</td></tr><tr><td>512</td><td>Johnny Thomson</td><td>0</td><td>9</td><td>0.0</td></tr><tr><td>414</td><td>Clive Puzey</td><td>0</td><td>1</td><td>0.0</td></tr><tr><td>26</td><td>Scott Speed</td><td>0</td><td>28</td><td>0.0</td></tr><tr><td>759</td><td>Jan Flinterman</td><td>0</td><td>2</td><td>0.0</td></tr><tr><td>520</td><td>Gene Hartley</td><td>0</td><td>9</td><td>0.0</td></tr><tr><td>24</td><td>Vitantonio Liuzzi</td><td>0</td><td>81</td><td>0.0</td></tr><tr><td>152</td><td>Bruno Giacomelli</td><td>0</td><td>82</td><td>0.0</td></tr><tr><td>254</td><td>Renzo Zorzi</td><td>0</td><td>7</td><td>0.0</td></tr><tr><td>308</td><td>Richard Robarts</td><td>0</td><td>4</td><td>0.0</td></tr><tr><td>192</td><td>Chico Serra</td><td>0</td><td>32</td><td>0.0</td></tr><tr><td>851</td><td>Jack Aitken</td><td>0</td><td>1</td><td>0.0</td></tr><tr><td>691</td><td>Hermann Lang</td><td>0</td><td>2</td><td>0.0</td></tr><tr><td>292</td><td>Eddie Keizan</td><td>0</td><td>3</td><td>0.0</td></tr><tr><td>629</td><td>Cliff Griffith</td><td>0</td><td>3</td><td>0.0</td></tr><tr><td>353</td><td>Pete Lovely</td><td>0</td><td>11</td><td>0.0</td></tr><tr><td>280</td><td>Henri Pescarolo</td><td>0</td><td>59</td><td>0.0</td></tr><tr><td>70</td><td>Alessandro Zanardi</td><td>0</td><td>44</td><td>0.0</td></tr><tr><td>456</td><td>Roy Salvadori</td><td>0</td><td>51</td><td>0.0</td></tr><tr><td>382</td><td>Moisés Solana</td><td>0</td><td>8</td><td>0.0</td></tr><tr><td>826</td><td>Daniil Kvyat</td><td>0</td><td>112</td><td>0.0</td></tr><tr><td>282</td><td>Damien Magee</td><td>0</td><td>2</td><td>0.0</td></tr><tr><td>161</td><td>Volker Weidler</td><td>0</td><td>10</td><td>0.0</td></tr><tr><td>46</td><td>Gianmaria Bruni</td><td>0</td><td>18</td><td>0.0</td></tr><tr><td>761</td><td>Alberto Crespo</td><td>0</td><td>1</td><td>0.0</td></tr><tr><td>565</td><td>Mike Magill</td><td>0</td><td>3</td><td>0.0</td></tr><tr><td>37</td><td>Pedro de la Rosa</td><td>0</td><td>107</td><td>0.0</td></tr><tr><td>276</td><td>Bob Evans</td><td>0</td><td>12</td><td>0.0</td></tr><tr><td>342</td><td>Skip Barber</td><td>0</td><td>6</td><td>0.0</td></tr><tr><td>208</td><td>Emilio de Villota</td><td>0</td><td>14</td><td>0.0</td></tr><tr><td>98</td><td>Jean-Denis Délétraz</td><td>0</td><td>3</td><td>0.0</td></tr><tr><td>425</td><td>Nino Vaccarella</td><td>0</td><td>5</td><td>0.0</td></tr><tr><td>802</td><td>Dorino Serafini</td><td>0</td><td>1</td><td>0.0</td></tr><tr><td>217</td><td>Ricardo Zunino</td><td>0</td><td>11</td><td>0.0</td></tr><tr><td>85</td><td>Andrea Montermini</td><td>0</td><td>28</td><td>0.0</td></tr><tr><td>463</td><td>Jay Chamberlain</td><td>0</td><td>3</td><td>0.0</td></tr><tr><td>143</td><td>Michael Bartels</td><td>0</td><td>4</td><td>0.0</td></tr><tr><td>433</td><td>Walt Hansgen</td><td>0</td><td>4</td><td>0.0</td></tr><tr><td>727</td><td>Jim Rigsby</td><td>0</td><td>1</td><td>0.0</td></tr><tr><td>311</td><td>Tom Belsø</td><td>0</td><td>4</td><td>0.0</td></tr><tr><td>165</td><td>Oscar Larrauri</td><td>0</td><td>21</td><td>0.0</td></tr><tr><td>121</td><td>Michael Andretti</td><td>0</td><td>13</td><td>0.0</td></tr><tr><td>167</td><td>Adrián Campos</td><td>0</td><td>21</td><td>0.0</td></tr><tr><td>59</td><td>Enrique Bernoldi</td><td>0</td><td>29</td><td>0.0</td></tr><tr><td>455</td><td>Wolfgang Seidel</td><td>0</td><td>13</td><td>0.0</td></tr><tr><td>679</td><td>Ernie McCoy</td><td>0</td><td>2</td><td>0.0</td></tr><tr><td>326</td><td>Eppie Wietzes</td><td>0</td><td>2</td><td>0.0</td></tr><tr><td>407</td><td>David Prophet</td><td>0</td><td>2</td><td>0.0</td></tr><tr><td>324</td><td>Helmuth Koinigg</td><td>0</td><td>3</td><td>0.0</td></tr><tr><td>531</td><td>Anthony Foyt</td><td>0</td><td>3</td><td>0.0</td></tr><tr><td>377</td><td>Jo Schlesser</td><td>0</td><td>2</td><td>0.0</td></tr><tr><td>339</td><td>Alex Soler-Roig</td><td>0</td><td>9</td><td>0.0</td></tr><tr><td>144</td><td>Naoki Hattori</td><td>0</td><td>2</td><td>0.0</td></tr><tr><td>748</td><td>Eitel Cantoni</td><td>0</td><td>3</td><td>0.0</td></tr><tr><td>836</td><td>Pascal Wehrlein</td><td>0</td><td>39</td><td>0.0</td></tr><tr><td>75</td><td>Shinji Nakano</td><td>0</td><td>33</td><td>0.0</td></tr><tr><td>440</td><td>Jim Hall</td><td>0</td><td>12</td><td>0.0</td></tr><tr><td>451</td><td>Frank Dochnal</td><td>0</td><td>1</td><td>0.0</td></tr><tr><td>633</td><td>Luigi Villoresi</td><td>0</td><td>35</td><td>0.0</td></tr><tr><td>256</td><td>Larry Perkins</td><td>0</td><td>15</td><td>0.0</td></tr><tr><td>626</td><td>Robert Manzon</td><td>0</td><td>29</td><td>0.0</td></tr><tr><td>387</td><td>Mike Parkes</td><td>0</td><td>7</td><td>0.0</td></tr><tr><td>752</td><td>Helmut Niedermayr</td><td>0</td><td>1</td><td>0.0</td></tr><tr><td>696</td><td>John Barber</td><td>0</td><td>1</td><td>0.0</td></tr><tr><td>393</td><td>Tom Jones</td><td>0</td><td>1</td><td>0.0</td></tr><tr><td>352</td><td>George Eaton</td><td>0</td><td>13</td><td>0.0</td></tr><tr><td>671</td><td>Roger Loyer</td><td>0</td><td>1</td><td>0.0</td></tr><tr><td>458</td><td>Rob Slotemaker</td><td>0</td><td>1</td><td>0.0</td></tr><tr><td>170</td><td>Teo Fabi</td><td>0</td><td>71</td><td>0.0</td></tr><tr><td>213</td><td>Beppe Gabbiani</td><td>0</td><td>17</td><td>0.0</td></tr><tr><td>41</td><td>Ricardo Zonta</td><td>0</td><td>38</td><td>0.0</td></tr><tr><td>106</td><td>Olivier Beretta</td><td>0</td><td>10</td><td>0.0</td></tr><tr><td>28</td><td>Markus Winkelhock</td><td>0</td><td>1</td><td>0.0</td></tr><tr><td>397</td><td>Peter Arundell</td><td>0</td><td>15</td><td>0.0</td></tr><tr><td>2</td><td>Nick Heidfeld</td><td>0</td><td>184</td><td>0.0</td></tr><tr><td>583</td><td>Gerino Gerini</td><td>0</td><td>7</td><td>0.0</td></tr><tr><td>321</td><td>Derek Bell</td><td>0</td><td>14</td><td>0.0</td></tr><tr><td>772</td><td>Mack Hellings</td><td>0</td><td>2</td><td>0.0</td></tr><tr><td>450</td><td>Ernie de Vos</td><td>0</td><td>1</td><td>0.0</td></tr><tr><td>466</td><td>Heini Walter</td><td>0</td><td>1</td><td>0.0</td></tr><tr><td>572</td><td>Harry Blanchard</td><td>0</td><td>1</td><td>0.0</td></tr><tr><td>637</td><td>Archie Scott Brown</td><td>0</td><td>1</td><td>0.0</td></tr><tr><td>103</td><td>Éric Bernard</td><td>0</td><td>47</td><td>0.0</td></tr><tr><td>174</td><td>Johnny Dumfries</td><td>0</td><td>16</td><td>0.0</td></tr><tr><td>492</td><td>Menato Boffa</td><td>0</td><td>1</td><td>0.0</td></tr><tr><td>239</td><td>Brett Lunger</td><td>0</td><td>42</td><td>0.0</td></tr><tr><td>381</td><td>Bobby Unser</td><td>0</td><td>1</td><td>0.0</td></tr><tr><td>354</td><td>Chris Craft</td><td>0</td><td>2</td><td>0.0</td></tr><tr><td>305</td><td>Mike Hailwood</td><td>0</td><td>51</td><td>0.0</td></tr><tr><td>666</td><td>Tony Rolt</td><td>0</td><td>3</td><td>0.0</td></tr><tr><td>575</td><td>Bob Said</td><td>0</td><td>1</td><td>0.0</td></tr><tr><td>534</td><td>Gene Force</td><td>0</td><td>2</td><td>0.0</td></tr><tr><td>783</td><td>Georges Grignard</td><td>0</td><td>1</td><td>0.0</td></tr><tr><td>298</td><td>Gijs van Lennep</td><td>0</td><td>9</td><td>0.0</td></tr><tr><td>336</td><td>Graham McRae</td><td>0</td><td>1</td><td>0.0</td></tr><tr><td>596</td><td>Ed Elisian</td><td>0</td><td>5</td><td>0.0</td></tr><tr><td>805</td><td>Danny Kladis</td><td>0</td><td>1</td><td>0.0</td></tr><tr><td>303</td><td>Jo Vonlanthen</td><td>0</td><td>1</td><td>0.0</td></tr><tr><td>728</td><td>Joe James</td><td>0</td><td>2</td><td>0.0</td></tr><tr><td>602</td><td>Robert La Caze</td><td>0</td><td>1</td><td>0.0</td></tr><tr><td>263</td><td>Mikko Kozarowitzky</td><td>0</td><td>2</td><td>0.0</td></tr><tr><td>63</td><td>Mika Salo</td><td>0</td><td>111</td><td>0.0</td></tr><tr><td>538</td><td>Al Herman</td><td>0</td><td>5</td><td>0.0</td></tr><tr><td>622</td><td>Chico Landi</td><td>0</td><td>6</td><td>0.0</td></tr><tr><td>784</td><td>David Hampshire</td><td>0</td><td>2</td><td>0.0</td></tr><tr><td>751</td><td>Fritz Riess</td><td>0</td><td>1</td><td>0.0</td></tr><tr><td>128</td><td>Eric van de Poele</td><td>0</td><td>29</td><td>0.0</td></tr><tr><td>567</td><td>Fritz d'Orey</td><td>0</td><td>3</td><td>0.0</td></tr><tr><td>318</td><td>Bertil Roos</td><td>0</td><td>1</td><td>0.0</td></tr><tr><td>101</td><td>David Brabham</td><td>0</td><td>30</td><td>0.0</td></tr><tr><td>370</td><td>Richard Attwood</td><td>0</td><td>17</td><td>0.0</td></tr><tr><td>431</td><td>Edgar Barth</td><td>0</td><td>7</td><td>0.0</td></tr><tr><td>426</td><td>Giorgio Bassi</td><td>0</td><td>1</td><td>0.0</td></tr><tr><td>769</td><td>Bill Mackey</td><td>0</td><td>1</td><td>0.0</td></tr><tr><td>754</td><td>Marcel Balsa</td><td>0</td><td>1</td><td>0.0</td></tr><tr><td>253</td><td>Ingo Hoffmann</td><td>0</td><td>6</td><td>0.0</td></tr><tr><td>494</td><td>Lloyd Ruby</td><td>0</td><td>2</td><td>0.0</td></tr><tr><td>421</td><td>Alan Rollinson</td><td>0</td><td>1</td><td>0.0</td></tr><tr><td>501</td><td>Harry Schell</td><td>0</td><td>64</td><td>0.0</td></tr><tr><td>257</td><td>Boy Lunger</td><td>0</td><td>7</td><td>0.0</td></tr><tr><td>646</td><td>Jesús Iglesias</td><td>0</td><td>1</td><td>0.0</td></tr><tr><td>840</td><td>Lance Stroll</td><td>0</td><td>168</td><td>0.0</td></tr><tr><td>193</td><td>Danny Sullivan</td><td>0</td><td>15</td><td>0.0</td></tr><tr><td>149</td><td>Claudio Langes</td><td>0</td><td>14</td><td>0.0</td></tr><tr><td>810</td><td>Lucas di Grassi</td><td>0</td><td>19</td><td>0.0</td></tr><tr><td>294</td><td>Tony Brise</td><td>0</td><td>10</td><td>0.0</td></tr><tr><td>241</td><td>Lamberto Leoni</td><td>0</td><td>5</td><td>0.0</td></tr><tr><td>113</td><td>Philippe Adams</td><td>0</td><td>2</td><td>0.0</td></tr><tr><td>676</td><td>Frank Armi</td><td>0</td><td>1</td><td>0.0</td></tr><tr><td>734</td><td>Bobby Ball</td><td>0</td><td>2</td><td>0.0</td></tr><tr><td>445</td><td>Günther Seiffert</td><td>0</td><td>2</td><td>0.0</td></tr><tr><td>446</td><td>Carlo Abate</td><td>0</td><td>2</td><td>0.0</td></tr><tr><td>731</td><td>Henry Banks</td><td>0</td><td>3</td><td>0.0</td></tr><tr><td>10</td><td>Timo Glock</td><td>0</td><td>95</td><td>0.0</td></tr><tr><td>609</td><td>André Simon</td><td>0</td><td>12</td><td>0.0</td></tr><tr><td>518</td><td>Duane Carter</td><td>0</td><td>10</td><td>0.0</td></tr><tr><td>640</td><td>Toulo de Graffenried</td><td>0</td><td>23</td><td>0.0</td></tr><tr><td>388</td><td>Chris Irwin</td><td>0</td><td>10</td><td>0.0</td></tr><tr><td>279</td><td>Emilio Zapico</td><td>0</td><td>1</td><td>0.0</td></tr><tr><td>96</td><td>Jean-Christophe Boullion</td><td>0</td><td>11</td><td>0.0</td></tr><tr><td>51</td><td>Justin Wilson</td><td>0</td><td>16</td><td>0.0</td></tr><tr><td>437</td><td>Ian Burgess</td><td>0</td><td>26</td><td>0.0</td></tr><tr><td>432</td><td>Mário de Araújo Cabral</td><td>0</td><td>5</td><td>0.0</td></tr><tr><td>605</td><td>Tom Bridger</td><td>0</td><td>1</td><td>0.0</td></tr><tr><td>651</td><td>Lance Macklin</td><td>0</td><td>15</td><td>0.0</td></tr><tr><td>361</td><td>Piers Courage</td><td>0</td><td>29</td><td>0.0</td></tr><tr><td>205</td><td>Brian Henton</td><td>0</td><td>37</td><td>0.0</td></tr><tr><td>301</td><td>Dave Morgan</td><td>0</td><td>1</td><td>0.0</td></tr><tr><td>482</td><td>Olivier Gendebien</td><td>0</td><td>17</td><td>0.0</td></tr><tr><td>527</td><td>Eddie Sachs</td><td>0</td><td>4</td><td>0.0</td></tr><tr><td>477</td><td>Cliff Allison</td><td>0</td><td>18</td><td>0.0</td></tr><tr><td>787</td><td>Cuth Harrison</td><td>0</td><td>3</td><td>0.0</td></tr><tr><td>376</td><td>Lucien Bianchi</td><td>0</td><td>19</td><td>0.0</td></tr><tr><td>472</td><td>Mike Harris</td><td>0</td><td>1</td><td>0.0</td></tr><tr><td>718</td><td>Ernst Loof</td><td>0</td><td>1</td><td>0.0</td></tr><tr><td>154</td><td>Romain Grosjean</td><td>0</td><td>181</td><td>0.0</td></tr><tr><td>198</td><td>Jacques Villeneuve Sr.</td><td>0</td><td>3</td><td>0.0</td></tr><tr><td>81</td><td>Gianni Morbidelli</td><td>0</td><td>70</td><td>0.0</td></tr><tr><td>36</td><td>Franck Montagny</td><td>0</td><td>7</td><td>0.0</td></tr><tr><td>264</td><td>Andy Sutcliffe</td><td>0</td><td>1</td><td>0.0</td></tr><tr><td>392</td><td>Mike Fisher</td><td>0</td><td>2</td><td>0.0</td></tr><tr><td>767</td><td>Carl Forberg</td><td>0</td><td>1</td><td>0.0</td></tr><tr><td>490</td><td>Geoff Duke</td><td>0</td><td>1</td><td>0.0</td></tr><tr><td>27</td><td>Christijan Albers</td><td>0</td><td>46</td><td>0.0</td></tr><tr><td>736</td><td>Roger Laurent</td><td>0</td><td>2</td><td>0.0</td></tr><tr><td>771</td><td>Walt Brown</td><td>0</td><td>2</td><td>0.0</td></tr><tr><td>755</td><td>Rudolf Schoeller</td><td>0</td><td>1</td><td>0.0</td></tr><tr><td>333</td><td>Andrea de Adamich</td><td>0</td><td>36</td><td>0.0</td></tr><tr><td>151</td><td>Martin Donnelly</td><td>0</td><td>15</td><td>0.0</td></tr><tr><td>133</td><td>Alex Caffi</td><td>0</td><td>75</td><td>0.0</td></tr><tr><td>19</td><td>Anthony Davidson</td><td>0</td><td>24</td><td>0.0</td></tr><tr><td>398</td><td>Vic Wilson</td><td>0</td><td>2</td><td>0.0</td></tr><tr><td>713</td><td>Theo Fitzau</td><td>0</td><td>1</td><td>0.0</td></tr><tr><td>705</td><td>Tony Crook</td><td>0</td><td>2</td><td>0.0</td></tr><tr><td>781</td><td>Ken Richardson</td><td>0</td><td>1</td><td>0.0</td></tr><tr><td>237</td><td>Alex Ribeiro</td><td>0</td><td>20</td><td>0.0</td></tr><tr><td>116</td><td>Franck Lagorce</td><td>0</td><td>2</td><td>0.0</td></tr><tr><td>43</td><td>Cristiano da Matta</td><td>0</td><td>28</td><td>0.0</td></tr><tr><td>688</td><td>Eric Brandon</td><td>0</td><td>5</td><td>0.0</td></tr><tr><td>523</td><td>Shorty Templeman</td><td>0</td><td>3</td><td>0.0</td></tr><tr><td>775</td><td>Aldo Gordini</td><td>0</td><td>1</td><td>0.0</td></tr><tr><td>197</td><td>Jean-Pierre Jarier</td><td>0</td><td>143</td><td>0.0</td></tr><tr><td>78</td><td>Nicola Larini</td><td>0</td><td>75</td><td>0.0</td></tr><tr><td>74</td><td>Esteban Tuero</td><td>0</td><td>16</td><td>0.0</td></tr><tr><td>861</td><td>Franco Colapinto</td><td>0</td><td>9</td><td>0.0</td></tr><tr><td>747</td><td>David Murray</td><td>0</td><td>4</td><td>0.0</td></tr><tr><td>511</td><td>Don Branson</td><td>0</td><td>2</td><td>0.0</td></tr><tr><td>585</td><td>Paul Emery</td><td>0</td><td>2</td><td>0.0</td></tr><tr><td>226</td><td>Stephen South</td><td>0</td><td>1</td><td>0.0</td></tr><tr><td>854</td><td>Mick Schumacher</td><td>0</td><td>44</td><td>0.0</td></tr><tr><td>856</td><td>Nyck de Vries</td><td>0</td><td>11</td><td>0.0</td></tr><tr><td>722</td><td>Piero Carini</td><td>0</td><td>3</td><td>0.0</td></tr><tr><td>443</td><td>Ernesto Brambilla</td><td>0</td><td>1</td><td>0.0</td></tr><tr><td>335</td><td>Roger Williamson</td><td>0</td><td>2</td><td>0.0</td></tr><tr><td>419</td><td>John Rhodes</td><td>0</td><td>1</td><td>0.0</td></tr><tr><td>506</td><td>Bruce Halford</td><td>0</td><td>9</td><td>0.0</td></tr><tr><td>853</td><td>Nikita Mazepin</td><td>0</td><td>22</td><td>0.0</td></tr><tr><td>533</td><td>Johnny Boyd</td><td>0</td><td>6</td><td>0.0</td></tr><tr><td>607</td><td>Cesare Perdisa</td><td>0</td><td>9</td><td>0.0</td></tr><tr><td>357</td><td>John Miles</td><td>0</td><td>15</td><td>0.0</td></tr><tr><td>115</td><td>Hideki Noda</td><td>0</td><td>3</td><td>0.0</td></tr><tr><td>678</td><td>Len Duncan</td><td>0</td><td>1</td><td>0.0</td></tr><tr><td>604</td><td>François Picard</td><td>0</td><td>1</td><td>0.0</td></tr><tr><td>58</td><td>Tarso Marques</td><td>0</td><td>26</td><td>0.0</td></tr><tr><td>662</td><td>Mike Sparken</td><td>0</td><td>1</td><td>0.0</td></tr><tr><td>513</td><td>Eddie Johnson</td><td>0</td><td>9</td><td>0.0</td></tr><tr><td>232</td><td>Arturo Merzario</td><td>0</td><td>84</td><td>0.0</td></tr><tr><td>429</td><td>André Pilette</td><td>0</td><td>15</td><td>0.0</td></tr><tr><td>763</td><td>Consalvo Sanesi</td><td>0</td><td>5</td><td>0.0</td></tr><tr><td>560</td><td>Bill Cheesbourg</td><td>0</td><td>3</td><td>0.0</td></tr><tr><td>702</td><td>Bob Scott</td><td>0</td><td>5</td><td>0.0</td></tr><tr><td>785</td><td>Geoff Crossley</td><td>0</td><td>2</td><td>0.0</td></tr><tr><td>211</td><td>Rupert Keegan</td><td>0</td><td>37</td><td>0.0</td></tr><tr><td>160</td><td>Piercarlo Ghinzani</td><td>0</td><td>111</td><td>0.0</td></tr><tr><td>47</td><td>Zsolt Baumgartner</td><td>0</td><td>20</td><td>0.0</td></tr><tr><td>855</td><td>Guanyu Zhou</td><td>0</td><td>68</td><td>0.0</td></tr><tr><td>554</td><td>Jean Behra</td><td>0</td><td>57</td><td>0.0</td></tr><tr><td>529</td><td>Tony Bettenhausen</td><td>0</td><td>13</td><td>0.0</td></tr><tr><td>273</td><td>Kazuyoshi Hoshino</td><td>0</td><td>2</td><td>0.0</td></tr><tr><td>185</td><td>Stefan Bellof</td><td>0</td><td>22</td><td>0.0</td></tr><tr><td>480</td><td>Michael May</td><td>0</td><td>4</td><td>0.0</td></tr><tr><td>258</td><td>Patrick Nève</td><td>0</td><td>13</td><td>0.0</td></tr><tr><td>452</td><td>Thomas Monarch</td><td>0</td><td>1</td><td>0.0</td></tr><tr><td>319</td><td>José Dolhem</td><td>0</td><td>3</td><td>0.0</td></tr><tr><td>114</td><td>Yannick Dalmas</td><td>0</td><td>50</td><td>0.0</td></tr><tr><td>439</td><td>Nasif Estéfano</td><td>0</td><td>5</td><td>0.0</td></tr><tr><td>504</td><td>Antonio Creus</td><td>0</td><td>1</td><td>0.0</td></tr><tr><td>344</td><td>Sam Posey</td><td>0</td><td>2</td><td>0.0</td></tr><tr><td>277</td><td>Michel Leclère</td><td>0</td><td>8</td><td>0.0</td></tr><tr><td>366</td><td>Gus Hutchison</td><td>0</td><td>1</td><td>0.0</td></tr><tr><td>136</td><td>Jan Lammers</td><td>0</td><td>41</td><td>0.0</td></tr><tr><td>83</td><td>Pedro Lamy</td><td>0</td><td>32</td><td>0.0</td></tr><tr><td>130</td><td>Andrea Chiesa</td><td>0</td><td>10</td><td>0.0</td></tr></tbody></table></div>"
      ]
     },
     "metadata": {
      "application/vnd.databricks.v1+output": {
       "addedWidgets": {},
       "aggData": [],
       "aggError": "",
       "aggOverflow": false,
       "aggSchema": [],
       "aggSeriesLimitReached": false,
       "aggType": "",
       "arguments": {},
       "columnCustomDisplayInfos": {},
       "data": [
        [
         766,
         "Lee Wallard",
         1,
         2,
         50.0
        ],
        [
         579,
         "Juan Fangio",
         24,
         58,
         41.38
        ],
        [
         657,
         "Bill Vukovich",
         2,
         5,
         40.0
        ],
        [
         647,
         "Alberto Ascari",
         13,
         36,
         36.11
        ],
        [
         373,
         "Jim Clark",
         25,
         73,
         34.25
        ],
        [
         830,
         "Max Verstappen",
         63,
         209,
         30.14
        ],
        [
         30,
         "Michael Schumacher",
         91,
         308,
         29.55
        ],
        [
         1,
         "Lewis Hamilton",
         105,
         356,
         29.49
        ],
        [
         328,
         "Jackie Stewart",
         27,
         100,
         27.0
        ],
        [
         102,
         "Ayrton Senna",
         41,
         162,
         25.31
        ],
        [
         117,
         "Alain Prost",
         51,
         202,
         25.25
        ],
        [
         475,
         "Stirling Moss",
         16,
         73,
         21.92
        ],
        [
         628,
         "Bob Sweikert",
         1,
         5,
         20.0
        ],
        [
         71,
         "Damon Hill",
         22,
         122,
         18.03
        ],
        [
         20,
         "Sebastian Vettel",
         53,
         300,
         17.67
        ],
        [
         559,
         "Pat Flaherty",
         1,
         6,
         16.67
        ],
        [
         95,
         "Nigel Mansell",
         31,
         192,
         16.15
        ],
        [
         479,
         "Tony Brooks",
         6,
         41,
         14.63
        ],
        [
         182,
         "Niki Lauda",
         25,
         174,
         14.37
        ],
        [
         642,
         "Nino Farina",
         5,
         37,
         13.51
        ],
        [
         786,
         "Luigi Fagioli",
         1,
         8,
         12.5
        ],
        [
         57,
         "Mika Häkkinen",
         20,
         165,
         12.12
        ],
        [
         3,
         "Nico Rosberg",
         23,
         206,
         11.17
        ],
        [
         137,
         "Nelson Piquet",
         23,
         207,
         11.11
        ],
        [
         611,
         "Sam Hanks",
         1,
         9,
         11.11
        ],
        [
         526,
         "Troy Ruttman",
         1,
         9,
         11.11
        ],
        [
         525,
         "Jimmy Bryan",
         1,
         9,
         11.11
        ],
        [
         356,
         "Jack Brabham",
         14,
         129,
         10.85
        ],
        [
         231,
         "James Hunt",
         10,
         93,
         10.75
        ],
        [
         178,
         "Alan Jones",
         12,
         117,
         10.26
        ],
        [
         593,
         "Johnnie Parsons",
         1,
         10,
         10.0
        ],
        [
         358,
         "Jochen Rindt",
         6,
         62,
         9.68
        ],
        [
         224,
         "Emerson Fittipaldi",
         14,
         149,
         9.4
        ],
        [
         207,
         "Mario Andretti",
         12,
         129,
         9.3
        ],
        [
         222,
         "Jody Scheckter",
         10,
         113,
         8.85
        ],
        [
         203,
         "Gilles Villeneuve",
         6,
         68,
         8.82
        ],
        [
         449,
         "Rodger Ward",
         1,
         12,
         8.33
        ],
        [
         509,
         "Jim Rathmann",
         1,
         12,
         8.33
        ],
        [
         199,
         "Carlos Reutemann",
         12,
         146,
         8.22
        ],
        [
         238,
         "Ronnie Peterson",
         10,
         123,
         8.13
        ],
        [
         581,
         "Peter Collins",
         3,
         37,
         8.11
        ],
        [
         4,
         "Fernando Alonso",
         32,
         404,
         7.92
        ],
        [
         289,
         "Graham Hill",
         14,
         179,
         7.82
        ],
        [
         375,
         "Ludovico Scarfiotti",
         1,
         13,
         7.69
        ],
        [
         31,
         "Juan Pablo Montoya",
         7,
         95,
         7.37
        ],
        [
         304,
         "Denny Hulme",
         8,
         112,
         7.14
        ],
        [
         476,
         "Wolfgang von Trips",
         2,
         28,
         7.14
        ],
        [
         498,
         "José Froilán González",
         2,
         29,
         6.9
        ],
        [
         35,
         "Jacques Villeneuve",
         11,
         165,
         6.67
        ],
        [
         235,
         "Jacky Ickx",
         8,
         121,
         6.61
        ],
        [
         309,
         "Peter Revson",
         2,
         31,
         6.45
        ],
        [
         578,
         "Mike Hawthorn",
         3,
         48,
         6.25
        ],
        [
         8,
         "Kimi Räikkönen",
         21,
         352,
         5.97
        ],
        [
         403,
         "Phil Hill",
         3,
         52,
         5.77
        ],
        [
         641,
         "Piero Taruffi",
         1,
         18,
         5.56
        ],
        [
         844,
         "Charles Leclerc",
         8,
         149,
         5.37
        ],
        [
         341,
         "John Surtees",
         6,
         112,
         5.36
        ],
        [
         14,
         "David Coulthard",
         13,
         247,
         5.26
        ],
        [
         18,
         "Jenson Button",
         15,
         309,
         4.85
        ],
        [
         77,
         "Gerhard Berger",
         10,
         210,
         4.76
        ],
        [
         364,
         "Dan Gurney",
         4,
         87,
         4.6
        ],
        [
         857,
         "Oscar Piastri",
         2,
         46,
         4.35
        ],
        [
         163,
         "René Arnoux",
         7,
         164,
         4.27
        ],
        [
         202,
         "Didier Pironi",
         3,
         72,
         4.17
        ],
        [
         17,
         "Mark Webber",
         9,
         217,
         4.15
        ],
        [
         13,
         "Felipe Massa",
         11,
         271,
         4.06
        ],
        [
         822,
         "Valtteri Bottas",
         10,
         247,
         4.05
        ],
        [
         177,
         "Keke Rosberg",
         5,
         128,
         3.91
        ],
        [
         360,
         "Bruce McLaren",
         4,
         103,
         3.88
        ],
        [
         577,
         "Luigi Musso",
         1,
         26,
         3.85
        ],
        [
         394,
         "Giancarlo Baghetti",
         1,
         26,
         3.85
        ],
        [
         345,
         "Pedro Rodríguez",
         2,
         54,
         3.7
        ],
        [
         219,
         "Jean-Pierre Jabouille",
         2,
         55,
         3.64
        ],
        [
         223,
         "Clay Regazzoni",
         5,
         138,
         3.62
        ],
        [
         22,
         "Rubens Barrichello",
         11,
         326,
         3.37
        ],
        [
         23,
         "Ralf Schumacher",
         6,
         180,
         3.33
        ],
        [
         172,
         "Jacques Laffite",
         6,
         180,
         3.33
        ],
        [
         320,
         "Peter Gethin",
         1,
         30,
         3.33
        ],
        [
         187,
         "John Watson",
         5,
         154,
         3.25
        ],
        [
         846,
         "Lando Norris",
         4,
         128,
         3.13
        ],
        [
         255,
         "Gunnar Nilsson",
         1,
         32,
         3.13
        ],
        [
         817,
         "Daniel Ricciardo",
         8,
         257,
         3.11
        ],
        [
         56,
         "Eddie Irvine",
         4,
         147,
         2.72
        ],
        [
         847,
         "George Russell",
         3,
         128,
         2.34
        ],
        [
         119,
         "Riccardo Patrese",
         6,
         257,
         2.33
        ],
        [
         105,
         "Michele Alboreto",
         5,
         215,
         2.33
        ],
        [
         427,
         "Maurice Trintignant",
         2,
         87,
         2.3
        ],
        [
         385,
         "Lorenzo Bandini",
         1,
         44,
         2.27
        ],
        [
         327,
         "François Cevert",
         1,
         47,
         2.13
        ],
        [
         815,
         "Sergio Pérez",
         6,
         283,
         2.12
        ],
        [
         221,
         "Patrick Depailler",
         2,
         95,
         2.11
        ],
        [
         346,
         "Jo Siffert",
         2,
         100,
         2.0
        ],
        [
         832,
         "Carlos Sainz",
         4,
         208,
         1.92
        ],
        [
         49,
         "Heinz-Harald Frentzen",
         3,
         159,
         1.89
        ],
        [
         386,
         "Richie Ginther",
         1,
         54,
         1.85
        ],
        [
         123,
         "Thierry Boutsen",
         3,
         164,
         1.83
        ],
        [
         173,
         "Elio de Angelis",
         2,
         110,
         1.82
        ],
        [
         404,
         "Innes Ireland",
         1,
         55,
         1.82
        ],
        [
         65,
         "Johnny Herbert",
         3,
         165,
         1.82
        ],
        [
         175,
         "Patrick Tambay",
         2,
         122,
         1.64
        ],
        [
         250,
         "Carlos Pace",
         1,
         73,
         1.37
        ],
        [
         21,
         "Giancarlo Fisichella",
         3,
         231,
         1.3
        ],
        [
         145,
         "Alessandro Nannini",
         1,
         77,
         1.3
        ],
        [
         230,
         "Vittorio Brambilla",
         1,
         78,
         1.28
        ],
        [
         306,
         "Jean-Pierre Beltoise",
         1,
         87,
         1.15
        ],
        [
         813,
         "Pastor Maldonado",
         1,
         96,
         1.04
        ],
        [
         9,
         "Robert Kubica",
         1,
         99,
         1.01
        ],
        [
         347,
         "Jo Bonnier",
         1,
         109,
         0.92
        ],
        [
         5,
         "Heikki Kovalainen",
         1,
         112,
         0.89
        ],
        [
         200,
         "Jochen Mass",
         1,
         114,
         0.88
        ],
        [
         842,
         "Pierre Gasly",
         1,
         154,
         0.65
        ],
        [
         839,
         "Esteban Ocon",
         1,
         156,
         0.64
        ],
        [
         44,
         "Olivier Panis",
         1,
         158,
         0.63
        ],
        [
         55,
         "Jean Alesi",
         1,
         202,
         0.5
        ],
        [
         15,
         "Jarno Trulli",
         1,
         256,
         0.39
        ],
        [
         369,
         "Basil van Rooyen",
         0,
         2,
         0.0
        ],
        [
         176,
         "Marc Surer",
         0,
         88,
         0.0
        ],
        [
         297,
         "Torsten Palm",
         0,
         2,
         0.0
        ],
        [
         371,
         "Al Pease",
         0,
         2,
         0.0
        ],
        [
         618,
         "Herbert MacKay-Fraser",
         0,
         1,
         0.0
        ],
        [
         782,
         "Juan Jover",
         0,
         1,
         0.0
        ],
        [
         216,
         "Siegfried Stohr",
         0,
         13,
         0.0
        ],
        [
         218,
         "Ricardo Londoño",
         0,
         1,
         0.0
        ],
        [
         576,
         "Phil Cade",
         0,
         1,
         0.0
        ],
        [
         499,
         "Roberto Bonomi",
         0,
         1,
         0.0
        ],
        [
         616,
         "Elmer George",
         0,
         1,
         0.0
        ],
        [
         631,
         "Keith Andrews",
         0,
         2,
         0.0
        ],
        [
         798,
         "Bayliss Levrett",
         0,
         1,
         0.0
        ],
        [
         64,
         "Pedro Diniz",
         0,
         99,
         0.0
        ],
        [
         503,
         "Ettore Chimeri",
         0,
         1,
         0.0
        ],
        [
         111,
         "Jean-Marc Gounon",
         0,
         9,
         0.0
        ],
        [
         627,
         "Louis Rosier",
         0,
         39,
         0.0
        ],
        [
         632,
         "Paul Frère",
         0,
         11,
         0.0
        ],
        [
         590,
         "Stuart Lewis-Evans",
         0,
         14,
         0.0
        ],
        [
         179,
         "Huub Rothengatter",
         0,
         28,
         0.0
        ],
        [
         195,
         "Roberto Guerrero",
         0,
         29,
         0.0
        ],
        [
         191,
         "Mike Thackwell",
         0,
         5,
         0.0
        ],
        [
         430,
         "Carel Godin de Beaufort",
         0,
         31,
         0.0
        ],
        [
         561,
         "Ray Crawford",
         0,
         3,
         0.0
        ],
        [
         76,
         "Jan Magnussen",
         0,
         25,
         0.0
        ],
        [
         634,
         "Piero Scotti",
         0,
         1,
         0.0
        ],
        [
         363,
         "Ignazio Giunti",
         0,
         4,
         0.0
        ],
        [
         488,
         "Peter Monteverdi",
         0,
         1,
         0.0
        ],
        [
         312,
         "Brian Redman",
         0,
         13,
         0.0
        ],
        [
         563,
         "Chuck Weyant",
         0,
         4,
         0.0
        ],
        [
         670,
         "Onofre Marimón",
         0,
         12,
         0.0
        ],
        [
         489,
         "Renato Pirocchi",
         0,
         2,
         0.0
        ],
        [
         816,
         "Jérôme d'Ambrosio",
         0,
         20,
         0.0
        ],
        [
         162,
         "Pierre-Henri Raphanel",
         0,
         17,
         0.0
        ],
        [
         368,
         "Sam Tingle",
         0,
         6,
         0.0
        ],
        [
         478,
         "Hans Herrmann",
         0,
         20,
         0.0
        ],
        [
         487,
         "Massimo Natili",
         0,
         2,
         0.0
        ],
        [
         514,
         "Bob Veith",
         0,
         5,
         0.0
        ],
        [
         214,
         "Kevin Cogan",
         0,
         2,
         0.0
        ],
        [
         89,
         "Taki Inoue",
         0,
         18,
         0.0
        ],
        [
         686,
         "Reg Parnell",
         0,
         7,
         0.0
        ],
        [
         862,
         "Jack Doohan",
         0,
         1,
         0.0
        ],
        [
         374,
         "Mike Spence",
         0,
         36,
         0.0
        ],
        [
         236,
         "Patrick Gaillard",
         0,
         5,
         0.0
        ],
        [
         773,
         "Pierre Levegh",
         0,
         6,
         0.0
        ],
        [
         515,
         "Bud Tingelstad",
         0,
         1,
         0.0
        ],
        [
         638,
         "Ottorino Volonterio",
         0,
         3,
         0.0
        ],
        [
         108,
         "Paul Belmondo",
         0,
         27,
         0.0
        ],
        [
         742,
         "Dennis Poore",
         0,
         2,
         0.0
        ],
        [
         495,
         "Ken Miles",
         0,
         1,
         0.0
        ],
        [
         770,
         "Cecil Green",
         0,
         2,
         0.0
        ],
        [
         811,
         "Bruno Senna",
         0,
         46,
         0.0
        ],
        [
         90,
         "Roberto Moreno",
         0,
         74,
         0.0
        ],
        [
         428,
         "Bernard Collomb",
         0,
         6,
         0.0
        ],
        [
         416,
         "David Clapham",
         0,
         1,
         0.0
        ],
        [
         413,
         "Ernie Pieterse",
         0,
         3,
         0.0
        ],
        [
         469,
         "Rob Schroeder",
         0,
         1,
         0.0
        ],
        [
         158,
         "Eddie Cheever",
         0,
         143,
         0.0
        ],
        [
         159,
         "Luis Pérez-Sala",
         0,
         32,
         0.0
        ],
        [
         147,
         "Paolo Barilla",
         0,
         15,
         0.0
        ],
        [
         126,
         "Toshio Suzuki",
         0,
         2,
         0.0
        ],
        [
         434,
         "Hap Sharp",
         0,
         6,
         0.0
        ],
        [
         544,
         "Piero Drogo",
         0,
         1,
         0.0
        ],
        [
         719,
         "Albert Scherrer",
         0,
         1,
         0.0
        ],
        [
         349,
         "Max Jean",
         0,
         1,
         0.0
        ],
        [
         389,
         "Guy Ligier",
         0,
         13,
         0.0
        ],
        [
         409,
         "Trevor Blokdyk",
         0,
         2,
         0.0
        ],
        [
         348,
         "François Mazet",
         0,
         1,
         0.0
        ],
        [
         150,
         "Gary Brabham",
         0,
         2,
         0.0
        ],
        [
         684,
         "Bill Whitehouse",
         0,
         1,
         0.0
        ],
        [
         608,
         "Eugenio Castellotti",
         0,
         17,
         0.0
        ],
        [
         774,
         "Eugène Chaboud",
         0,
         3,
         0.0
        ],
        [
         584,
         "Bruce Kessler",
         0,
         1,
         0.0
        ],
        [
         656,
         "Art Cross",
         0,
         4,
         0.0
        ],
        [
         715,
         "Günther Bechem",
         0,
         2,
         0.0
        ],
        [
         724,
         "Toni Ulmen",
         0,
         2,
         0.0
        ],
        [
         296,
         "François Migault",
         0,
         15,
         0.0
        ],
        [
         52,
         "Ralph Firman",
         0,
         14,
         0.0
        ],
        [
         53,
         "Nicolas Kiesa",
         0,
         5,
         0.0
        ],
        [
         595,
         "Billy Garrett",
         0,
         2,
         0.0
        ],
        [
         118,
         "Derek Warwick",
         0,
         162,
         0.0
        ],
        [
         196,
         "Raul Boesel",
         0,
         30,
         0.0
        ],
        [
         858,
         "Logan Sargeant",
         0,
         36,
         0.0
        ],
        [
         745,
         "Graham Whitehead",
         0,
         1,
         0.0
        ],
        [
         465,
         "Keith Greene",
         0,
         7,
         0.0
        ],
        [
         390,
         "Alan Rees",
         0,
         2,
         0.0
        ],
        [
         818,
         "Jean-Éric Vergne",
         0,
         58,
         0.0
        ],
        [
         141,
         "Julian Bailey",
         0,
         20,
         0.0
        ],
        [
         689,
         "Alan Brown",
         0,
         9,
         0.0
        ],
        [
         251,
         "Ian Scheckter",
         0,
         20,
         0.0
        ],
        [
         61,
         "Tomáš Enge",
         0,
         3,
         0.0
        ],
        [
         681,
         "Georges Berger",
         0,
         2,
         0.0
        ],
        [
         552,
         "Jean Lucienbonnet",
         0,
         1,
         0.0
        ],
        [
         668,
         "Jean Lucas",
         0,
         1,
         0.0
        ],
        [
         271,
         "Loris Kessel",
         0,
         6,
         0.0
        ],
        [
         739,
         "Robin Montgomerie-Charrington",
         0,
         1,
         0.0
        ],
        [
         194,
         "Eliseo Salazar",
         0,
         37,
         0.0
        ],
        [
         680,
         "Jacques Swaters",
         0,
         7,
         0.0
        ],
        [
         594,
         "Johnnie Tolan",
         0,
         3,
         0.0
        ],
        [
         698,
         "Adolfo Cruz",
         0,
         1,
         0.0
        ],
        [
         359,
         "Johnny Servoz-Gavin",
         0,
         12,
         0.0
        ],
        [
         351,
         "Silvio Moser",
         0,
         18,
         0.0
        ],
        [
         268,
         "Hans Heyer",
         0,
         1,
         0.0
        ],
        [
         7,
         "Sébastien Bourdais",
         0,
         27,
         0.0
        ],
        [
         519,
         "Bill Homeier",
         0,
         3,
         0.0
        ],
        [
         496,
         "Carlos Menditeguy",
         0,
         12,
         0.0
        ],
        [
         332,
         "George Follmer",
         0,
         12,
         0.0
        ],
        [
         597,
         "Pat O'Connor",
         0,
         5,
         0.0
        ],
        [
         91,
         "Karl Wendlinger",
         0,
         42,
         0.0
        ],
        [
         124,
         "Marco Apicella",
         0,
         1,
         0.0
        ],
        [
         464,
         "Tony Shelly",
         0,
         3,
         0.0
        ],
        [
         383,
         "Bob Anderson",
         0,
         26,
         0.0
        ],
        [
         729,
         "Bill Schindler",
         0,
         3,
         0.0
        ],
        [
         639,
         "André Milhoux",
         0,
         1,
         0.0
        ],
        [
         16,
         "Adrian Sutil",
         0,
         128,
         0.0
        ],
        [
         355,
         "John Cannon",
         0,
         1,
         0.0
        ],
        [
         188,
         "Johnny Cecotto",
         0,
         23,
         0.0
        ],
        [
         129,
         "Olivier Grouillard",
         0,
         62,
         0.0
        ],
        [
         574,
         "George Constantine",
         0,
         1,
         0.0
        ],
        [
         557,
         "Chuck Arnold",
         0,
         1,
         0.0
        ],
        [
         267,
         "Vern Schuppan",
         0,
         12,
         0.0
        ],
        [
         573,
         "Alessandro de Tomaso",
         0,
         2,
         0.0
        ],
        [
         467,
         "Ernesto Prinoth",
         0,
         2,
         0.0
        ],
        [
         652,
         "Ted Whiteaway",
         0,
         1,
         0.0
        ],
        [
         837,
         "Rio Haryanto",
         0,
         12,
         0.0
        ],
        [
         675,
         "Manny Ayulo",
         0,
         4,
         0.0
        ],
        [
         135,
         "Perry McCarthy",
         0,
         7,
         0.0
        ],
        [
         564,
         "Jud Larson",
         0,
         2,
         0.0
        ],
        [
         242,
         "Divina Galica",
         0,
         3,
         0.0
        ],
        [
         536,
         "Len Sutton",
         0,
         3,
         0.0
        ],
        [
         468,
         "Roger Penske",
         0,
         2,
         0.0
        ],
        [
         493,
         "Peter Ryan",
         0,
         1,
         0.0
        ],
        [
         700,
         "Carl Scarborough",
         0,
         2,
         0.0
        ],
        [
         86,
         "Giovanni Lavaggi",
         0,
         10,
         0.0
        ],
        [
         677,
         "Travis Webb",
         0,
         4,
         0.0
        ],
        [
         399,
         "John Taylor",
         0,
         5,
         0.0
        ],
        [
         828,
         "Marcus Ericsson",
         0,
         97,
         0.0
        ],
        [
         260,
         "Conny Andersson",
         0,
         5,
         0.0
        ],
        [
         93,
         "Domenico Schiattarella",
         0,
         7,
         0.0
        ],
        [
         750,
         "Adolf Brudes",
         0,
         1,
         0.0
        ],
        [
         131,
         "Stefano Modena",
         0,
         81,
         0.0
        ],
        [
         486,
         "Jack Fairman",
         0,
         13,
         0.0
        ],
        [
         307,
         "Howden Ganley",
         0,
         39,
         0.0
        ],
        [
         261,
         "Bernard de Dryver",
         0,
         1,
         0.0
        ],
        [
         372,
         "John Cordts",
         0,
         1,
         0.0
        ],
        [
         843,
         "Brendon Hartley",
         0,
         25,
         0.0
        ],
        [
         580,
         "Paco Godia",
         0,
         14,
         0.0
        ],
        [
         549,
         "Ivor Bueb",
         0,
         6,
         0.0
        ],
        [
         614,
         "Don Edmunds",
         0,
         1,
         0.0
        ],
        [
         819,
         "Charles Pic",
         0,
         39,
         0.0
        ],
        [
         34,
         "Yuji Ide",
         0,
         4,
         0.0
        ],
        [
         649,
         "Pablo Birger",
         0,
         2,
         0.0
        ],
        [
         329,
         "Mike Beuttler",
         0,
         29,
         0.0
        ],
        [
         741,
         "Philippe Étancelin",
         0,
         12,
         0.0
        ],
        [
         491,
         "Alfonso Thiele",
         0,
         2,
         0.0
        ],
        [
         338,
         "David Walker",
         0,
         11,
         0.0
        ],
        [
         378,
         "Robin Widdows",
         0,
         1,
         0.0
        ],
        [
         849,
         "Nicholas Latifi",
         0,
         61,
         0.0
        ],
        [
         508,
         "Lance Reventlow",
         0,
         4,
         0.0
        ],
        [
         362,
         "Peter de Klerk",
         0,
         4,
         0.0
        ],
        [
         444,
         "Roberto Lippi",
         0,
         3,
         0.0
        ],
        [
         800,
         "Nello Pagani",
         0,
         1,
         0.0
        ],
        [
         367,
         "Peter Westbury",
         0,
         1,
         0.0
        ],
        [
         588,
         "Luigi Taramazzo",
         0,
         1,
         0.0
        ],
        [
         760,
         "Piero Dusio",
         0,
         1,
         0.0
        ],
        [
         62,
         "Alex Yoong",
         0,
         16,
         0.0
        ],
        [
         396,
         "Bob Bondurant",
         0,
         9,
         0.0
        ],
        [
         569,
         "Peter Ashdown",
         0,
         1,
         0.0
        ],
        [
         524,
         "Jim Hurtubise",
         0,
         1,
         0.0
        ],
        [
         720,
         "Max de Terra",
         0,
         2,
         0.0
        ],
        [
         442,
         "Kurt Kuhnke",
         0,
         2,
         0.0
        ],
        [
         270,
         "Ian Ashley",
         0,
         11,
         0.0
        ],
        [
         210,
         "Tommy Byrne",
         0,
         5,
         0.0
        ],
        [
         127,
         "Maurício Gugelmin",
         0,
         80,
         0.0
        ],
        [
         547,
         "Horace Gould",
         0,
         18,
         0.0
        ],
        [
         66,
         "Allan McNish",
         0,
         17,
         0.0
        ],
        [
         650,
         "Jacques Pollet",
         0,
         5,
         0.0
        ],
        [
         799,
         "Jimmy Jackson",
         0,
         2,
         0.0
        ],
        [
         803,
         "Bill Cantrell",
         0,
         1,
         0.0
        ],
        [
         314,
         "Tim Schenken",
         0,
         36,
         0.0
        ],
        [
         180,
         "Allen Berg",
         0,
         9,
         0.0
        ],
        [
         694,
         "Giovanni de Riu",
         0,
         1,
         0.0
        ],
        [
         613,
         "Marshall Teague",
         0,
         4,
         0.0
        ],
        [
         68,
         "Toranosuke Takagi",
         0,
         32,
         0.0
        ],
        [
         125,
         "Emanuele Naspetti",
         0,
         6,
         0.0
        ],
        [
         82,
         "Norberto Fontana",
         0,
         4,
         0.0
        ],
        [
         551,
         "Maria de Filippis",
         0,
         5,
         0.0
        ],
        [
         417,
         "Alex Blignaut",
         0,
         1,
         0.0
        ],
        [
         240,
         "Danny Ongais",
         0,
         6,
         0.0
        ],
        [
         541,
         "Ron Flockhart",
         0,
         15,
         0.0
        ],
        [
         746,
         "Gino Bianco",
         0,
         4,
         0.0
        ],
        [
         45,
         "Giorgio Pantano",
         0,
         14,
         0.0
        ],
        [
         517,
         "Red Amick",
         0,
         2,
         0.0
        ],
        [
         483,
         "Giorgio Scarlatti",
         0,
         15,
         0.0
        ],
        [
         423,
         "Gerhard Mitter",
         0,
         5,
         0.0
        ],
        [
         459,
         "Tony Marsh",
         0,
         9,
         0.0
        ],
        [
         827,
         "André Lotterer",
         0,
         1,
         0.0
        ],
        [
         233,
         "Hans-Joachim Stuck",
         0,
         81,
         0.0
        ],
        [
         331,
         "Luiz Bueno",
         0,
         1,
         0.0
        ],
        [
         249,
         "Bobby Rahal",
         0,
         2,
         0.0
        ],
        [
         743,
         "Eric Thompson",
         0,
         1,
         0.0
        ],
        [
         32,
         "Christian Klien",
         0,
         51,
         0.0
        ],
        [
         212,
         "Hector Rebaque",
         0,
         58,
         0.0
        ],
        [
         737,
         "Robert O'Brien",
         0,
         1,
         0.0
        ],
        [
         553,
         "André Testut",
         0,
         2,
         0.0
        ],
        [
         693,
         "Fred Wacker",
         0,
         3,
         0.0
        ],
        [
         808,
         "Vitaly Petrov",
         0,
         58,
         0.0
        ],
        [
         225,
         "Dave Kennedy",
         0,
         7,
         0.0
        ],
        [
         204,
         "Riccardo Paletti",
         0,
         8,
         0.0
        ],
        [
         142,
         "Pedro Chaves",
         0,
         13,
         0.0
        ],
        [
         11,
         "Takuma Sato",
         0,
         91,
         0.0
        ],
        [
         695,
         "Oscar Gálvez",
         0,
         1,
         0.0
        ],
        [
         804,
         "Johnny Mantz",
         0,
         1,
         0.0
        ],
        [
         40,
         "Patrick Friesacher",
         0,
         11,
         0.0
        ],
        [
         845,
         "Sergey Sirotkin",
         0,
         21,
         0.0
        ],
        [
         380,
         "Frank Gardner",
         0,
         9,
         0.0
        ],
        [
         481,
         "Henry Taylor",
         0,
         10,
         0.0
        ],
        [
         245,
         "Tony Trimmer",
         0,
         6,
         0.0
        ],
        [
         272,
         "Kunimitsu Takahashi",
         0,
         1,
         0.0
        ],
        [
         325,
         "Carlo Facetti",
         0,
         1,
         0.0
        ],
        [
         248,
         "Carlo Franchi",
         0,
         1,
         0.0
        ],
        [
         38,
         "Robert Doornbos",
         0,
         11,
         0.0
        ],
        [
         265,
         "Guy Edwards",
         0,
         16,
         0.0
        ],
        [
         54,
         "Luciano Burti",
         0,
         15,
         0.0
        ],
        [
         401,
         "Trevor Taylor",
         0,
         29,
         0.0
        ],
        [
         697,
         "Felice Bonetto",
         0,
         17,
         0.0
        ],
        [
         571,
         "Dennis Taylor",
         0,
         1,
         0.0
        ],
        [
         12,
         "Nelson Piquet Jr.",
         0,
         28,
         0.0
        ],
        [
         435,
         "Willy Mairesse",
         0,
         12,
         0.0
        ],
        [
         615,
         "Fred Agabashian",
         0,
         8,
         0.0
        ],
        [
         522,
         "Bobby Grim",
         0,
         2,
         0.0
        ],
        [
         791,
         "Clemente Biondetti",
         0,
         1,
         0.0
        ],
        [
         286,
         "Warwick Brown",
         0,
         1,
         0.0
        ],
        [
         266,
         "Brian McGuire",
         0,
         1,
         0.0
        ],
        [
         663,
         "Ken Wharton",
         0,
         16,
         0.0
        ],
        [
         539,
         "Dempsey Wilson",
         0,
         2,
         0.0
        ],
        [
         252,
         "Tom Pryce",
         0,
         42,
         0.0
        ],
        [
         284,
         "Alessandro Pesenti-Rossi",
         0,
         4,
         0.0
        ],
        [
         848,
         "Alexander Albon",
         0,
         105,
         0.0
        ],
        [
         714,
         "Kurt Adolff",
         0,
         1,
         0.0
        ],
        [
         833,
         "Roberto Merhi",
         0,
         13,
         0.0
        ],
        [
         166,
         "Philippe Streiff",
         0,
         54,
         0.0
        ],
        [
         92,
         "Bertrand Gachot",
         0,
         84,
         0.0
        ],
        [
         39,
         "Narain Karthikeyan",
         0,
         48,
         0.0
        ],
        [
         157,
         "Christian Danner",
         0,
         47,
         0.0
        ],
        [
         139,
         "Emanuele Pirro",
         0,
         40,
         0.0
        ],
        [
         589,
         "Louis Chiron",
         0,
         17,
         0.0
        ],
        [
         707,
         "Ian Stewart",
         0,
         1,
         0.0
        ],
        [
         293,
         "Dave Charlton",
         0,
         13,
         0.0
        ],
        [
         412,
         "Brausch Niemann",
         0,
         2,
         0.0
        ],
        [
         110,
         "Andrea de Cesaris",
         0,
         214,
         0.0
        ],
        [
         100,
         "Érik Comas",
         0,
         63,
         0.0
        ],
        [
         692,
         "Theo Helfrich",
         0,
         3,
         0.0
        ],
        [
         600,
         "Christian Goethals",
         0,
         1,
         0.0
        ],
        [
         733,
         "Chet Miller",
         0,
         2,
         0.0
        ],
        [
         758,
         "Dries van der Lof",
         0,
         1,
         0.0
        ],
        [
         247,
         "Michael Bleekemolen",
         0,
         5,
         0.0
        ],
        [
         60,
         "Gastón Mazzacane",
         0,
         21,
         0.0
        ],
        [
         502,
         "Alan Stacey",
         0,
         7,
         0.0
        ],
        [
         485,
         "Juan Manuel Bordeu",
         0,
         1,
         0.0
        ],
        [
         505,
         "Chris Bristow",
         0,
         4,
         0.0
        ],
        [
         395,
         "Jonathan Williams",
         0,
         1,
         0.0
        ],
        [
         134,
         "Enrico Bertaggia",
         0,
         6,
         0.0
        ],
        [
         79,
         "Ukyo Katayama",
         0,
         97,
         0.0
        ],
        [
         470,
         "Timmy Mayer",
         0,
         1,
         0.0
        ],
        [
         768,
         "Mauri Rose",
         0,
         2,
         0.0
        ],
        [
         288,
         "Mark Donohue",
         0,
         15,
         0.0
        ],
        [
         290,
         "Wilson Fittipaldi",
         0,
         38,
         0.0
        ],
        [
         227,
         "Tiff Needell",
         0,
         2,
         0.0
        ],
        [
         789,
         "Eugène Martin",
         0,
         2,
         0.0
        ],
        [
         796,
         "Walt Ader",
         0,
         1,
         0.0
        ],
        [
         146,
         "Bernd Schneider",
         0,
         32,
         0.0
        ],
        [
         532,
         "Eddie Russo",
         0,
         4,
         0.0
        ],
        [
         735,
         "Charles de Tornaco",
         0,
         3,
         0.0
        ],
        [
         669,
         "Prince Bira",
         0,
         19,
         0.0
        ],
        [
         454,
         "Ricardo Rodríguez",
         0,
         6,
         0.0
        ],
        [
         220,
         "Giorgio Francia",
         0,
         2,
         0.0
        ],
        [
         201,
         "Slim Borgudd",
         0,
         15,
         0.0
        ],
        [
         436,
         "John Campbell-Jones",
         0,
         5,
         0.0
        ],
        [
         181,
         "Manfred Winkelhock",
         0,
         55,
         0.0
        ],
        [
         120,
         "Fabrizio Barbazza",
         0,
         20,
         0.0
        ],
        [
         169,
         "Pascal Fabre",
         0,
         12,
         0.0
        ],
        [
         726,
         "George Connor",
         0,
         3,
         0.0
        ],
        [
         244,
         "Alberto Colombo",
         0,
         3,
         0.0
        ],
        [
         402,
         "Giacomo Russo",
         0,
         3,
         0.0
        ],
        [
         654,
         "Walt Faulkner",
         0,
         5,
         0.0
        ],
        [
         410,
         "Neville Lederle",
         0,
         3,
         0.0
        ],
        [
         29,
         "Sakon Yamamoto",
         0,
         21,
         0.0
        ],
        [
         738,
         "Tony Gaze",
         0,
         4,
         0.0
        ],
        [
         824,
         "Jules Bianchi",
         0,
         34,
         0.0
        ],
        [
         841,
         "Antonio Giovinazzi",
         0,
         62,
         0.0
        ],
        [
         603,
         "André Guelfi",
         0,
         1,
         0.0
        ],
        [
         379,
         "Kurt Ahrens",
         0,
         2,
         0.0
        ],
        [
         860,
         "Oliver Bearman",
         0,
         3,
         0.0
        ],
        [
         721,
         "Peter Hirt",
         0,
         5,
         0.0
        ],
        [
         411,
         "Doug Serrurier",
         0,
         3,
         0.0
        ],
        [
         723,
         "Rudi Fischer",
         0,
         7,
         0.0
        ],
        [
         792,
         "Alfredo Pián",
         0,
         1,
         0.0
        ],
        [
         780,
         "Toni Branca",
         0,
         3,
         0.0
        ],
        [
         550,
         "Alain de Changy",
         0,
         1,
         0.0
        ],
        [
         471,
         "Bruce Johnstone",
         0,
         1,
         0.0
        ],
        [
         337,
         "Helmut Marko",
         0,
         9,
         0.0
        ],
        [
         299,
         "Hiroshi Fushida",
         0,
         2,
         0.0
        ],
        [
         535,
         "Jim McWithey",
         0,
         2,
         0.0
        ],
        [
         794,
         "Joie Chitwood",
         0,
         1,
         0.0
        ],
        [
         274,
         "Noritake Takahara",
         0,
         2,
         0.0
        ],
        [
         88,
         "Aguri Suzuki",
         0,
         88,
         0.0
        ],
        [
         704,
         "Yves Cabantous",
         0,
         13,
         0.0
        ],
        [
         516,
         "Bob Christie",
         0,
         5,
         0.0
        ],
        [
         570,
         "Bill Moss",
         0,
         1,
         0.0
        ],
        [
         310,
         "Paddy Driver",
         0,
         2,
         0.0
        ],
        [
         546,
         "Arthur Owen",
         0,
         1,
         0.0
        ],
        [
         807,
         "Nico Hülkenberg",
         0,
         230,
         0.0
        ],
        [
         343,
         "Bill Brack",
         0,
         3,
         0.0
        ],
        [
         540,
         "Mike Taylor",
         0,
         2,
         0.0
        ],
        [
         548,
         "Bob Drake",
         0,
         1,
         0.0
        ],
        [
         788,
         "Joe Fry",
         0,
         1,
         0.0
        ],
        [
         660,
         "Johnny Claes",
         0,
         25,
         0.0
        ],
        [
         408,
         "Tony Maggs",
         0,
         27,
         0.0
        ],
        [
         648,
         "Karl Kling",
         0,
         12,
         0.0
        ],
        [
         779,
         "John James",
         0,
         1,
         0.0
        ],
        [
         132,
         "Giovanna Amati",
         0,
         3,
         0.0
        ],
        [
         42,
         "Antônio Pizzonia",
         0,
         20,
         0.0
        ],
        [
         72,
         "Stéphane Sarrazin",
         0,
         1,
         0.0
        ],
        [
         542,
         "David Piper",
         0,
         3,
         0.0
        ],
        [
         852,
         "Yuki Tsunoda",
         0,
         90,
         0.0
        ],
        [
         155,
         "Kamui Kobayashi",
         0,
         76,
         0.0
        ],
        [
         643,
         "Roberto Mieres",
         0,
         17,
         0.0
        ],
        [
         545,
         "Fred Gamble",
         0,
         1,
         0.0
        ],
        [
         322,
         "David Hobbs",
         0,
         7,
         0.0
        ],
        [
         829,
         "Will Stevens",
         0,
         19,
         0.0
        ],
        [
         384,
         "Luki Botha",
         0,
         1,
         0.0
        ],
        [
         315,
         "Gérard Larrousse",
         0,
         2,
         0.0
        ],
        [
         109,
         "Jyrki Järvilehto",
         0,
         70,
         0.0
        ],
        [
         73,
         "Ricardo Rosset",
         0,
         30,
         0.0
        ],
        [
         462,
         "Colin Davis",
         0,
         3,
         0.0
        ],
        [
         630,
         "Duke Dinsmore",
         0,
         4,
         0.0
        ],
        [
         795,
         "Myron Fohr",
         0,
         1,
         0.0
        ],
        [
         687,
         "Peter Whitehead",
         0,
         12,
         0.0
        ],
        [
         497,
         "Alberto Rodriguez Larreta",
         0,
         1,
         0.0
        ],
        [
         812,
         "Karun Chandhok",
         0,
         11,
         0.0
        ],
        [
         67,
         "Sébastien Buemi",
         0,
         55,
         0.0
        ],
        [
         313,
         "Rikky von Opel",
         0,
         13,
         0.0
        ],
        [
         33,
         "Tiago Monteiro",
         0,
         37,
         0.0
        ],
        [
         850,
         "Pietro Fittipaldi",
         0,
         2,
         0.0
        ],
        [
         474,
         "Syd van der Vyver",
         0,
         1,
         0.0
        ],
        [
         831,
         "Felipe Nasr",
         0,
         40,
         0.0
        ],
        [
         281,
         "Jac Nelleman",
         0,
         1,
         0.0
        ],
        [
         859,
         "Liam Lawson",
         0,
         11,
         0.0
        ],
        [
         528,
         "Don Freeland",
         0,
         8,
         0.0
        ],
        [
         623,
         "Alberto Uria",
         0,
         2,
         0.0
        ],
        [
         797,
         "Jackie Holmes",
         0,
         2,
         0.0
        ],
        [
         156,
         "Jonathan Palmer",
         0,
         88,
         0.0
        ],
        [
         189,
         "Jo Gartner",
         0,
         8,
         0.0
        ],
        [
         48,
         "Marc Gené",
         0,
         36,
         0.0
        ],
        [
         400,
         "Chris Lawrence",
         0,
         2,
         0.0
        ],
        [
         500,
         "Gino Munaron",
         0,
         4,
         0.0
        ],
        [
         711,
         "Oswald Karch",
         0,
         1,
         0.0
        ],
        [
         243,
         "Rolf Stommelen",
         0,
         61,
         0.0
        ],
        [
         184,
         "Mauro Baldi",
         0,
         41,
         0.0
        ],
        [
         316,
         "Leo Kinnunen",
         0,
         6,
         0.0
        ],
        [
         190,
         "Corrado Fabi",
         0,
         18,
         0.0
        ],
        [
         765,
         "Henri Louveau",
         0,
         2,
         0.0
        ],
        [
         461,
         "Heinz Schiller",
         0,
         2,
         0.0
        ],
        [
         756,
         "Paul Pietsch",
         0,
         3,
         0.0
        ],
        [
         556,
         "Jimmy Daywalt",
         0,
         7,
         0.0
        ],
        [
         690,
         "Rodney Nuckey",
         0,
         2,
         0.0
        ],
        [
         406,
         "Paul Hawkins",
         0,
         3,
         0.0
        ],
        [
         806,
         "Óscar González",
         0,
         1,
         0.0
        ],
        [
         269,
         "Teddy Pilette",
         0,
         4,
         0.0
        ],
        [
         447,
         "Gaetano Starrabba",
         0,
         2,
         0.0
        ],
        [
         658,
         "Jack McGrath",
         0,
         6,
         0.0
        ],
        [
         732,
         "Johnny McDowell",
         0,
         3,
         0.0
        ],
        [
         610,
         "Les Leston",
         0,
         3,
         0.0
        ],
        [
         448,
         "Peter Broeker",
         0,
         1,
         0.0
        ],
        [
         764,
         "Guy Mairesse",
         0,
         3,
         0.0
        ],
        [
         838,
         "Stoffel Vandoorne",
         0,
         42,
         0.0
        ],
        [
         259,
         "David Purley",
         0,
         11,
         0.0
        ],
        [
         215,
         "Miguel Ángel Guerra",
         0,
         4,
         0.0
        ],
        [
         673,
         "Mike Nazaruk",
         0,
         3,
         0.0
        ],
        [
         701,
         "Bill Holland",
         0,
         2,
         0.0
        ],
        [
         153,
         "Jaime Alguersuari",
         0,
         46,
         0.0
        ],
        [
         555,
         "Paul Russo",
         0,
         9,
         0.0
        ],
        [
         422,
         "Brian Gubby",
         0,
         1,
         0.0
        ],
        [
         568,
         "Azdrubal Fontes",
         0,
         1,
         0.0
        ],
        [
         820,
         "Max Chilton",
         0,
         35,
         0.0
        ],
        [
         287,
         "Masahiro Hasemi",
         0,
         1,
         0.0
        ],
        [
         228,
         "Desiré Wilson",
         0,
         1,
         0.0
        ],
        [
         69,
         "Luca Badoer",
         0,
         58,
         0.0
        ],
        [
         582,
         "Ken Kavanagh",
         0,
         1,
         0.0
        ],
        [
         424,
         "Roberto Bussinello",
         0,
         4,
         0.0
        ],
        [
         683,
         "Leslie Thorne",
         0,
         1,
         0.0
        ],
        [
         415,
         "Ray Reed",
         0,
         1,
         0.0
        ],
        [
         507,
         "Chuck Daigh",
         0,
         6,
         0.0
        ],
        [
         340,
         "John Love",
         0,
         10,
         0.0
        ],
        [
         636,
         "Desmond Titterington",
         0,
         1,
         0.0
        ],
        [
         510,
         "Paul Goldsmith",
         0,
         3,
         0.0
        ],
        [
         558,
         "Al Keller",
         0,
         5,
         0.0
        ],
        [
         834,
         "Alexander Rossi",
         0,
         5,
         0.0
        ],
        [
         814,
         "Paul di Resta",
         0,
         59,
         0.0
        ],
        [
         620,
         "Umberto Maglioli",
         0,
         10,
         0.0
        ],
        [
         97,
         "Massimiliano Papis",
         0,
         7,
         0.0
        ],
        [
         635,
         "Colin Chapman",
         0,
         1,
         0.0
        ],
        [
         138,
         "Satoru Nakajima",
         0,
         80,
         0.0
        ],
        [
         334,
         "Jackie Pretorius",
         0,
         4,
         0.0
        ],
        [
         664,
         "Kenneth McAlpine",
         0,
         7,
         0.0
        ],
        [
         706,
         "Jimmy Stewart",
         0,
         1,
         0.0
        ],
        [
         25,
         "Alexander Wurz",
         0,
         69,
         0.0
        ],
        [
         80,
         "Vincenzo Sospiri",
         0,
         1,
         0.0
        ],
        [
         612,
         "Andy Linden",
         0,
         11,
         0.0
        ],
        [
         674,
         "Larry Crockett",
         0,
         1,
         0.0
        ],
        [
         122,
         "Ivan Capelli",
         0,
         98,
         0.0
        ],
        [
         645,
         "Clemar Bucci",
         0,
         5,
         0.0
        ],
        [
         473,
         "Gary Hocking",
         0,
         1,
         0.0
        ],
        [
         275,
         "Lella Lombardi",
         0,
         17,
         0.0
        ],
        [
         484,
         "Brian Naylor",
         0,
         9,
         0.0
        ],
        [
         709,
         "Ernst Klodwig",
         0,
         2,
         0.0
        ],
        [
         365,
         "Hubert Hahne",
         0,
         3,
         0.0
        ],
        [
         246,
         "Hans Binder",
         0,
         15,
         0.0
        ],
        [
         776,
         "Joe Kelly",
         0,
         2,
         0.0
        ],
        [
         295,
         "Roelof Wunderink",
         0,
         6,
         0.0
        ],
        [
         653,
         "Jimmy Davies",
         0,
         6,
         0.0
        ],
        [
         672,
         "Jorge Daponte",
         0,
         2,
         0.0
        ],
        [
         592,
         "Jimmy Reece",
         0,
         6,
         0.0
        ],
        [
         183,
         "François Hesnault",
         0,
         20,
         0.0
        ],
        [
         418,
         "Masten Gregory",
         0,
         46,
         0.0
        ],
        [
         708,
         "Duncan Hamilton",
         0,
         5,
         0.0
        ],
        [
         617,
         "Mike MacDowel",
         0,
         1,
         0.0
        ],
        [
         699,
         "Duke Nalon",
         0,
         3,
         0.0
        ],
        [
         717,
         "Hans von Stuck",
         0,
         4,
         0.0
        ],
        [
         835,
         "Jolyon Palmer",
         0,
         37,
         0.0
        ],
        [
         790,
         "Leslie Johnson",
         0,
         1,
         0.0
        ],
        [
         262,
         "Jackie Oliver",
         0,
         51,
         0.0
        ],
        [
         599,
         "Art Bisch",
         0,
         1,
         0.0
        ],
        [
         84,
         "Martin Brundle",
         0,
         165,
         0.0
        ],
        [
         50,
         "Jos Verstappen",
         0,
         107,
         0.0
        ],
        [
         712,
         "Willi Heeks",
         0,
         2,
         0.0
        ],
        [
         323,
         "Dieter Quester",
         0,
         1,
         0.0
        ],
        [
         186,
         "Kenny Acheson",
         0,
         9,
         0.0
        ],
        [
         453,
         "Jackie Lewis",
         0,
         11,
         0.0
        ],
        [
         716,
         "Erwin Bauer",
         0,
         1,
         0.0
        ],
        [
         598,
         "Jerry Unser",
         0,
         1,
         0.0
        ],
        [
         6,
         "Kazuki Nakajima",
         0,
         36,
         0.0
        ],
        [
         148,
         "Gregor Foitek",
         0,
         22,
         0.0
        ],
        [
         171,
         "Franco Forini",
         0,
         2,
         0.0
        ],
        [
         405,
         "Ronnie Bucknum",
         0,
         11,
         0.0
        ],
        [
         644,
         "Sergio Mantovani",
         0,
         9,
         0.0
        ],
        [
         685,
         "John Riseley-Prichard",
         0,
         1,
         0.0
        ],
        [
         621,
         "Paul England",
         0,
         1,
         0.0
        ],
        [
         753,
         "Hans Klenk",
         0,
         1,
         0.0
        ],
        [
         164,
         "Joachim Winkelhock",
         0,
         7,
         0.0
        ],
        [
         278,
         "Chris Amon",
         0,
         106,
         0.0
        ],
        [
         537,
         "Dick Rathmann",
         0,
         5,
         0.0
        ],
        [
         821,
         "Esteban Gutiérrez",
         0,
         59,
         0.0
        ],
        [
         300,
         "John Nicholson",
         0,
         2,
         0.0
        ],
        [
         659,
         "Jerry Hoyt",
         0,
         5,
         0.0
        ],
        [
         317,
         "Reine Wisell",
         0,
         23,
         0.0
        ],
        [
         140,
         "Stefan Johansson",
         0,
         103,
         0.0
        ],
        [
         94,
         "Pierluigi Martini",
         0,
         123,
         0.0
        ],
        [
         460,
         "Gerry Ashmore",
         0,
         5,
         0.0
        ],
        [
         730,
         "George Fonder",
         0,
         3,
         0.0
        ],
        [
         725,
         "George Abecassis",
         0,
         2,
         0.0
        ],
        [
         302,
         "Jim Crawford",
         0,
         2,
         0.0
        ],
        [
         234,
         "Gianfranco Brancatelli",
         0,
         3,
         0.0
        ],
        [
         87,
         "Mark Blundell",
         0,
         63,
         0.0
        ],
        [
         566,
         "Carroll Shelby",
         0,
         9,
         0.0
        ],
        [
         543,
         "Giulio Cabianca",
         0,
         4,
         0.0
        ],
        [
         749,
         "Bill Aston",
         0,
         3,
         0.0
        ],
        [
         601,
         "Dick Gibson",
         0,
         2,
         0.0
        ],
        [
         107,
         "Roland Ratzenberger",
         0,
         3,
         0.0
        ],
        [
         562,
         "Jack Turner",
         0,
         4,
         0.0
        ],
        [
         744,
         "Ken Downing",
         0,
         2,
         0.0
        ],
        [
         777,
         "Philip Fotheringham-Parker",
         0,
         1,
         0.0
        ],
        [
         283,
         "Mike Wilds",
         0,
         8,
         0.0
        ],
        [
         665,
         "Leslie Marr",
         0,
         2,
         0.0
        ],
        [
         740,
         "Franco Comotti",
         0,
         2,
         0.0
        ],
        [
         457,
         "Ben Pon",
         0,
         1,
         0.0
        ],
        [
         591,
         "George Amick",
         0,
         1,
         0.0
        ],
        [
         330,
         "Nanni Galli",
         0,
         17,
         0.0
        ],
        [
         104,
         "Christian Fittipaldi",
         0,
         43,
         0.0
        ],
        [
         229,
         "Harald Ertl",
         0,
         29,
         0.0
        ],
        [
         350,
         "Vic Elford",
         0,
         13,
         0.0
        ],
        [
         99,
         "Gabriele Tarquini",
         0,
         78,
         0.0
        ],
        [
         438,
         "Tony Settember",
         0,
         10,
         0.0
        ],
        [
         778,
         "Brian Shawe Taylor",
         0,
         2,
         0.0
        ],
        [
         661,
         "Peter Walker",
         0,
         4,
         0.0
        ],
        [
         112,
         "Philippe Alliot",
         0,
         115,
         0.0
        ],
        [
         441,
         "Tim Parnell",
         0,
         4,
         0.0
        ],
        [
         624,
         "Hernando da Silva Ramos",
         0,
         8,
         0.0
        ],
        [
         655,
         "Cal Niday",
         0,
         3,
         0.0
        ],
        [
         710,
         "Rudolf Krause",
         0,
         2,
         0.0
        ],
        [
         793,
         "Raymond Sommer",
         0,
         5,
         0.0
        ],
        [
         209,
         "Geoff Lees",
         0,
         12,
         0.0
        ],
        [
         619,
         "Bob Gerard",
         0,
         7,
         0.0
        ],
        [
         703,
         "Arthur Legat",
         0,
         2,
         0.0
        ],
        [
         530,
         "Wayne Weiler",
         0,
         1,
         0.0
        ],
        [
         285,
         "Otto Stuppacher",
         0,
         3,
         0.0
        ],
        [
         168,
         "Jean-Louis Schlesser",
         0,
         2,
         0.0
        ],
        [
         521,
         "Chuck Stevenson",
         0,
         7,
         0.0
        ],
        [
         667,
         "John Fitch",
         0,
         2,
         0.0
        ],
        [
         682,
         "Don Beauman",
         0,
         1,
         0.0
        ],
        [
         825,
         "Kevin Magnussen",
         0,
         186,
         0.0
        ],
        [
         391,
         "Brian Hart",
         0,
         1,
         0.0
        ],
        [
         801,
         "Charles Pozzi",
         0,
         1,
         0.0
        ],
        [
         420,
         "Ian Raby",
         0,
         7,
         0.0
        ],
        [
         586,
         "Luigi Piotti",
         0,
         9,
         0.0
        ],
        [
         757,
         "Josef Peters",
         0,
         1,
         0.0
        ],
        [
         823,
         "Giedo van der Garde",
         0,
         19,
         0.0
        ],
        [
         291,
         "Guy Tunmer",
         0,
         1,
         0.0
        ],
        [
         206,
         "Derek Daly",
         0,
         64,
         0.0
        ],
        [
         625,
         "Élie Bayol",
         0,
         7,
         0.0
        ],
        [
         762,
         "Franco Rol",
         0,
         5,
         0.0
        ],
        [
         606,
         "Alfonso de Portago",
         0,
         6,
         0.0
        ],
        [
         587,
         "Bernie Ecclestone",
         0,
         1,
         0.0
        ],
        [
         512,
         "Johnny Thomson",
         0,
         9,
         0.0
        ],
        [
         414,
         "Clive Puzey",
         0,
         1,
         0.0
        ],
        [
         26,
         "Scott Speed",
         0,
         28,
         0.0
        ],
        [
         759,
         "Jan Flinterman",
         0,
         2,
         0.0
        ],
        [
         520,
         "Gene Hartley",
         0,
         9,
         0.0
        ],
        [
         24,
         "Vitantonio Liuzzi",
         0,
         81,
         0.0
        ],
        [
         152,
         "Bruno Giacomelli",
         0,
         82,
         0.0
        ],
        [
         254,
         "Renzo Zorzi",
         0,
         7,
         0.0
        ],
        [
         308,
         "Richard Robarts",
         0,
         4,
         0.0
        ],
        [
         192,
         "Chico Serra",
         0,
         32,
         0.0
        ],
        [
         851,
         "Jack Aitken",
         0,
         1,
         0.0
        ],
        [
         691,
         "Hermann Lang",
         0,
         2,
         0.0
        ],
        [
         292,
         "Eddie Keizan",
         0,
         3,
         0.0
        ],
        [
         629,
         "Cliff Griffith",
         0,
         3,
         0.0
        ],
        [
         353,
         "Pete Lovely",
         0,
         11,
         0.0
        ],
        [
         280,
         "Henri Pescarolo",
         0,
         59,
         0.0
        ],
        [
         70,
         "Alessandro Zanardi",
         0,
         44,
         0.0
        ],
        [
         456,
         "Roy Salvadori",
         0,
         51,
         0.0
        ],
        [
         382,
         "Moisés Solana",
         0,
         8,
         0.0
        ],
        [
         826,
         "Daniil Kvyat",
         0,
         112,
         0.0
        ],
        [
         282,
         "Damien Magee",
         0,
         2,
         0.0
        ],
        [
         161,
         "Volker Weidler",
         0,
         10,
         0.0
        ],
        [
         46,
         "Gianmaria Bruni",
         0,
         18,
         0.0
        ],
        [
         761,
         "Alberto Crespo",
         0,
         1,
         0.0
        ],
        [
         565,
         "Mike Magill",
         0,
         3,
         0.0
        ],
        [
         37,
         "Pedro de la Rosa",
         0,
         107,
         0.0
        ],
        [
         276,
         "Bob Evans",
         0,
         12,
         0.0
        ],
        [
         342,
         "Skip Barber",
         0,
         6,
         0.0
        ],
        [
         208,
         "Emilio de Villota",
         0,
         14,
         0.0
        ],
        [
         98,
         "Jean-Denis Délétraz",
         0,
         3,
         0.0
        ],
        [
         425,
         "Nino Vaccarella",
         0,
         5,
         0.0
        ],
        [
         802,
         "Dorino Serafini",
         0,
         1,
         0.0
        ],
        [
         217,
         "Ricardo Zunino",
         0,
         11,
         0.0
        ],
        [
         85,
         "Andrea Montermini",
         0,
         28,
         0.0
        ],
        [
         463,
         "Jay Chamberlain",
         0,
         3,
         0.0
        ],
        [
         143,
         "Michael Bartels",
         0,
         4,
         0.0
        ],
        [
         433,
         "Walt Hansgen",
         0,
         4,
         0.0
        ],
        [
         727,
         "Jim Rigsby",
         0,
         1,
         0.0
        ],
        [
         311,
         "Tom Belsø",
         0,
         4,
         0.0
        ],
        [
         165,
         "Oscar Larrauri",
         0,
         21,
         0.0
        ],
        [
         121,
         "Michael Andretti",
         0,
         13,
         0.0
        ],
        [
         167,
         "Adrián Campos",
         0,
         21,
         0.0
        ],
        [
         59,
         "Enrique Bernoldi",
         0,
         29,
         0.0
        ],
        [
         455,
         "Wolfgang Seidel",
         0,
         13,
         0.0
        ],
        [
         679,
         "Ernie McCoy",
         0,
         2,
         0.0
        ],
        [
         326,
         "Eppie Wietzes",
         0,
         2,
         0.0
        ],
        [
         407,
         "David Prophet",
         0,
         2,
         0.0
        ],
        [
         324,
         "Helmuth Koinigg",
         0,
         3,
         0.0
        ],
        [
         531,
         "Anthony Foyt",
         0,
         3,
         0.0
        ],
        [
         377,
         "Jo Schlesser",
         0,
         2,
         0.0
        ],
        [
         339,
         "Alex Soler-Roig",
         0,
         9,
         0.0
        ],
        [
         144,
         "Naoki Hattori",
         0,
         2,
         0.0
        ],
        [
         748,
         "Eitel Cantoni",
         0,
         3,
         0.0
        ],
        [
         836,
         "Pascal Wehrlein",
         0,
         39,
         0.0
        ],
        [
         75,
         "Shinji Nakano",
         0,
         33,
         0.0
        ],
        [
         440,
         "Jim Hall",
         0,
         12,
         0.0
        ],
        [
         451,
         "Frank Dochnal",
         0,
         1,
         0.0
        ],
        [
         633,
         "Luigi Villoresi",
         0,
         35,
         0.0
        ],
        [
         256,
         "Larry Perkins",
         0,
         15,
         0.0
        ],
        [
         626,
         "Robert Manzon",
         0,
         29,
         0.0
        ],
        [
         387,
         "Mike Parkes",
         0,
         7,
         0.0
        ],
        [
         752,
         "Helmut Niedermayr",
         0,
         1,
         0.0
        ],
        [
         696,
         "John Barber",
         0,
         1,
         0.0
        ],
        [
         393,
         "Tom Jones",
         0,
         1,
         0.0
        ],
        [
         352,
         "George Eaton",
         0,
         13,
         0.0
        ],
        [
         671,
         "Roger Loyer",
         0,
         1,
         0.0
        ],
        [
         458,
         "Rob Slotemaker",
         0,
         1,
         0.0
        ],
        [
         170,
         "Teo Fabi",
         0,
         71,
         0.0
        ],
        [
         213,
         "Beppe Gabbiani",
         0,
         17,
         0.0
        ],
        [
         41,
         "Ricardo Zonta",
         0,
         38,
         0.0
        ],
        [
         106,
         "Olivier Beretta",
         0,
         10,
         0.0
        ],
        [
         28,
         "Markus Winkelhock",
         0,
         1,
         0.0
        ],
        [
         397,
         "Peter Arundell",
         0,
         15,
         0.0
        ],
        [
         2,
         "Nick Heidfeld",
         0,
         184,
         0.0
        ],
        [
         583,
         "Gerino Gerini",
         0,
         7,
         0.0
        ],
        [
         321,
         "Derek Bell",
         0,
         14,
         0.0
        ],
        [
         772,
         "Mack Hellings",
         0,
         2,
         0.0
        ],
        [
         450,
         "Ernie de Vos",
         0,
         1,
         0.0
        ],
        [
         466,
         "Heini Walter",
         0,
         1,
         0.0
        ],
        [
         572,
         "Harry Blanchard",
         0,
         1,
         0.0
        ],
        [
         637,
         "Archie Scott Brown",
         0,
         1,
         0.0
        ],
        [
         103,
         "Éric Bernard",
         0,
         47,
         0.0
        ],
        [
         174,
         "Johnny Dumfries",
         0,
         16,
         0.0
        ],
        [
         492,
         "Menato Boffa",
         0,
         1,
         0.0
        ],
        [
         239,
         "Brett Lunger",
         0,
         42,
         0.0
        ],
        [
         381,
         "Bobby Unser",
         0,
         1,
         0.0
        ],
        [
         354,
         "Chris Craft",
         0,
         2,
         0.0
        ],
        [
         305,
         "Mike Hailwood",
         0,
         51,
         0.0
        ],
        [
         666,
         "Tony Rolt",
         0,
         3,
         0.0
        ],
        [
         575,
         "Bob Said",
         0,
         1,
         0.0
        ],
        [
         534,
         "Gene Force",
         0,
         2,
         0.0
        ],
        [
         783,
         "Georges Grignard",
         0,
         1,
         0.0
        ],
        [
         298,
         "Gijs van Lennep",
         0,
         9,
         0.0
        ],
        [
         336,
         "Graham McRae",
         0,
         1,
         0.0
        ],
        [
         596,
         "Ed Elisian",
         0,
         5,
         0.0
        ],
        [
         805,
         "Danny Kladis",
         0,
         1,
         0.0
        ],
        [
         303,
         "Jo Vonlanthen",
         0,
         1,
         0.0
        ],
        [
         728,
         "Joe James",
         0,
         2,
         0.0
        ],
        [
         602,
         "Robert La Caze",
         0,
         1,
         0.0
        ],
        [
         263,
         "Mikko Kozarowitzky",
         0,
         2,
         0.0
        ],
        [
         63,
         "Mika Salo",
         0,
         111,
         0.0
        ],
        [
         538,
         "Al Herman",
         0,
         5,
         0.0
        ],
        [
         622,
         "Chico Landi",
         0,
         6,
         0.0
        ],
        [
         784,
         "David Hampshire",
         0,
         2,
         0.0
        ],
        [
         751,
         "Fritz Riess",
         0,
         1,
         0.0
        ],
        [
         128,
         "Eric van de Poele",
         0,
         29,
         0.0
        ],
        [
         567,
         "Fritz d'Orey",
         0,
         3,
         0.0
        ],
        [
         318,
         "Bertil Roos",
         0,
         1,
         0.0
        ],
        [
         101,
         "David Brabham",
         0,
         30,
         0.0
        ],
        [
         370,
         "Richard Attwood",
         0,
         17,
         0.0
        ],
        [
         431,
         "Edgar Barth",
         0,
         7,
         0.0
        ],
        [
         426,
         "Giorgio Bassi",
         0,
         1,
         0.0
        ],
        [
         769,
         "Bill Mackey",
         0,
         1,
         0.0
        ],
        [
         754,
         "Marcel Balsa",
         0,
         1,
         0.0
        ],
        [
         253,
         "Ingo Hoffmann",
         0,
         6,
         0.0
        ],
        [
         494,
         "Lloyd Ruby",
         0,
         2,
         0.0
        ],
        [
         421,
         "Alan Rollinson",
         0,
         1,
         0.0
        ],
        [
         501,
         "Harry Schell",
         0,
         64,
         0.0
        ],
        [
         257,
         "Boy Lunger",
         0,
         7,
         0.0
        ],
        [
         646,
         "Jesús Iglesias",
         0,
         1,
         0.0
        ],
        [
         840,
         "Lance Stroll",
         0,
         168,
         0.0
        ],
        [
         193,
         "Danny Sullivan",
         0,
         15,
         0.0
        ],
        [
         149,
         "Claudio Langes",
         0,
         14,
         0.0
        ],
        [
         810,
         "Lucas di Grassi",
         0,
         19,
         0.0
        ],
        [
         294,
         "Tony Brise",
         0,
         10,
         0.0
        ],
        [
         241,
         "Lamberto Leoni",
         0,
         5,
         0.0
        ],
        [
         113,
         "Philippe Adams",
         0,
         2,
         0.0
        ],
        [
         676,
         "Frank Armi",
         0,
         1,
         0.0
        ],
        [
         734,
         "Bobby Ball",
         0,
         2,
         0.0
        ],
        [
         445,
         "Günther Seiffert",
         0,
         2,
         0.0
        ],
        [
         446,
         "Carlo Abate",
         0,
         2,
         0.0
        ],
        [
         731,
         "Henry Banks",
         0,
         3,
         0.0
        ],
        [
         10,
         "Timo Glock",
         0,
         95,
         0.0
        ],
        [
         609,
         "André Simon",
         0,
         12,
         0.0
        ],
        [
         518,
         "Duane Carter",
         0,
         10,
         0.0
        ],
        [
         640,
         "Toulo de Graffenried",
         0,
         23,
         0.0
        ],
        [
         388,
         "Chris Irwin",
         0,
         10,
         0.0
        ],
        [
         279,
         "Emilio Zapico",
         0,
         1,
         0.0
        ],
        [
         96,
         "Jean-Christophe Boullion",
         0,
         11,
         0.0
        ],
        [
         51,
         "Justin Wilson",
         0,
         16,
         0.0
        ],
        [
         437,
         "Ian Burgess",
         0,
         26,
         0.0
        ],
        [
         432,
         "Mário de Araújo Cabral",
         0,
         5,
         0.0
        ],
        [
         605,
         "Tom Bridger",
         0,
         1,
         0.0
        ],
        [
         651,
         "Lance Macklin",
         0,
         15,
         0.0
        ],
        [
         361,
         "Piers Courage",
         0,
         29,
         0.0
        ],
        [
         205,
         "Brian Henton",
         0,
         37,
         0.0
        ],
        [
         301,
         "Dave Morgan",
         0,
         1,
         0.0
        ],
        [
         482,
         "Olivier Gendebien",
         0,
         17,
         0.0
        ],
        [
         527,
         "Eddie Sachs",
         0,
         4,
         0.0
        ],
        [
         477,
         "Cliff Allison",
         0,
         18,
         0.0
        ],
        [
         787,
         "Cuth Harrison",
         0,
         3,
         0.0
        ],
        [
         376,
         "Lucien Bianchi",
         0,
         19,
         0.0
        ],
        [
         472,
         "Mike Harris",
         0,
         1,
         0.0
        ],
        [
         718,
         "Ernst Loof",
         0,
         1,
         0.0
        ],
        [
         154,
         "Romain Grosjean",
         0,
         181,
         0.0
        ],
        [
         198,
         "Jacques Villeneuve Sr.",
         0,
         3,
         0.0
        ],
        [
         81,
         "Gianni Morbidelli",
         0,
         70,
         0.0
        ],
        [
         36,
         "Franck Montagny",
         0,
         7,
         0.0
        ],
        [
         264,
         "Andy Sutcliffe",
         0,
         1,
         0.0
        ],
        [
         392,
         "Mike Fisher",
         0,
         2,
         0.0
        ],
        [
         767,
         "Carl Forberg",
         0,
         1,
         0.0
        ],
        [
         490,
         "Geoff Duke",
         0,
         1,
         0.0
        ],
        [
         27,
         "Christijan Albers",
         0,
         46,
         0.0
        ],
        [
         736,
         "Roger Laurent",
         0,
         2,
         0.0
        ],
        [
         771,
         "Walt Brown",
         0,
         2,
         0.0
        ],
        [
         755,
         "Rudolf Schoeller",
         0,
         1,
         0.0
        ],
        [
         333,
         "Andrea de Adamich",
         0,
         36,
         0.0
        ],
        [
         151,
         "Martin Donnelly",
         0,
         15,
         0.0
        ],
        [
         133,
         "Alex Caffi",
         0,
         75,
         0.0
        ],
        [
         19,
         "Anthony Davidson",
         0,
         24,
         0.0
        ],
        [
         398,
         "Vic Wilson",
         0,
         2,
         0.0
        ],
        [
         713,
         "Theo Fitzau",
         0,
         1,
         0.0
        ],
        [
         705,
         "Tony Crook",
         0,
         2,
         0.0
        ],
        [
         781,
         "Ken Richardson",
         0,
         1,
         0.0
        ],
        [
         237,
         "Alex Ribeiro",
         0,
         20,
         0.0
        ],
        [
         116,
         "Franck Lagorce",
         0,
         2,
         0.0
        ],
        [
         43,
         "Cristiano da Matta",
         0,
         28,
         0.0
        ],
        [
         688,
         "Eric Brandon",
         0,
         5,
         0.0
        ],
        [
         523,
         "Shorty Templeman",
         0,
         3,
         0.0
        ],
        [
         775,
         "Aldo Gordini",
         0,
         1,
         0.0
        ],
        [
         197,
         "Jean-Pierre Jarier",
         0,
         143,
         0.0
        ],
        [
         78,
         "Nicola Larini",
         0,
         75,
         0.0
        ],
        [
         74,
         "Esteban Tuero",
         0,
         16,
         0.0
        ],
        [
         861,
         "Franco Colapinto",
         0,
         9,
         0.0
        ],
        [
         747,
         "David Murray",
         0,
         4,
         0.0
        ],
        [
         511,
         "Don Branson",
         0,
         2,
         0.0
        ],
        [
         585,
         "Paul Emery",
         0,
         2,
         0.0
        ],
        [
         226,
         "Stephen South",
         0,
         1,
         0.0
        ],
        [
         854,
         "Mick Schumacher",
         0,
         44,
         0.0
        ],
        [
         856,
         "Nyck de Vries",
         0,
         11,
         0.0
        ],
        [
         722,
         "Piero Carini",
         0,
         3,
         0.0
        ],
        [
         443,
         "Ernesto Brambilla",
         0,
         1,
         0.0
        ],
        [
         335,
         "Roger Williamson",
         0,
         2,
         0.0
        ],
        [
         419,
         "John Rhodes",
         0,
         1,
         0.0
        ],
        [
         506,
         "Bruce Halford",
         0,
         9,
         0.0
        ],
        [
         853,
         "Nikita Mazepin",
         0,
         22,
         0.0
        ],
        [
         533,
         "Johnny Boyd",
         0,
         6,
         0.0
        ],
        [
         607,
         "Cesare Perdisa",
         0,
         9,
         0.0
        ],
        [
         357,
         "John Miles",
         0,
         15,
         0.0
        ],
        [
         115,
         "Hideki Noda",
         0,
         3,
         0.0
        ],
        [
         678,
         "Len Duncan",
         0,
         1,
         0.0
        ],
        [
         604,
         "François Picard",
         0,
         1,
         0.0
        ],
        [
         58,
         "Tarso Marques",
         0,
         26,
         0.0
        ],
        [
         662,
         "Mike Sparken",
         0,
         1,
         0.0
        ],
        [
         513,
         "Eddie Johnson",
         0,
         9,
         0.0
        ],
        [
         232,
         "Arturo Merzario",
         0,
         84,
         0.0
        ],
        [
         429,
         "André Pilette",
         0,
         15,
         0.0
        ],
        [
         763,
         "Consalvo Sanesi",
         0,
         5,
         0.0
        ],
        [
         560,
         "Bill Cheesbourg",
         0,
         3,
         0.0
        ],
        [
         702,
         "Bob Scott",
         0,
         5,
         0.0
        ],
        [
         785,
         "Geoff Crossley",
         0,
         2,
         0.0
        ],
        [
         211,
         "Rupert Keegan",
         0,
         37,
         0.0
        ],
        [
         160,
         "Piercarlo Ghinzani",
         0,
         111,
         0.0
        ],
        [
         47,
         "Zsolt Baumgartner",
         0,
         20,
         0.0
        ],
        [
         855,
         "Guanyu Zhou",
         0,
         68,
         0.0
        ],
        [
         554,
         "Jean Behra",
         0,
         57,
         0.0
        ],
        [
         529,
         "Tony Bettenhausen",
         0,
         13,
         0.0
        ],
        [
         273,
         "Kazuyoshi Hoshino",
         0,
         2,
         0.0
        ],
        [
         185,
         "Stefan Bellof",
         0,
         22,
         0.0
        ],
        [
         480,
         "Michael May",
         0,
         4,
         0.0
        ],
        [
         258,
         "Patrick Nève",
         0,
         13,
         0.0
        ],
        [
         452,
         "Thomas Monarch",
         0,
         1,
         0.0
        ],
        [
         319,
         "José Dolhem",
         0,
         3,
         0.0
        ],
        [
         114,
         "Yannick Dalmas",
         0,
         50,
         0.0
        ],
        [
         439,
         "Nasif Estéfano",
         0,
         5,
         0.0
        ],
        [
         504,
         "Antonio Creus",
         0,
         1,
         0.0
        ],
        [
         344,
         "Sam Posey",
         0,
         2,
         0.0
        ],
        [
         277,
         "Michel Leclère",
         0,
         8,
         0.0
        ],
        [
         366,
         "Gus Hutchison",
         0,
         1,
         0.0
        ],
        [
         136,
         "Jan Lammers",
         0,
         41,
         0.0
        ],
        [
         83,
         "Pedro Lamy",
         0,
         32,
         0.0
        ],
        [
         130,
         "Andrea Chiesa",
         0,
         10,
         0.0
        ]
       ],
       "datasetInfos": [],
       "dbfsResultPath": null,
       "isJsonSchema": true,
       "metadata": {},
       "overflow": false,
       "plotOptions": {
        "customPlotOptions": {},
        "displayType": "table",
        "pivotAggregation": null,
        "pivotColumns": null,
        "xColumns": null,
        "yColumns": null
       },
       "removedWidgets": [],
       "schema": [
        {
         "metadata": "{}",
         "name": "driver_id",
         "type": "\"integer\""
        },
        {
         "metadata": "{}",
         "name": "driver_name",
         "type": "\"string\""
        },
        {
         "metadata": "{}",
         "name": "corridas_vencedoras",
         "type": "\"long\""
        },
        {
         "metadata": "{}",
         "name": "corridas_disputadas",
         "type": "\"long\""
        },
        {
         "metadata": "{}",
         "name": "perc_vitorias",
         "type": "\"double\""
        }
       ],
       "type": "table"
      }
     },
     "output_type": "display_data"
    }
   ],
   "source": [
    "%sql\n",
    "WITH vitorias_piloto AS (\n",
    "SELECT \n",
    "    driver_id,\n",
    "    driver_name,\n",
    "    COUNT(DISTINCT result_id) AS corridas_vencedoras\n",
    "\n",
    "FROM gold.f1_analysis\n",
    "WHERE oficial_position = 1\n",
    "GROUP BY 1,2\n",
    ")\n",
    "\n",
    ", corridas_piloto AS (\n",
    "SELECT \n",
    "\n",
    "    driver_id,\n",
    "    driver_name,\n",
    "    COUNT(DISTINCT result_id) AS corridas_disputadas\n",
    "\n",
    "FROM gold.f1_analysis\n",
    "GROUP BY 1,2\n",
    "\n",
    ")\n",
    "\n",
    "SELECT \n",
    "\n",
    "    a.driver_id,\n",
    "    a.driver_name,\n",
    "    COALESCE(b.corridas_vencedoras, 0) AS corridas_vencedoras,\n",
    "    COALESCE(a.corridas_disputadas,0) AS corridas_disputadas,\n",
    "    ROUND(COALESCE((b.corridas_vencedoras::FLOAT / a.corridas_disputadas::FLOAT), 0)* 100,2) AS perc_vitorias\n",
    "\n",
    "FROM corridas_piloto AS a\n",
    "LEFT JOIN vitorias_piloto AS b\n",
    "  ON a.driver_id =b.driver_id\n",
    "\n",
    "ORDER BY COALESCE((b.corridas_vencedoras::FLOAT / a.corridas_disputadas::FLOAT), 0)* 100 DESC"
   ]
  },
  {
   "cell_type": "markdown",
   "metadata": {
    "application/vnd.databricks.v1+cell": {
     "cellMetadata": {
      "byteLimit": 2048000,
      "rowLimit": 10000
     },
     "inputWidgets": {},
     "nuid": "63075802-bd00-42d9-b2d9-c5c5ef03fb4f",
     "showTitle": false,
     "tableResultSettingsMap": {},
     "title": ""
    }
   },
   "source": [
    "Observações sobre os dados:\n",
    "\n",
    "Pilotos com poucas corridas distorcem o ranking, como Lee Wallard e Bill Vokuvich, porém não deixa de ser notável que com poucas corridas, esses pilotos foram vencedores.\n",
    "\n",
    "Juan Manuel Fangio (41.38% em 58 corridas) mostram estatísticas impressionantes que refletem a era inaugural da F1, com menor competitividade e maior disparidade entre equipes.\n",
    "\n",
    "Apenas 8 pilotos na história superaram a marca de 30% de vitórias: Fangio, Ascari, Clark, Verstappen, Schumacher e Hamilton, considerando um número mais considerável de corridas disputadas.\n",
    "\n",
    "Analisando por pilotos recentes:\n",
    "\n",
    "- Jim Clark (34.25%) se destaca como o piloto com melhor porcentagem da era pré-moderna (décadas de 50-60).\n",
    "- Max Verstappen (30.14%) já supera Senna e Prost, mostrando seu domínio recente.\n",
    "- Lewis Hamilton (29.49%) e Michael Schumacher (29.55%) têm porcentagens quase idênticas, consolidando-se como os maiores vencedores da era moderna.\n",
    "- Ayrton Senna (25.31%) e Alain Prost (25.25%) com percentuais idênticos, mas estilos opostos.\n",
    "\n",
    "\n",
    "\n",
    "\n"
   ]
  },
  {
   "cell_type": "markdown",
   "metadata": {
    "application/vnd.databricks.v1+cell": {
     "cellMetadata": {
      "byteLimit": 2048000,
      "rowLimit": 10000
     },
     "inputWidgets": {},
     "nuid": "4dc18c99-95a5-41ef-8b12-ff8c822a85ea",
     "showTitle": false,
     "tableResultSettingsMap": {},
     "title": ""
    }
   },
   "source": [
    "4. Qual mês e ano tem mais corridas?"
   ]
  },
  {
   "cell_type": "code",
   "execution_count": 0,
   "metadata": {
    "application/vnd.databricks.v1+cell": {
     "cellMetadata": {
      "byteLimit": 2048000,
      "rowLimit": 10000
     },
     "inputWidgets": {},
     "nuid": "428a2bdf-07b5-4e6a-891f-5f1a04aab38c",
     "showTitle": false,
     "tableResultSettingsMap": {},
     "title": ""
    }
   },
   "outputs": [
    {
     "output_type": "display_data",
     "data": {
      "image/png": "[encoded data removed]"
     },
     "metadata": {
      "application/vnd.databricks.v1+output": {
       "addedWidgets": {},
       "arguments": {},
       "data": "data:image/png;base64,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\n",
       "datasetInfos": [],
       "metadata": {},
       "removedWidgets": [],
       "type": "image"
      }
     },
     "output_type": "display_data"
    }
   ],
   "source": [
    "import matplotlib.pyplot as plt\n",
    "import pandas as pd\n",
    "from matplotlib.ticker import MaxNLocator\n",
    "\n",
    "df_races_ano = spark.sql(\"\"\"\n",
    "SELECT \n",
    "    EXTRACT(YEAR FROM race_date) AS ano,\n",
    "    COUNT(DISTINCT race_id) AS corridas\n",
    "FROM gold.f1_analysis\n",
    "WHERE race_date BETWEEN '2000-01-01' AND '2024-12-31'\n",
    "GROUP BY ano\n",
    "ORDER BY EXTRACT(YEAR FROM race_date) ASC\n",
    "\"\"\").toPandas()\n",
    "\n",
    "#configuração do gráfico \n",
    "plt.figure(figsize=(12, 6))\n",
    "ax = plt.gca()\n",
    "\n",
    "#ajuste da linha temporal\n",
    "line = ax.plot(df_races_ano['ano'], \n",
    "               df_races_ano['corridas'],\n",
    "               color='#1f77b4',  # Matplotlib blue\n",
    "               linewidth=2.5,\n",
    "               marker='o',\n",
    "               markersize=8,\n",
    "               markeredgecolor='white',\n",
    "               markerfacecolor='#1f77b4')\n",
    "\n",
    "# definindo limites ao eixo x\n",
    "ax.set_xlim(2000, 2024)\n",
    "ax.xaxis.set_major_locator(MaxNLocator(integer=True))  \n",
    "\n",
    "\n",
    "plt.title('Evolução Anual de Corridas de F1 (2000-2024)', \n",
    "          fontsize=14, pad=20, fontweight='bold')\n",
    "plt.xlabel('Ano', fontsize=12, labelpad=10)\n",
    "plt.ylabel('Número de Corridas', fontsize=12, labelpad=10)\n",
    "plt.grid(axis='y', linestyle=':', alpha=0.4)\n",
    "\n",
    "#removendo brodas\n",
    "for spine in ['top', 'right']:\n",
    "    ax.spines[spine].set_visible(False)\n",
    "\n",
    "#incluindo rótulos de dados \n",
    "for x, y in zip(df_races_ano['ano'], df_races_ano['corridas']):\n",
    "    plt.text(x, y+0.3, f'{y}', \n",
    "             ha='center', \n",
    "             va='bottom', \n",
    "             fontsize=10,\n",
    "             bbox=dict(facecolor='white', alpha=0.8, edgecolor='none', pad=1))\n",
    "\n",
    "plt.tight_layout()\n",
    "plt.show()"
   ]
  },
  {
   "cell_type": "markdown",
   "metadata": {
    "application/vnd.databricks.v1+cell": {
     "cellMetadata": {
      "byteLimit": 2048000,
      "rowLimit": 10000
     },
     "inputWidgets": {},
     "nuid": "2355ae0a-b58e-48c8-8f47-4aae4a0a268e",
     "showTitle": false,
     "tableResultSettingsMap": {},
     "title": ""
    }
   },
   "source": [
    "Observações sobre os dados:\n",
    "\n",
    "Houve um crescimento de 17 corridas em 2000 para 24 corridas no ano de 2024, sendo este o pico de corridas nos últimos anos.\n",
    "\n",
    "Crizando esses dados com a visualização de corridas por países, aumento de corridas fora da Europa, especialmente no Oriente Médio e Ásia, nos últimos anos, impulsionou o calendário da F1 no último ano.Na década de 2000 há uma predominância europeia, já na década de 2020 há uma maior diversificação global (Américas, Ásia, Oriente Médio).\n",
    "\n",
    "Como é possível notar que o ano com menor número de corridas foi 2020 devido a pandemia de COVID-19.\n",
    "\n"
   ]
  },
  {
   "cell_type": "markdown",
   "metadata": {
    "application/vnd.databricks.v1+cell": {
     "cellMetadata": {
      "byteLimit": 2048000,
      "rowLimit": 10000
     },
     "inputWidgets": {},
     "nuid": "0a53aa58-7721-4706-bbcb-4d0b109f6a21",
     "showTitle": false,
     "tableResultSettingsMap": {},
     "title": ""
    }
   },
   "source": [
    " 5. Quais pilotos tiveram o maior número de pódios sem nunca vencer uma corrida?"
   ]
  },
  {
   "cell_type": "code",
   "execution_count": 0,
   "metadata": {
    "application/vnd.databricks.v1+cell": {
     "cellMetadata": {
      "byteLimit": 2048000,
      "implicitDf": true,
      "rowLimit": 10000
     },
     "inputWidgets": {},
     "nuid": "a2d9193f-863b-4769-aa5b-62a193f19cd9",
     "showTitle": false,
     "tableResultSettingsMap": {},
     "title": ""
    }
   },
   "outputs": [
    {
     "output_type": "display_data",
     "data": {
      "text/html": [
       "<style scoped>\n",
       "  .table-result-container {\n",
       "    max-height: 300px;\n",
       "    overflow: auto;\n",
       "  }\n",
       "  table, th, td {\n",
       "    border: 1px solid black;\n",
       "    border-collapse: collapse;\n",
       "  }\n",
       "  th, td {\n",
       "    padding: 5px;\n",
       "  }\n",
       "  th {\n",
       "    text-align: left;\n",
       "  }\n",
       "</style><div class='table-result-container'><table class='table-result'><thead style='background-color: white'><tr><th>driver_id</th><th>driver_name</th><th>corridas</th></tr></thead><tbody><tr><td>2</td><td>Nick Heidfeld</td><td>13</td></tr><tr><td>140</td><td>Stefan Johansson</td><td>12</td></tr><tr><td>278</td><td>Chris Amon</td><td>11</td></tr><tr><td>154</td><td>Romain Grosjean</td><td>10</td></tr><tr><td>158</td><td>Eddie Cheever</td><td>9</td></tr><tr><td>84</td><td>Martin Brundle</td><td>9</td></tr><tr><td>554</td><td>Jean Behra</td><td>9</td></tr><tr><td>633</td><td>Luigi Villoresi</td><td>8</td></tr><tr><td>110</td><td>Andrea de Cesaris</td><td>5</td></tr><tr><td>118</td><td>Derek Warwick</td><td>4</td></tr><tr><td>608</td><td>Eugenio Castellotti</td><td>3</td></tr><tr><td>408</td><td>Tony Maggs</td><td>3</td></tr><tr><td>25</td><td>Alexander Wurz</td><td>3</td></tr><tr><td>122</td><td>Ivan Capelli</td><td>3</td></tr><tr><td>418</td><td>Masten Gregory</td><td>3</td></tr><tr><td>87</td><td>Mark Blundell</td><td>3</td></tr><tr><td>826</td><td>Daniil Kvyat</td><td>3</td></tr><tr><td>840</td><td>Lance Stroll</td><td>3</td></tr><tr><td>10</td><td>Timo Glock</td><td>3</td></tr><tr><td>197</td><td>Jean-Pierre Jarier</td><td>3</td></tr><tr><td>590</td><td>Stuart Lewis-Evans</td><td>2</td></tr><tr><td>627</td><td>Louis Rosier</td><td>2</td></tr><tr><td>670</td><td>Onofre Marimón</td><td>2</td></tr><tr><td>131</td><td>Stefano Modena</td><td>2</td></tr><tr><td>233</td><td>Hans-Joachim Stuck</td><td>2</td></tr><tr><td>697</td><td>Felice Bonetto</td><td>2</td></tr><tr><td>252</td><td>Tom Pryce</td><td>2</td></tr><tr><td>848</td><td>Alexander Albon</td><td>2</td></tr><tr><td>723</td><td>Rudi Fischer</td><td>2</td></tr><tr><td>648</td><td>Karl Kling</td><td>2</td></tr><tr><td>658</td><td>Jack McGrath</td><td>2</td></tr><tr><td>620</td><td>Umberto Maglioli</td><td>2</td></tr><tr><td>262</td><td>Jackie Oliver</td><td>2</td></tr><tr><td>50</td><td>Jos Verstappen</td><td>2</td></tr><tr><td>456</td><td>Roy Salvadori</td><td>2</td></tr><tr><td>626</td><td>Robert Manzon</td><td>2</td></tr><tr><td>387</td><td>Mike Parkes</td><td>2</td></tr><tr><td>170</td><td>Teo Fabi</td><td>2</td></tr><tr><td>397</td><td>Peter Arundell</td><td>2</td></tr><tr><td>305</td><td>Mike Hailwood</td><td>2</td></tr><tr><td>63</td><td>Mika Salo</td><td>2</td></tr><tr><td>501</td><td>Harry Schell</td><td>2</td></tr><tr><td>361</td><td>Piers Courage</td><td>2</td></tr><tr><td>482</td><td>Olivier Gendebien</td><td>2</td></tr><tr><td>607</td><td>Cesare Perdisa</td><td>2</td></tr><tr><td>632</td><td>Paul Frère</td><td>1</td></tr><tr><td>312</td><td>Brian Redman</td><td>1</td></tr><tr><td>478</td><td>Hans Herrmann</td><td>1</td></tr><tr><td>686</td><td>Reg Parnell</td><td>1</td></tr><tr><td>374</td><td>Mike Spence</td><td>1</td></tr><tr><td>90</td><td>Roberto Moreno</td><td>1</td></tr><tr><td>656</td><td>Art Cross</td><td>1</td></tr><tr><td>359</td><td>Johnny Servoz-Gavin</td><td>1</td></tr><tr><td>496</td><td>Carlos Menditeguy</td><td>1</td></tr><tr><td>332</td><td>George Follmer</td><td>1</td></tr><tr><td>383</td><td>Bob Anderson</td><td>1</td></tr><tr><td>675</td><td>Manny Ayulo</td><td>1</td></tr><tr><td>127</td><td>Maurício Gugelmin</td><td>1</td></tr><tr><td>314</td><td>Tim Schenken</td><td>1</td></tr><tr><td>541</td><td>Ron Flockhart</td><td>1</td></tr><tr><td>808</td><td>Vitaly Petrov</td><td>1</td></tr><tr><td>11</td><td>Takuma Sato</td><td>1</td></tr><tr><td>401</td><td>Trevor Taylor</td><td>1</td></tr><tr><td>12</td><td>Nelson Piquet Jr.</td><td>1</td></tr><tr><td>435</td><td>Willy Mairesse</td><td>1</td></tr><tr><td>166</td><td>Philippe Streiff</td><td>1</td></tr><tr><td>589</td><td>Louis Chiron</td><td>1</td></tr><tr><td>768</td><td>Mauri Rose</td><td>1</td></tr><tr><td>288</td><td>Mark Donohue</td><td>1</td></tr><tr><td>88</td><td>Aguri Suzuki</td><td>1</td></tr><tr><td>155</td><td>Kamui Kobayashi</td><td>1</td></tr><tr><td>109</td><td>Jyrki Järvilehto</td><td>1</td></tr><tr><td>687</td><td>Peter Whitehead</td><td>1</td></tr><tr><td>33</td><td>Tiago Monteiro</td><td>1</td></tr><tr><td>528</td><td>Don Freeland</td><td>1</td></tr><tr><td>243</td><td>Rolf Stommelen</td><td>1</td></tr><tr><td>673</td><td>Mike Nazaruk</td><td>1</td></tr><tr><td>701</td><td>Bill Holland</td><td>1</td></tr><tr><td>555</td><td>Paul Russo</td><td>1</td></tr><tr><td>340</td><td>John Love</td><td>1</td></tr><tr><td>510</td><td>Paul Goldsmith</td><td>1</td></tr><tr><td>653</td><td>Jimmy Davies</td><td>1</td></tr><tr><td>317</td><td>Reine Wisell</td><td>1</td></tr><tr><td>591</td><td>George Amick</td><td>1</td></tr><tr><td>825</td><td>Kevin Magnussen</td><td>1</td></tr><tr><td>606</td><td>Alfonso de Portago</td><td>1</td></tr><tr><td>512</td><td>Johnny Thomson</td><td>1</td></tr><tr><td>152</td><td>Bruno Giacomelli</td><td>1</td></tr><tr><td>280</td><td>Henri Pescarolo</td><td>1</td></tr><tr><td>37</td><td>Pedro de la Rosa</td><td>1</td></tr><tr><td>802</td><td>Dorino Serafini</td><td>1</td></tr><tr><td>121</td><td>Michael Andretti</td><td>1</td></tr><tr><td>103</td><td>Éric Bernard</td><td>1</td></tr><tr><td>370</td><td>Richard Attwood</td><td>1</td></tr><tr><td>518</td><td>Duane Carter</td><td>1</td></tr><tr><td>477</td><td>Cliff Allison</td><td>1</td></tr><tr><td>376</td><td>Lucien Bianchi</td><td>1</td></tr><tr><td>81</td><td>Gianni Morbidelli</td><td>1</td></tr><tr><td>78</td><td>Nicola Larini</td><td>1</td></tr><tr><td>533</td><td>Johnny Boyd</td><td>1</td></tr><tr><td>529</td><td>Tony Bettenhausen</td><td>1</td></tr></tbody></table></div>"
      ]
     },
     "metadata": {
      "application/vnd.databricks.v1+output": {
       "addedWidgets": {},
       "aggData": [],
       "aggError": "",
       "aggOverflow": false,
       "aggSchema": [],
       "aggSeriesLimitReached": false,
       "aggType": "",
       "arguments": {},
       "columnCustomDisplayInfos": {},
       "data": [
        [
         2,
         "Nick Heidfeld",
         13
        ],
        [
         140,
         "Stefan Johansson",
         12
        ],
        [
         278,
         "Chris Amon",
         11
        ],
        [
         154,
         "Romain Grosjean",
         10
        ],
        [
         158,
         "Eddie Cheever",
         9
        ],
        [
         84,
         "Martin Brundle",
         9
        ],
        [
         554,
         "Jean Behra",
         9
        ],
        [
         633,
         "Luigi Villoresi",
         8
        ],
        [
         110,
         "Andrea de Cesaris",
         5
        ],
        [
         118,
         "Derek Warwick",
         4
        ],
        [
         608,
         "Eugenio Castellotti",
         3
        ],
        [
         408,
         "Tony Maggs",
         3
        ],
        [
         25,
         "Alexander Wurz",
         3
        ],
        [
         122,
         "Ivan Capelli",
         3
        ],
        [
         418,
         "Masten Gregory",
         3
        ],
        [
         87,
         "Mark Blundell",
         3
        ],
        [
         826,
         "Daniil Kvyat",
         3
        ],
        [
         840,
         "Lance Stroll",
         3
        ],
        [
         10,
         "Timo Glock",
         3
        ],
        [
         197,
         "Jean-Pierre Jarier",
         3
        ],
        [
         590,
         "Stuart Lewis-Evans",
         2
        ],
        [
         627,
         "Louis Rosier",
         2
        ],
        [
         670,
         "Onofre Marimón",
         2
        ],
        [
         131,
         "Stefano Modena",
         2
        ],
        [
         233,
         "Hans-Joachim Stuck",
         2
        ],
        [
         697,
         "Felice Bonetto",
         2
        ],
        [
         252,
         "Tom Pryce",
         2
        ],
        [
         848,
         "Alexander Albon",
         2
        ],
        [
         723,
         "Rudi Fischer",
         2
        ],
        [
         648,
         "Karl Kling",
         2
        ],
        [
         658,
         "Jack McGrath",
         2
        ],
        [
         620,
         "Umberto Maglioli",
         2
        ],
        [
         262,
         "Jackie Oliver",
         2
        ],
        [
         50,
         "Jos Verstappen",
         2
        ],
        [
         456,
         "Roy Salvadori",
         2
        ],
        [
         626,
         "Robert Manzon",
         2
        ],
        [
         387,
         "Mike Parkes",
         2
        ],
        [
         170,
         "Teo Fabi",
         2
        ],
        [
         397,
         "Peter Arundell",
         2
        ],
        [
         305,
         "Mike Hailwood",
         2
        ],
        [
         63,
         "Mika Salo",
         2
        ],
        [
         501,
         "Harry Schell",
         2
        ],
        [
         361,
         "Piers Courage",
         2
        ],
        [
         482,
         "Olivier Gendebien",
         2
        ],
        [
         607,
         "Cesare Perdisa",
         2
        ],
        [
         632,
         "Paul Frère",
         1
        ],
        [
         312,
         "Brian Redman",
         1
        ],
        [
         478,
         "Hans Herrmann",
         1
        ],
        [
         686,
         "Reg Parnell",
         1
        ],
        [
         374,
         "Mike Spence",
         1
        ],
        [
         90,
         "Roberto Moreno",
         1
        ],
        [
         656,
         "Art Cross",
         1
        ],
        [
         359,
         "Johnny Servoz-Gavin",
         1
        ],
        [
         496,
         "Carlos Menditeguy",
         1
        ],
        [
         332,
         "George Follmer",
         1
        ],
        [
         383,
         "Bob Anderson",
         1
        ],
        [
         675,
         "Manny Ayulo",
         1
        ],
        [
         127,
         "Maurício Gugelmin",
         1
        ],
        [
         314,
         "Tim Schenken",
         1
        ],
        [
         541,
         "Ron Flockhart",
         1
        ],
        [
         808,
         "Vitaly Petrov",
         1
        ],
        [
         11,
         "Takuma Sato",
         1
        ],
        [
         401,
         "Trevor Taylor",
         1
        ],
        [
         12,
         "Nelson Piquet Jr.",
         1
        ],
        [
         435,
         "Willy Mairesse",
         1
        ],
        [
         166,
         "Philippe Streiff",
         1
        ],
        [
         589,
         "Louis Chiron",
         1
        ],
        [
         768,
         "Mauri Rose",
         1
        ],
        [
         288,
         "Mark Donohue",
         1
        ],
        [
         88,
         "Aguri Suzuki",
         1
        ],
        [
         155,
         "Kamui Kobayashi",
         1
        ],
        [
         109,
         "Jyrki Järvilehto",
         1
        ],
        [
         687,
         "Peter Whitehead",
         1
        ],
        [
         33,
         "Tiago Monteiro",
         1
        ],
        [
         528,
         "Don Freeland",
         1
        ],
        [
         243,
         "Rolf Stommelen",
         1
        ],
        [
         673,
         "Mike Nazaruk",
         1
        ],
        [
         701,
         "Bill Holland",
         1
        ],
        [
         555,
         "Paul Russo",
         1
        ],
        [
         340,
         "John Love",
         1
        ],
        [
         510,
         "Paul Goldsmith",
         1
        ],
        [
         653,
         "Jimmy Davies",
         1
        ],
        [
         317,
         "Reine Wisell",
         1
        ],
        [
         591,
         "George Amick",
         1
        ],
        [
         825,
         "Kevin Magnussen",
         1
        ],
        [
         606,
         "Alfonso de Portago",
         1
        ],
        [
         512,
         "Johnny Thomson",
         1
        ],
        [
         152,
         "Bruno Giacomelli",
         1
        ],
        [
         280,
         "Henri Pescarolo",
         1
        ],
        [
         37,
         "Pedro de la Rosa",
         1
        ],
        [
         802,
         "Dorino Serafini",
         1
        ],
        [
         121,
         "Michael Andretti",
         1
        ],
        [
         103,
         "Éric Bernard",
         1
        ],
        [
         370,
         "Richard Attwood",
         1
        ],
        [
         518,
         "Duane Carter",
         1
        ],
        [
         477,
         "Cliff Allison",
         1
        ],
        [
         376,
         "Lucien Bianchi",
         1
        ],
        [
         81,
         "Gianni Morbidelli",
         1
        ],
        [
         78,
         "Nicola Larini",
         1
        ],
        [
         533,
         "Johnny Boyd",
         1
        ],
        [
         529,
         "Tony Bettenhausen",
         1
        ]
       ],
       "datasetInfos": [],
       "dbfsResultPath": null,
       "isJsonSchema": true,
       "metadata": {},
       "overflow": false,
       "plotOptions": {
        "customPlotOptions": {},
        "displayType": "table",
        "pivotAggregation": null,
        "pivotColumns": null,
        "xColumns": null,
        "yColumns": null
       },
       "removedWidgets": [],
       "schema": [
        {
         "metadata": "{}",
         "name": "driver_id",
         "type": "\"integer\""
        },
        {
         "metadata": "{}",
         "name": "driver_name",
         "type": "\"string\""
        },
        {
         "metadata": "{}",
         "name": "corridas",
         "type": "\"long\""
        }
       ],
       "type": "table"
      }
     },
     "output_type": "display_data"
    }
   ],
   "source": [
    "%sql\n",
    "WITH pilotos_podio AS (\n",
    "SELECT \n",
    "\n",
    "  driver_id,\n",
    "  driver_name,\n",
    "  oficial_position,\n",
    "  result_id\n",
    "\n",
    "FROM gold.f1_analysis\n",
    "WHERE oficial_position <= 3\n",
    ")\n",
    "\n",
    "SELECT \n",
    "  driver_id,\n",
    "  driver_name,    \n",
    "  COUNT(DISTINCT result_id) AS corridas\n",
    "\n",
    " FROM pilotos_podio\n",
    " WHERE driver_id NOT IN (SELECT DISTINCT driver_id FROM gold.f1_analysis WHERE oficial_position = 1)  -- excluindo pilotos que chegaram em primeiro lugar\n",
    "      AND oficial_position <= 3  -- contabilizar apenas segundo e terceiro lugar\n",
    " GROUP BY 1,2\n",
    " ORDER BY COUNT(DISTINCT result_id) DESC"
   ]
  },
  {
   "cell_type": "markdown",
   "metadata": {
    "application/vnd.databricks.v1+cell": {
     "cellMetadata": {
      "byteLimit": 2048000,
      "rowLimit": 10000
     },
     "inputWidgets": {},
     "nuid": "a27b627c-cf34-4c9e-ad9f-7cbb6827af14",
     "showTitle": false,
     "tableResultSettingsMap": {},
     "title": ""
    }
   },
   "source": [
    "Observações sobre os dados:\n",
    "\n",
    "Esta análise mostra o lado mais cruel da Fórmula 1,o limite entre ser um vencedor e um \"eterno quase\".\n",
    "\n",
    "Apenas 4 pilotos ultrapassaram 10 pódios sem vencer.\n",
    "\n",
    "Nick Heidfeld com 13 pódios, o maior número de pódios sem vencer uma única corrida na história.\n",
    "\n"
   ]
  },
  {
   "cell_type": "markdown",
   "metadata": {
    "application/vnd.databricks.v1+cell": {
     "cellMetadata": {
      "byteLimit": 2048000,
      "rowLimit": 10000
     },
     "inputWidgets": {},
     "nuid": "695e754e-b579-4c53-ac9f-d78b08eecf1b",
     "showTitle": false,
     "tableResultSettingsMap": {},
     "title": ""
    }
   },
   "source": [
    "### 5. Autoavaliação "
   ]
  },
  {
   "cell_type": "markdown",
   "metadata": {
    "application/vnd.databricks.v1+cell": {
     "cellMetadata": {
      "byteLimit": 2048000,
      "rowLimit": 10000
     },
     "inputWidgets": {},
     "nuid": "0b0c07f9-5e07-4072-b3b3-9ae3a6b2d4f0",
     "showTitle": false,
     "tableResultSettingsMap": {},
     "title": ""
    }
   },
   "source": [
    "\n",
    "Acredito que tenha conseguido estruturar um pipeline funcional para extração, transformação e carga dos dados, bem como implementar o modelo dimensional com tabelas fatos e dimensões bem definidas e de acordo com a arquitetura medalhão.\n",
    "\n",
    "Esbarrei em desafios na conexão do Kaggle no carregamento das tabelas pelo Databricks, o que só foi possível solucionar com a explicação do prof. Vitor Almeida em um encontro ao vivo, onde compartilhou um notebook com tais configurações.\n",
    "\n",
    "Como feedback, agradeço muito ao apoio e disponibilidade dos professores Vitor e José durante todo o processo do MVP de Engenharia de Dados e sugiro uma inclusão de uma documentação dedicada à configuração do Databricksjá que é a ferramenta recomendada pelo curso, a fim de focar mais no processamento dos dados e menos em configurações técnicas de carga de tabelas, além de padronizar a carga podendo até facilitar o processo de correção dos professores dos MVPs dos alunos.\n",
    "\n",
    "Gostei muito da proposta do MVP e sinto que evoluí bastante nessa sprint.\n"
   ]
  },
  {
   "cell_type": "markdown",
   "metadata": {
    "application/vnd.databricks.v1+cell": {
     "cellMetadata": {
      "byteLimit": 2048000,
      "rowLimit": 10000
     },
     "inputWidgets": {},
     "nuid": "bee008e7-93d6-41ce-94ed-af9e47e35256",
     "showTitle": false,
     "tableResultSettingsMap": {},
     "title": ""
    }
   },
   "source": []
  },
  {
   "cell_type": "markdown",
   "metadata": {
    "application/vnd.databricks.v1+cell": {
     "cellMetadata": {
      "byteLimit": 2048000,
      "rowLimit": 10000
     },
     "inputWidgets": {},
     "nuid": "63f1a096-1cf7-419d-a437-a0fb32c9df99",
     "showTitle": false,
     "tableResultSettingsMap": {},
     "title": ""
    }
   },
   "source": []
  }
 ],
 "metadata": {
  "application/vnd.databricks.v1+notebook": {
   "computePreferences": null,
   "dashboards": [],
   "environmentMetadata": null,
   "inputWidgetPreferences": null,
   "language": "python",
   "notebookMetadata": {
    "mostRecentlyExecutedCommandWithImplicitDF": {
     "commandId": 796703356955240,
     "dataframes": [
      "_sqldf"
     ]
    },
    "pythonIndentUnit": 2
   },
   "notebookName": "mvp_data_engineering",
   "widgets": {}
  }
 },
 "nbformat": 4,
 "nbformat_minor": 0
}